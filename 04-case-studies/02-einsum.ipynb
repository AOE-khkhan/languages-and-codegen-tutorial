{
 "metadata": {
  "name": "",
  "signature": "sha256:66d8a9a468bb6ac2e62f8be27e4e606c108975cb98a984b415be29e87bb1eed0"
 },
 "nbformat": 3,
 "nbformat_minor": 0,
 "worksheets": [
  {
   "cells": [
    {
     "cell_type": "markdown",
     "metadata": {},
     "source": [
      "# Einstein summation in numpy"
     ]
    },
    {
     "cell_type": "markdown",
     "metadata": {},
     "source": [
      "It turns out that `numpy` actually has several more mini-languages embedded in it. This next example is borrowed and slightly generalized from mathematics, where it is called Einstein summation."
     ]
    },
    {
     "cell_type": "markdown",
     "metadata": {},
     "source": [
      "Recall that matrix-matrix multiplication can be expressed by:\n",
      "$$\n",
      "(AB)_{ij} = \\sum_k A_{ik} B_{kj}$$\n",
      "\n",
      "Einstein summation is a relatively natural way of generalizing this to arrays with multiple dimensions. The above matrix-matrix multiplication expression, for example, becomes:\n",
      "\n",
      "$$ A_{ij} = B_{ik} C_{kj}$$\n",
      "\n",
      "Where the implied rule is that repeated indices that are not part of the output will be summed over.\n",
      "\n",
      "numpy simply takes this convention and turns it into a way of expressing array operations:"
     ]
    },
    {
     "cell_type": "code",
     "collapsed": false,
     "input": [
      "#keep\n",
      "import numpy as np"
     ],
     "language": "python",
     "metadata": {},
     "outputs": [],
     "prompt_number": 3
    },
    {
     "cell_type": "code",
     "collapsed": false,
     "input": [
      "A = np.random.randn(15, 20)\n",
      "B = np.random.randn(20, 25)\n",
      "\n",
      "AB1 = A.dot(B)"
     ],
     "language": "python",
     "metadata": {},
     "outputs": [],
     "prompt_number": 4
    },
    {
     "cell_type": "code",
     "collapsed": false,
     "input": [
      "AB2 = np.einsum(\"ik,kj->ij\", A, B)\n",
      "print(np.linalg.norm(AB1 - AB2))"
     ],
     "language": "python",
     "metadata": {},
     "outputs": [
      {
       "output_type": "stream",
       "stream": "stdout",
       "text": [
        "3.22729439922e-15\n"
       ]
      }
     ],
     "prompt_number": 6
    }
   ],
   "metadata": {}
  }
 ]
}