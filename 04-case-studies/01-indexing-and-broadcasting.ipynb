{
  "metadata": {
    "name": "",
    "signature": "sha256:306ab7ed186eb790ef62dda1bf8e1c2e863a155301a3c5df9e7556cd0ddc0921"
  },
  "nbformat": 3,
  "nbformat_minor": 0,
  "worksheets": [
    {
      "cells": [
        {
          "cell_type": "markdown",
          "metadata": {},
          "source": [
            "# Indexing and Broadcasting in Numpy"
          ]
        },
        {
          "cell_type": "markdown",
          "metadata": {},
          "source": [
            "Embedding mini-languages in Python has a long tradition. In this section of the tutorial, we will explore some examples of this practice."
          ]
        },
        {
          "cell_type": "markdown",
          "metadata": {},
          "source": [
            "The first example we will consider is so-called *broadcasting* in numpy. It may look shallow at first sight, but it and its associated operations constitute a considerable subset of the array programming language APL."
          ]
        },
        {
          "cell_type": "code",
          "collapsed": false,
          "input": [
            "import numpy as np"
          ],
          "language": "python",
          "metadata": {},
          "outputs": [],
          "prompt_number": 3
        },
        {
          "cell_type": "code",
          "collapsed": false,
          "input": [
            "a = np.arange(4)\n",
            "b = np.arange(3) * 10\n",
            "print(a)\n",
            "print(b)"
          ],
          "language": "python",
          "metadata": {},
          "outputs": [
            {
              "output_type": "stream",
              "stream": "stdout",
              "text": [
                "[0 1 2 3]\n",
                "[ 0 10 20]\n"
              ]
            }
          ],
          "prompt_number": 4
        },
        {
          "cell_type": "code",
          "collapsed": false,
          "input": [
            "a.reshape(-1, 1).shape"
          ],
          "language": "python",
          "metadata": {},
          "outputs": [
            {
              "metadata": {},
              "output_type": "pyout",
              "prompt_number": 7,
              "text": [
                "(4, 1)"
              ]
            }
          ],
          "prompt_number": 7
        },
        {
          "cell_type": "code",
          "collapsed": false,
          "input": [
            "x = a.reshape(-1, 1) + b\n",
            "x"
          ],
          "language": "python",
          "metadata": {},
          "outputs": [
            {
              "metadata": {},
              "output_type": "pyout",
              "prompt_number": 10,
              "text": [
                "array([[ 0, 10, 20],\n",
                "       [ 1, 11, 21],\n",
                "       [ 2, 12, 22],\n",
                "       [ 3, 13, 23]])"
              ]
            }
          ],
          "prompt_number": 10
        },
        {
          "cell_type": "code",
          "collapsed": false,
          "input": [
            "#clear",
            "np.sum(x, axis=0)"
          ],
          "language": "python",
          "metadata": {},
          "outputs": [
            {
              "metadata": {},
              "output_type": "pyout",
              "prompt_number": 12,
              "text": [
                "array([ 6, 46, 86])"
              ]
            }
          ],
          "prompt_number": 12
        }
      ],
      "metadata": {}
    }
  ]
}