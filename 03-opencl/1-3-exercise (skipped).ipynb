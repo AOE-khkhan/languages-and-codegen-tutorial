{
 "metadata": {
  "name": "",
  "signature": "sha256:0ea021104c16122e98888baae9b18ca0ad0a8edb69fe0a534983a85b5294b256"
 },
 "nbformat": 3,
 "nbformat_minor": 0,
 "worksheets": [
  {
   "cells": [
    {
     "cell_type": "markdown",
     "metadata": {},
     "source": [
      "# PyOpenCL: An exercise"
     ]
    },
    {
     "cell_type": "code",
     "collapsed": false,
     "input": [
      "#keep\n",
      "import pyopencl as cl\n",
      "import numpy as np\n",
      "import numpy.linalg as la\n",
      "import pyopencl.array\n",
      "import pyopencl.clrandom"
     ],
     "language": "python",
     "metadata": {},
     "outputs": [],
     "prompt_number": 1
    },
    {
     "cell_type": "markdown",
     "metadata": {},
     "source": [
      "Change the code below to:\n",
      "    \n",
      "* Compute $c_i = a_ib_i$\n",
      "* Use work groups of $16\\times 16$ items\n",
      "* Benchmark $1\\times 1$ workgroups against $16\\times 16$ workgroups\n",
      "\n",
      "  * Use `time()` from the `time` module. (i.e. `import time`)\n",
      "  * Use `queue.finish()`."
     ]
    },
    {
     "cell_type": "code",
     "collapsed": false,
     "input": [
      "#keep\n",
      "ctx = cl.create_some_context()\n",
      "queue = cl.CommandQueue(ctx)"
     ],
     "language": "python",
     "metadata": {},
     "outputs": [],
     "prompt_number": 2
    },
    {
     "cell_type": "code",
     "collapsed": false,
     "input": [
      "#keep\n",
      "a = np.random.rand(1024, 1024).astype(np.float32)"
     ],
     "language": "python",
     "metadata": {},
     "outputs": [],
     "prompt_number": 3
    },
    {
     "cell_type": "code",
     "collapsed": false,
     "input": [
      "#keep\n",
      "prg = cl.Program(ctx, \"\"\"\n",
      "    __kernel void twice(__global float *a)\n",
      "    {\n",
      "      int gid0 = get_global_id(0);\n",
      "      int gid1 = get_global_id(1);\n",
      "      int i = gid1 * 1024 + gid0;\n",
      "      a[i] = 2*a[i];\n",
      "    }\n",
      "    \"\"\").build()\n",
      "twice = prg.twice"
     ],
     "language": "python",
     "metadata": {},
     "outputs": [],
     "prompt_number": 4
    },
    {
     "cell_type": "code",
     "collapsed": false,
     "input": [
      "#keep\n",
      "a_dev = cl.array.to_device(queue, a)\n",
      "twice(queue, a_dev.shape, None, a_dev.data)"
     ],
     "language": "python",
     "metadata": {},
     "outputs": [
      {
       "metadata": {},
       "output_type": "pyout",
       "prompt_number": 5,
       "text": [
        "<pyopencl.cffi_cl.Event at 0x7f679a3145f8>"
       ]
      }
     ],
     "prompt_number": 5
    },
    {
     "cell_type": "code",
     "collapsed": false,
     "input": [
      "#keep\n",
      "print(la.norm(a_dev.get() - 2*a), la.norm(a))"
     ],
     "language": "python",
     "metadata": {},
     "outputs": [
      {
       "output_type": "stream",
       "stream": "stdout",
       "text": [
        "0.0 591.347\n"
       ]
      }
     ],
     "prompt_number": 6
    },
    {
     "cell_type": "code",
     "collapsed": false,
     "input": [],
     "language": "python",
     "metadata": {},
     "outputs": []
    }
   ],
   "metadata": {}
  }
 ]
}