{
  "metadata": {
    "name": "",
    "signature": "sha256:756678e9f1d6a9004ebf94c6db19912a89a6bd9ef3311c062b9d5764326c5b07"
  },
  "nbformat": 3,
  "nbformat_minor": 0,
  "worksheets": [
    {
      "cells": [
        {
          "cell_type": "markdown",
          "metadata": {},
          "source": [
            "# PyOpenCL: Arrays"
          ]
        },
        {
          "cell_type": "markdown",
          "metadata": {},
          "source": [
            "## Setup code"
          ]
        },
        {
          "cell_type": "code",
          "collapsed": false,
          "input": [
            "import pyopencl as cl\n",
            "import numpy as np\n",
            "import numpy.linalg as la"
          ],
          "language": "python",
          "metadata": {},
          "outputs": [],
          "prompt_number": 1
        },
        {
          "cell_type": "code",
          "collapsed": false,
          "input": [
            "a = np.random.rand(1024, 1024).astype(np.float32)"
          ],
          "language": "python",
          "metadata": {},
          "outputs": [],
          "prompt_number": 2
        },
        {
          "cell_type": "code",
          "collapsed": false,
          "input": [
            "ctx = cl.create_some_context()\n",
            "queue = cl.CommandQueue(ctx)"
          ],
          "language": "python",
          "metadata": {},
          "outputs": [],
          "prompt_number": 3
        },
        {
          "cell_type": "markdown",
          "metadata": {},
          "source": [
            "## Creating arrays"
          ]
        },
        {
          "cell_type": "markdown",
          "metadata": {},
          "source": [
            "This notebook demonstrates working with PyOpenCL's arrays, which provide a friendlier (and more numpy-like) face on OpenCL's buffers. This is the module where they live:"
          ]
        },
        {
          "cell_type": "code",
          "collapsed": false,
          "input": [
            "import pyopencl.array"
          ],
          "language": "python",
          "metadata": {},
          "outputs": [],
          "prompt_number": 4
        },
        {
          "cell_type": "markdown",
          "metadata": {},
          "source": [
            "Now transfer to a *device array*."
          ]
        },
        {
          "cell_type": "code",
          "collapsed": false,
          "input": [
            "#clear",
            "a_dev = cl.array.to_device(queue, a)"
          ],
          "language": "python",
          "metadata": {},
          "outputs": [],
          "prompt_number": 5
        },
        {
          "cell_type": "markdown",
          "metadata": {},
          "source": [
            "Works like a numpy array! (`shape`, `dtype`, `strides`)"
          ]
        },
        {
          "cell_type": "code",
          "collapsed": false,
          "input": [
            "#clear",
            "a_dev.shape"
          ],
          "language": "python",
          "metadata": {},
          "outputs": [
            {
              "metadata": {},
              "output_type": "pyout",
              "prompt_number": 6,
              "text": [
                "(1024, 1024)"
              ]
            }
          ],
          "prompt_number": 6
        },
        {
          "cell_type": "code",
          "collapsed": false,
          "input": [
            "#clear",
            "a_dev.dtype"
          ],
          "language": "python",
          "metadata": {},
          "outputs": [
            {
              "metadata": {},
              "output_type": "pyout",
              "prompt_number": 7,
              "text": [
                "dtype('float32')"
              ]
            }
          ],
          "prompt_number": 7
        },
        {
          "cell_type": "code",
          "collapsed": false,
          "input": [
            "#clear",
            "a_dev.strides"
          ],
          "language": "python",
          "metadata": {},
          "outputs": [
            {
              "metadata": {},
              "output_type": "pyout",
              "prompt_number": 8,
              "text": [
                "(4096, 4)"
              ]
            }
          ],
          "prompt_number": 8
        },
        {
          "cell_type": "markdown",
          "metadata": {},
          "source": [
            "## Working with arrays"
          ]
        },
        {
          "cell_type": "markdown",
          "metadata": {},
          "source": [
            "**Goal:** Wanted to double all entries."
          ]
        },
        {
          "cell_type": "code",
          "collapsed": false,
          "input": [
            "#clear",
            "twice_a_dev = 2*a_dev"
          ],
          "language": "python",
          "metadata": {},
          "outputs": [],
          "prompt_number": 9
        },
        {
          "cell_type": "markdown",
          "metadata": {},
          "source": [
            "Easy to turn back into a `numpy` array."
          ]
        },
        {
          "cell_type": "code",
          "collapsed": false,
          "input": [
            "#clear",
            "twice_a = twice_a_dev.get()"
          ],
          "language": "python",
          "metadata": {},
          "outputs": [],
          "prompt_number": 10
        },
        {
          "cell_type": "markdown",
          "metadata": {},
          "source": [
            "Check!"
          ]
        },
        {
          "cell_type": "code",
          "collapsed": false,
          "input": [
            "#clear",
            "#check\n",
            "print(la.norm(twice_a - 2*a))"
          ],
          "language": "python",
          "metadata": {},
          "outputs": [
            {
              "output_type": "stream",
              "stream": "stdout",
              "text": [
                "0.0\n"
              ]
            }
          ],
          "prompt_number": 12
        },
        {
          "cell_type": "markdown",
          "metadata": {},
          "source": [
            "Can just `print` the array, too."
          ]
        },
        {
          "cell_type": "code",
          "collapsed": false,
          "input": [
            "#clear",
            "print(twice_a_dev)"
          ],
          "language": "python",
          "metadata": {},
          "outputs": [
            {
              "output_type": "stream",
              "stream": "stdout",
              "text": [
                "[[ 0.45063514  1.25913811  0.10170967 ...,  1.38052452  0.45464128\n",
                "   1.52395189]\n",
                " [ 1.65396667  1.72338498  0.80199856 ...,  0.64524269  1.00564325\n",
                "   0.13862719]\n",
                " [ 1.36213672  0.0432039   1.37479746 ...,  0.5632273   1.13196242\n",
                "   1.91092789]\n",
                " ..., \n",
                " [ 1.36576688  1.31865883  0.89605123 ...,  0.63803053  1.20221436\n",
                "   0.63805646]\n",
                " [ 1.50485742  0.4254683   1.32611811 ...,  1.25427306  0.31774497\n",
                "   0.70451695]\n",
                " [ 1.26437032  1.26890802  1.6362865  ...,  1.93974745  0.34652343\n",
                "   1.80210614]]\n"
              ]
            }
          ],
          "prompt_number": 13
        },
        {
          "cell_type": "markdown",
          "metadata": {},
          "source": [
            "----"
          ]
        },
        {
          "cell_type": "markdown",
          "metadata": {},
          "source": [
            "Easy to evaluate arbitrary (elementwise) expressions."
          ]
        },
        {
          "cell_type": "code",
          "collapsed": false,
          "input": [
            "import pyopencl.clmath"
          ],
          "language": "python",
          "metadata": {},
          "outputs": [],
          "prompt_number": 14
        },
        {
          "cell_type": "code",
          "collapsed": false,
          "input": [
            "cl.clmath.sin(a_dev)**2 - (1./a_dev) + 5"
          ],
          "language": "python",
          "metadata": {},
          "outputs": [
            {
              "metadata": {},
              "output_type": "pyout",
              "prompt_number": 15,
              "text": [
                "array([[  0.61173439,   3.75829315, -14.66122818, ...,   3.95671225,\n",
                "          0.65171814,   4.16420889],\n",
                "       [  4.33232307,   4.41549158,   2.65859413, ...,   2.0009141 ,\n",
                "          3.24345064,  -9.42238712],\n",
                "       [  3.92814422, -41.29164886,   3.94786716, ...,   1.52626753,\n",
                "          3.52071476,   4.62019348],\n",
                "       ..., \n",
                "       [  3.93382311,   3.85857034,   2.95563579, ...,   1.96371865,\n",
                "          3.65625668,   1.9638536 ],\n",
                "       [  4.13802481,   0.34387445,   3.87071657, ...,   3.74981856,\n",
                "         -1.26932764,   2.28021336],\n",
                "       [  3.7673583 ,   3.77517986,   4.31044197, ...,   4.64925671,\n",
                "         -0.7418952 ,   4.50481367]], dtype=float32)"
              ]
            }
          ],
          "prompt_number": 15
        },
        {
          "cell_type": "markdown",
          "metadata": {},
          "source": [
            "## Low-level Access\n",
            "\n",
            "Can still do everything manually though!"
          ]
        },
        {
          "cell_type": "code",
          "collapsed": false,
          "input": [
            "prg = cl.Program(ctx, \"\"\"\n",
            "    __kernel void twice(__global float *a)\n",
            "    {\n",
            "      int gid0 = get_global_id(0);\n",
            "      int gid1 = get_global_id(1);\n",
            "      int i = gid1 * 1024 + gid0;\n",
            "      a[i] = 2*a[i];\n",
            "    }\n",
            "    \"\"\").build()\n",
            "twice = prg.twice"
          ],
          "language": "python",
          "metadata": {},
          "outputs": [],
          "prompt_number": 16
        },
        {
          "cell_type": "code",
          "collapsed": false,
          "input": [
            "#clear",
            "twice(queue, a_dev.shape, None, a_dev.data)"
          ],
          "language": "python",
          "metadata": {},
          "outputs": [
            {
              "metadata": {},
              "output_type": "pyout",
              "prompt_number": 17,
              "text": [
                "<pyopencl.cffi_cl.Event at 0x7f156e9a8550>"
              ]
            }
          ],
          "prompt_number": 17
        },
        {
          "cell_type": "code",
          "collapsed": false,
          "input": [
            "print(la.norm(a_dev.get() - 2*a), la.norm(a))"
          ],
          "language": "python",
          "metadata": {},
          "outputs": [
            {
              "output_type": "stream",
              "stream": "stdout",
              "text": [
                "0.0 591.081\n"
              ]
            }
          ],
          "prompt_number": 19
        },
        {
          "cell_type": "markdown",
          "metadata": {},
          "source": [
            "But the hardcoded 1024 is ... inelegant. So fix that!\n",
            "\n",
            "(Also with arg `dtype setting`.)"
          ]
        }
      ],
      "metadata": {}
    }
  ]
}