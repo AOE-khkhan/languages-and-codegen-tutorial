{
  "metadata": {
    "name": "",
    "signature": "sha256:189043b73911807753d17a6b507450954f5f13933252deeda32bfc6046a2b8a8"
  },
  "nbformat": 3,
  "nbformat_minor": 0,
  "worksheets": [
    {
      "cells": [
        {
          "cell_type": "markdown",
          "metadata": {},
          "source": [
            "# PyOpenCL: Experimenting in IPython"
          ]
        },
        {
          "cell_type": "code",
          "collapsed": false,
          "input": [
            "from __future__ import division\n",
            "import numpy as np\n",
            "import pyopencl as cl\n",
            "import pyopencl.array"
          ],
          "language": "python",
          "metadata": {},
          "outputs": []
        },
        {
          "cell_type": "markdown",
          "metadata": {},
          "source": [
            "Load the PyOpenCL IPython extension:"
          ]
        },
        {
          "cell_type": "code",
          "collapsed": false,
          "input": [
            "%load_ext pyopencl.ipython_ext"
          ],
          "language": "python",
          "metadata": {},
          "outputs": [
            {
              "output_type": "stream",
              "stream": "stderr",
              "text": [
                "/usr/lib/python3/dist-packages/IPython/utils/traitlets.py:504: DeprecationWarning: inspect.getargspec() is deprecated, use inspect.signature() instead\n",
                "  argspec = inspect.getargspec(c)\n"
              ]
            }
          ],
          "prompt_number": 2
        },
        {
          "cell_type": "markdown",
          "metadata": {},
          "source": [
            "Create an OpenCL context and a command queue:"
          ]
        },
        {
          "cell_type": "code",
          "collapsed": false,
          "input": [
            "ctx = cl.create_some_context()\n",
            "queue = cl.CommandQueue(ctx)"
          ],
          "language": "python",
          "metadata": {},
          "outputs": [],
          "prompt_number": 3
        },
        {
          "cell_type": "markdown",
          "metadata": {},
          "source": [
            "## Using the kernel 'magic'\n",
            "\n",
            "Define an OpenCL kernel using the `%%cl_kernel` magic:"
          ]
        },
        {
          "cell_type": "code",
          "collapsed": false,
          "input": [
            "%%cl_kernel\n",
            "\n",
            "__kernel void sum_vector(__global const float *a,\n",
            "__global const float *b, __global float *c)\n",
            "{\n",
            "  int gid = get_global_id(0);\n",
            "  c[gid] = a[gid] + b[gid];\n",
            "}"
          ],
          "language": "python",
          "metadata": {},
          "outputs": [],
          "prompt_number": 4
        },
        {
          "cell_type": "markdown",
          "metadata": {},
          "source": [
            "This looks for `cl_ctx` or `ctx` in the user namespace to find a PyOpenCL context.\n",
            "\n",
            "Kernel names are automatically injected into the user namespace, so we can just use `sum_vector` from Python below.\n",
            "\n",
            "Now create some data to work on:"
          ]
        },
        {
          "cell_type": "code",
          "collapsed": false,
          "input": [
            "n = 10000\n",
            "\n",
            "a = cl.array.empty(queue, n, dtype=np.float32)\n",
            "a.fill(15)\n",
            "\n",
            "b_host = np.random.randn(n).astype(np.float32)\n",
            "b = cl.array.to_device(queue, b_host)\n",
            "\n",
            "c = cl.array.empty_like(a)"
          ],
          "language": "python",
          "metadata": {},
          "outputs": [],
          "prompt_number": 5
        },
        {
          "cell_type": "markdown",
          "metadata": {},
          "source": [
            "Run the kernel:"
          ]
        },
        {
          "cell_type": "code",
          "collapsed": false,
          "input": [
            "sum_vector(queue, (n,), None, a.data, b.data, c.data)"
          ],
          "language": "python",
          "metadata": {},
          "outputs": [
            {
              "metadata": {},
              "output_type": "pyout",
              "prompt_number": 6,
              "text": [
                "<pyopencl.cffi_cl.Event at 0x7f48c1df4ba8>"
              ]
            }
          ],
          "prompt_number": 6
        },
        {
          "cell_type": "markdown",
          "metadata": {},
          "source": [
            "Check the result using `numpy` operations:"
          ]
        },
        {
          "cell_type": "code",
          "collapsed": false,
          "input": [
            "assert (c.get() == b_host + 15).all()"
          ],
          "language": "python",
          "metadata": {},
          "outputs": [],
          "prompt_number": 7
        }
      ],
      "metadata": {}
    }
  ]
}