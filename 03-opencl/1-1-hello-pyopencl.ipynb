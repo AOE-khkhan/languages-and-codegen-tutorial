{
  "metadata": {
    "name": "",
    "signature": "sha256:3a2674180b420c9a8f2e37abf784ea0c7426286dfbbd4af5ae1863fd36ff034d"
  },
  "nbformat": 3,
  "nbformat_minor": 0,
  "worksheets": [
    {
      "cells": [
        {
          "cell_type": "markdown",
          "metadata": {},
          "source": [
            "# Hello PyOpenCL"
          ]
        },
        {
          "cell_type": "code",
          "collapsed": false,
          "input": [
            "import pyopencl as cl\n",
            "import numpy as np\n",
            "import numpy.linalg as la\n",
            "\n",
            "mf = cl.mem_flags"
          ],
          "language": "python",
          "metadata": {},
          "outputs": [],
          "prompt_number": 2
        },
        {
          "cell_type": "markdown",
          "metadata": {},
          "source": [
            "This notebook demonstrates the simplest PyOpenCL workflow that touches all essential pieces:\n",
            "\n",
            "* Data transfer\n",
            "* Kernel compilation\n",
            "* Execution"
          ]
        },
        {
          "cell_type": "code",
          "collapsed": false,
          "input": [
            "a = np.random.rand(50000).astype(np.float32)"
          ],
          "language": "python",
          "metadata": {},
          "outputs": [],
          "prompt_number": 3
        },
        {
          "cell_type": "markdown",
          "metadata": {},
          "source": [
            "Now create a context."
          ]
        },
        {
          "cell_type": "code",
          "collapsed": false,
          "input": [
            "#clear",
            "ctx = cl.create_some_context()\n",
            "queue = cl.CommandQueue(ctx)"
          ],
          "language": "python",
          "metadata": {},
          "outputs": [],
          "prompt_number": 4
        },
        {
          "cell_type": "markdown",
          "metadata": {},
          "source": [
            "Now allocate a buffer. `Buffer(context, flags, size=None, hostbuf=None)`"
          ]
        },
        {
          "cell_type": "code",
          "collapsed": false,
          "input": [
            "#clear",
            "a_buf = cl.Buffer(ctx, mf.READ_WRITE, size=a.nbytes)"
          ],
          "language": "python",
          "metadata": {},
          "outputs": [],
          "prompt_number": 5
        },
        {
          "cell_type": "markdown",
          "metadata": {},
          "source": [
            "Then transfer data:"
          ]
        },
        {
          "cell_type": "code",
          "collapsed": false,
          "input": [
            "#clear",
            "cl.enqueue_copy(queue, a_buf, a)"
          ],
          "language": "python",
          "metadata": {},
          "outputs": [
            {
              "metadata": {},
              "output_type": "pyout",
              "prompt_number": 7,
              "text": [
                "<pyopencl.cffi_cl.NannyEvent at 0x7f43e34304e0>"
              ]
            }
          ],
          "prompt_number": 7
        },
        {
          "cell_type": "markdown",
          "metadata": {},
          "source": [
            "Here's our kernel source code:"
          ]
        },
        {
          "cell_type": "code",
          "collapsed": false,
          "input": [
            "prg = cl.Program(ctx, \"\"\"\n",
            "    __kernel void twice(__global float *a)\n",
            "    {\n",
            "      int gid = get_global_id(0);\n",
            "      a[gid] = 2*a[gid];\n",
            "    }\n",
            "    \"\"\").build()"
          ],
          "language": "python",
          "metadata": {},
          "outputs": [],
          "prompt_number": 8
        },
        {
          "cell_type": "markdown",
          "metadata": {},
          "source": [
            "Run the kernel."
          ]
        },
        {
          "cell_type": "code",
          "collapsed": false,
          "input": [
            "#clear",
            "prg.twice(queue, a.shape, None, a_buf)"
          ],
          "language": "python",
          "metadata": {},
          "outputs": [
            {
              "metadata": {},
              "output_type": "pyout",
              "prompt_number": 9,
              "text": [
                "<pyopencl.cffi_cl.Event at 0x7f43e375ecc0>"
              ]
            }
          ],
          "prompt_number": 9
        },
        {
          "cell_type": "markdown",
          "metadata": {},
          "source": [
            "Copy the data back."
          ]
        },
        {
          "cell_type": "code",
          "collapsed": false,
          "input": [
            "#clear",
            "result = np.empty_like(a)\n",
            "cl.enqueue_copy(queue, result, a_buf)"
          ],
          "language": "python",
          "metadata": {},
          "outputs": [
            {
              "metadata": {},
              "output_type": "pyout",
              "prompt_number": 10,
              "text": [
                "<pyopencl.cffi_cl.NannyEvent at 0x7f43e3764588>"
              ]
            }
          ],
          "prompt_number": 10
        },
        {
          "cell_type": "markdown",
          "metadata": {},
          "source": [
            "Check the result."
          ]
        },
        {
          "cell_type": "code",
          "collapsed": false,
          "input": [
            "#clear",
            "print(la.norm(result - 2*a), la.norm(a))"
          ],
          "language": "python",
          "metadata": {},
          "outputs": [
            {
              "output_type": "stream",
              "stream": "stdout",
              "text": [
                "0.0 129.302\n"
              ]
            }
          ],
          "prompt_number": 11
        },
        {
          "cell_type": "code",
          "collapsed": false,
          "input": [],
          "language": "python",
          "metadata": {},
          "outputs": []
        }
      ],
      "metadata": {}
    }
  ]
}