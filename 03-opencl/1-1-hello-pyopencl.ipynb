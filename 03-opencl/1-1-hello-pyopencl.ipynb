{
 "metadata": {
  "name": "",
  "signature": "sha256:d5380d371c8490be549dac63ed111a8d7505611e42f54c5209c03bcabf921cdf"
 },
 "nbformat": 3,
 "nbformat_minor": 0,
 "worksheets": [
  {
   "cells": [
    {
     "cell_type": "code",
     "collapsed": false,
     "input": [
      "#keep\n",
      "import pyopencl as cl\n",
      "import numpy as np\n",
      "import numpy.linalg as la\n",
      "\n",
      "mf = cl.mem_flags"
     ],
     "language": "python",
     "metadata": {},
     "outputs": [],
     "prompt_number": 1
    },
    {
     "cell_type": "code",
     "collapsed": false,
     "input": [
      "#keep\n",
      "a = np.random.rand(50000).astype(np.float32)"
     ],
     "language": "python",
     "metadata": {},
     "outputs": [],
     "prompt_number": 2
    },
    {
     "cell_type": "markdown",
     "metadata": {},
     "source": [
      "Now create a context."
     ]
    },
    {
     "cell_type": "code",
     "collapsed": false,
     "input": [
      "ctx = cl.create_some_context()\n",
      "queue = cl.CommandQueue(ctx)"
     ],
     "language": "python",
     "metadata": {},
     "outputs": [],
     "prompt_number": 3
    },
    {
     "cell_type": "markdown",
     "metadata": {},
     "source": [
      "Now allocate a buffer. `Buffer(context, flags, size=None, hostbuf=None)`"
     ]
    },
    {
     "cell_type": "code",
     "collapsed": false,
     "input": [
      "a_buf = cl.Buffer(ctx, mf.READ_WRITE | mf.COPY_HOST_PTR, hostbuf=a)"
     ],
     "language": "python",
     "metadata": {},
     "outputs": [],
     "prompt_number": 4
    },
    {
     "cell_type": "code",
     "collapsed": false,
     "input": [
      "#keep\n",
      "prg = cl.Program(ctx, \"\"\"\n",
      "    __kernel void twice(__global float *a)\n",
      "    {\n",
      "      int gid = get_global_id(0);\n",
      "      a[gid] = 2*a[gid];\n",
      "    }\n",
      "    \"\"\").build()"
     ],
     "language": "python",
     "metadata": {},
     "outputs": [],
     "prompt_number": 5
    },
    {
     "cell_type": "markdown",
     "metadata": {},
     "source": [
      "Run the kernel."
     ]
    },
    {
     "cell_type": "code",
     "collapsed": false,
     "input": [
      "prg.twice(queue, a.shape, None, a_buf)"
     ],
     "language": "python",
     "metadata": {},
     "outputs": [
      {
       "metadata": {},
       "output_type": "pyout",
       "prompt_number": 6,
       "text": [
        "<pyopencl.cffi_cl.Event at 0x7f70692cdc88>"
       ]
      }
     ],
     "prompt_number": 6
    },
    {
     "cell_type": "markdown",
     "metadata": {},
     "source": [
      "Copy the data back."
     ]
    },
    {
     "cell_type": "code",
     "collapsed": false,
     "input": [
      "result = np.empty_like(a)\n",
      "cl.enqueue_copy(queue, result, a_buf)"
     ],
     "language": "python",
     "metadata": {},
     "outputs": [
      {
       "metadata": {},
       "output_type": "pyout",
       "prompt_number": 7,
       "text": [
        "<pyopencl.cffi_cl.NannyEvent at 0x7f70680a59b0>"
       ]
      }
     ],
     "prompt_number": 7
    },
    {
     "cell_type": "markdown",
     "metadata": {},
     "source": [
      "Check the result."
     ]
    },
    {
     "cell_type": "code",
     "collapsed": false,
     "input": [
      "print(la.norm(result - 2*a), la.norm(a))"
     ],
     "language": "python",
     "metadata": {},
     "outputs": [
      {
       "output_type": "stream",
       "stream": "stdout",
       "text": [
        "0.0 129.071\n"
       ]
      }
     ],
     "prompt_number": 9
    },
    {
     "cell_type": "code",
     "collapsed": false,
     "input": [],
     "language": "python",
     "metadata": {},
     "outputs": []
    }
   ],
   "metadata": {}
  }
 ]
}