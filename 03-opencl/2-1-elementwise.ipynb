{
  "metadata": {
    "name": "",
    "signature": "sha256:945508e4a155df822901ca88905ae6d2845d4193eec738391b9586516e1db32a"
  },
  "nbformat": 3,
  "nbformat_minor": 0,
  "worksheets": [
    {
      "cells": [
        {
          "cell_type": "markdown",
          "metadata": {},
          "source": [
            "# PyOpenCL Parallel Patterns: Map/Elementwise"
          ]
        },
        {
          "cell_type": "markdown",
          "metadata": {},
          "source": [
            "## Setup code"
          ]
        },
        {
          "cell_type": "code",
          "collapsed": false,
          "input": [
            "import pyopencl as cl\n",
            "import pyopencl.array\n",
            "import pyopencl.clrandom\n",
            "import numpy as np"
          ],
          "language": "python",
          "metadata": {},
          "outputs": [],
          "prompt_number": 1
        },
        {
          "cell_type": "code",
          "collapsed": false,
          "input": [
            "ctx = cl.create_some_context()\n",
            "queue = cl.CommandQueue(ctx)"
          ],
          "language": "python",
          "metadata": {},
          "outputs": [],
          "prompt_number": 2
        },
        {
          "cell_type": "code",
          "collapsed": false,
          "input": [
            "n = 10**7\n",
            "a = cl.clrandom.rand(queue, n, np.float32)\n",
            "b = cl.clrandom.rand(queue, n, np.float32)"
          ],
          "language": "python",
          "metadata": {},
          "outputs": [],
          "prompt_number": 3
        },
        {
          "cell_type": "markdown",
          "metadata": {},
          "source": [
            "## A simple 'target application'"
          ]
        },
        {
          "cell_type": "markdown",
          "metadata": {},
          "source": [
            "We would like to evaluate this linear combination:"
          ]
        },
        {
          "cell_type": "code",
          "collapsed": false,
          "input": [
            "c1 = 5*a + 6*b"
          ],
          "language": "python",
          "metadata": {},
          "outputs": [],
          "prompt_number": 4
        },
        {
          "cell_type": "markdown",
          "metadata": {},
          "source": [
            "A problem with this is that every single operator (all three of them--and easily more for complicated expressions) corresponds to a kernel call, which can lead to high overhead. Let's try and avoid that by stuffing the entire operation into one kernel, in turn saving lots of memory traffic:"
          ]
        },
        {
          "cell_type": "code",
          "collapsed": false,
          "input": [
            "from pyopencl.elementwise import ElementwiseKernel"
          ],
          "language": "python",
          "metadata": {},
          "outputs": [],
          "prompt_number": 5
        },
        {
          "cell_type": "code",
          "collapsed": false,
          "input": [
            "#clear",
            "lin_comb = ElementwiseKernel(ctx,\n",
            "        \"float a, float *x, float b, float *y, float *c\",\n",
            "        \"c[i] = a*x[i] + b*y[i]\")"
          ],
          "language": "python",
          "metadata": {},
          "outputs": [],
          "prompt_number": 6
        },
        {
          "cell_type": "code",
          "collapsed": false,
          "input": [
            "c2 = cl.array.empty_like(a)\n",
            "lin_comb(5, a, 6, b, c2)"
          ],
          "language": "python",
          "metadata": {},
          "outputs": [
            {
              "metadata": {},
              "output_type": "pyout",
              "prompt_number": 7,
              "text": [
                "<pyopencl.cffi_cl.Event at 0x7f859c0d0fd0>"
              ]
            }
          ],
          "prompt_number": 7
        },
        {
          "cell_type": "code",
          "collapsed": false,
          "input": [
            "import numpy.linalg as la\n",
            "print(la.norm(c1.get() - c2.get()))"
          ],
          "language": "python",
          "metadata": {},
          "outputs": [
            {
              "output_type": "stream",
              "stream": "stdout",
              "text": [
                "0.0\n"
              ]
            }
          ],
          "prompt_number": 8
        },
        {
          "cell_type": "markdown",
          "metadata": {},
          "source": [
            "## Timing ElementwiseKernel\n",
            "\n",
            "Did this optimization pay off?"
          ]
        },
        {
          "cell_type": "code",
          "collapsed": false,
          "input": [
            "from time import time\n",
            "queue.finish()\n",
            "start_time = time()\n",
            "\n",
            "for i in range(10):\n",
            "    c1 = 5*a + 6*b\n",
            "    \n",
            "queue.finish()\n",
            "print(\"elapsed: {0} s\".format(time()-start_time))"
          ],
          "language": "python",
          "metadata": {},
          "outputs": [
            {
              "output_type": "stream",
              "stream": "stdout",
              "text": [
                "elapsed: 5.775973320007324 s\n"
              ]
            }
          ],
          "prompt_number": 11
        },
        {
          "cell_type": "code",
          "collapsed": false,
          "input": [
            "from time import time\n",
            "queue.finish()\n",
            "start_time = time()\n",
            "\n",
            "for i in range(10):\n",
            "    lin_comb(5, a, 6, b, c2)\n",
            "    \n",
            "queue.finish()\n",
            "print(\"elapsed: {0} s\".format(time()-start_time))"
          ],
          "language": "python",
          "metadata": {},
          "outputs": [
            {
              "output_type": "stream",
              "stream": "stdout",
              "text": [
                "elapsed: 2.476457357406616 s\n"
              ]
            }
          ],
          "prompt_number": 12
        },
        {
          "cell_type": "code",
          "collapsed": false,
          "input": [],
          "language": "python",
          "metadata": {},
          "outputs": []
        }
      ],
      "metadata": {}
    }
  ]
}