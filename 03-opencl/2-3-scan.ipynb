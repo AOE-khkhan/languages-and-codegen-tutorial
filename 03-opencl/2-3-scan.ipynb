{
 "metadata": {
  "name": "",
  "signature": "sha256:faa4e7751a9230fac4dccb065466c51341e36b4cafca6c632c942a6ef5b57369"
 },
 "nbformat": 3,
 "nbformat_minor": 0,
 "worksheets": [
  {
   "cells": [
    {
     "cell_type": "markdown",
     "metadata": {},
     "source": [
      "# PyOpenCL Parallel Patterns: Scan/Prefix Sum\n",
      "\n",
      "## Setup Code"
     ]
    },
    {
     "cell_type": "code",
     "collapsed": false,
     "input": [
      "#keep\n",
      "import pyopencl as cl\n",
      "import pyopencl.array\n",
      "import pyopencl.clrandom\n",
      "import numpy as np\n",
      "import numpy.linalg as la"
     ],
     "language": "python",
     "metadata": {},
     "outputs": [],
     "prompt_number": 1
    },
    {
     "cell_type": "code",
     "collapsed": false,
     "input": [
      "#keep\n",
      "ctx = cl.create_some_context()\n",
      "queue = cl.CommandQueue(ctx)"
     ],
     "language": "python",
     "metadata": {},
     "outputs": [],
     "prompt_number": 2
    },
    {
     "cell_type": "code",
     "collapsed": false,
     "input": [
      "#keep\n",
      "n = 10**7\n",
      "x = cl.clrandom.rand(queue, n, np.float64)"
     ],
     "language": "python",
     "metadata": {},
     "outputs": [],
     "prompt_number": 3
    },
    {
     "cell_type": "markdown",
     "metadata": {},
     "source": [
      "## Setting up the kernel: Compute the prefix sum of squares\n",
      "\n",
      "Want to compute the prefix sum of the squares of all entries in `x`.\n",
      "\n",
      "First, using `numpy`, as `result1`:"
     ]
    },
    {
     "cell_type": "code",
     "collapsed": false,
     "input": [
      "result1 = np.cumsum(x.get()**2)"
     ],
     "language": "python",
     "metadata": {},
     "outputs": [],
     "prompt_number": 4
    },
    {
     "cell_type": "markdown",
     "metadata": {},
     "source": [
      "Then, using PyOpenCL:"
     ]
    },
    {
     "cell_type": "code",
     "collapsed": false,
     "input": [
      "#keep\n",
      "from pyopencl.scan import GenericScanKernel"
     ],
     "language": "python",
     "metadata": {},
     "outputs": [],
     "prompt_number": 5
    },
    {
     "cell_type": "markdown",
     "metadata": {},
     "source": [
      "Syntax:\n",
      "    \n",
      "GSK(context, dtype, arguments, input_expr, scan_expr, neutral, output_statement)"
     ]
    },
    {
     "cell_type": "code",
     "collapsed": false,
     "input": [
      "sknl = GenericScanKernel(ctx, np.float64,\n",
      "    arguments=\"double *y, double *x\",\n",
      "    input_expr=\"x[i]*x[i]\",\n",
      "    scan_expr=\"a+b\", neutral=\"0\",\n",
      "    output_statement=\"y[i] = item\")"
     ],
     "language": "python",
     "metadata": {},
     "outputs": [],
     "prompt_number": 6
    },
    {
     "cell_type": "code",
     "collapsed": false,
     "input": [
      "#keep\n",
      "result2 = cl.array.empty_like(x)\n",
      "sknl(result2, x)"
     ],
     "language": "python",
     "metadata": {},
     "outputs": [
      {
       "metadata": {},
       "output_type": "pyout",
       "prompt_number": 7,
       "text": [
        "<pyopencl.cffi_cl.Event at 0x7fd522cd9518>"
       ]
      }
     ],
     "prompt_number": 7
    },
    {
     "cell_type": "markdown",
     "metadata": {},
     "source": [
      "## Testing the outcome"
     ]
    },
    {
     "cell_type": "code",
     "collapsed": false,
     "input": [
      "#keep\n",
      "print(la.norm(result2.get() - result1))"
     ],
     "language": "python",
     "metadata": {},
     "outputs": [
      {
       "output_type": "stream",
       "stream": "stdout",
       "text": [
        "0.000172238804692\n"
       ]
      }
     ],
     "prompt_number": 8
    },
    {
     "cell_type": "markdown",
     "metadata": {},
     "source": [
      "More features:\n",
      "\n",
      "* Segmented Scan\n",
      "* Output stencils\n",
      "* Works on structured types"
     ]
    },
    {
     "cell_type": "markdown",
     "metadata": {},
     "source": [
      "## Exercise\n",
      "\n",
      "* Assume you have a bag of points $x_i\\in[0,1]^2$\n",
      "* Work out how to sort them by quadrants, using four scans (one for each quadrant) and otherwise only local (elementwise) operations.\n",
      "* Do this using `numpy`, no need to use PyOpenCL"
     ]
    }
   ],
   "metadata": {}
  }
 ]
}