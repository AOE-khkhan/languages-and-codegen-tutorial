{
  "metadata": {
    "name": "",
    "signature": "sha256:b9d5f79e55197798e613413f7ef495ef5f1ea5a3c6a9c3dd08c7e9f4d3a033d1"
  },
  "nbformat": 3,
  "nbformat_minor": 0,
  "worksheets": [
    {
      "cells": [
        {
          "cell_type": "markdown",
          "metadata": {},
          "source": [
            "# PyOpenCL Parallel Patterns: Scan/Prefix Sum\n",
            "\n",
            "## Setup Code"
          ]
        },
        {
          "cell_type": "code",
          "collapsed": false,
          "input": [
            "import pyopencl as cl\n",
            "import pyopencl.array\n",
            "import pyopencl.clrandom\n",
            "import numpy as np\n",
            "import numpy.linalg as la"
          ],
          "language": "python",
          "metadata": {},
          "outputs": [],
          "prompt_number": 1
        },
        {
          "cell_type": "code",
          "collapsed": false,
          "input": [
            "ctx = cl.create_some_context()\n",
            "queue = cl.CommandQueue(ctx)"
          ],
          "language": "python",
          "metadata": {},
          "outputs": [],
          "prompt_number": 2
        },
        {
          "cell_type": "code",
          "collapsed": false,
          "input": [
            "n = 10**7\n",
            "x = cl.clrandom.rand(queue, n, np.float64)"
          ],
          "language": "python",
          "metadata": {},
          "outputs": [],
          "prompt_number": 3
        },
        {
          "cell_type": "markdown",
          "metadata": {},
          "source": [
            "## Setting up the kernel: Compute the prefix sum of squares\n",
            "\n",
            "Want to compute the prefix sum of the squares of all entries in `x`.\n",
            "\n",
            "First, using `numpy`, as `result1`:"
          ]
        },
        {
          "cell_type": "code",
          "collapsed": false,
          "input": [
            "#clear",
            "result1 = np.cumsum(x.get()**2)"
          ],
          "language": "python",
          "metadata": {},
          "outputs": [],
          "prompt_number": 4
        },
        {
          "cell_type": "markdown",
          "metadata": {},
          "source": [
            "Then, using PyOpenCL:"
          ]
        },
        {
          "cell_type": "code",
          "collapsed": false,
          "input": [
            "from pyopencl.scan import GenericScanKernel"
          ],
          "language": "python",
          "metadata": {},
          "outputs": [],
          "prompt_number": 5
        },
        {
          "cell_type": "markdown",
          "metadata": {},
          "source": [
            "Syntax:\n",
            "    \n",
            "GSK(context, dtype, arguments, input_expr, scan_expr using `a` and `b`, neutral, output_statement with `item`)"
          ]
        },
        {
          "cell_type": "code",
          "collapsed": false,
          "input": [
            "#clear",
            "sknl = GenericScanKernel(ctx, np.float64,\n",
            "    arguments=\"double *y, double *x\",\n",
            "    input_expr=\"x[i]*x[i]\",\n",
            "    scan_expr=\"a+b\", neutral=\"0\",\n",
            "    output_statement=\"y[i] = item\")"
          ],
          "language": "python",
          "metadata": {},
          "outputs": [],
          "prompt_number": 6
        },
        {
          "cell_type": "code",
          "collapsed": false,
          "input": [
            "result2 = cl.array.empty_like(x)\n",
            "sknl(result2, x)"
          ],
          "language": "python",
          "metadata": {},
          "outputs": [
            {
              "metadata": {},
              "output_type": "pyout",
              "prompt_number": 7,
              "text": [
                "<pyopencl.cffi_cl.Event at 0x7fd522cd9518>"
              ]
            }
          ],
          "prompt_number": 7
        },
        {
          "cell_type": "markdown",
          "metadata": {},
          "source": [
            "## Testing the outcome"
          ]
        },
        {
          "cell_type": "code",
          "collapsed": false,
          "input": [
            "print(la.norm(result2.get() - result1))"
          ],
          "language": "python",
          "metadata": {},
          "outputs": [
            {
              "output_type": "stream",
              "stream": "stdout",
              "text": [
                "0.000172238804692\n"
              ]
            }
          ],
          "prompt_number": 8
        },
        {
          "cell_type": "markdown",
          "metadata": {},
          "source": [
            "More features:\n",
            "\n",
            "* Segmented Scan\n",
            "* Output stencils\n",
            "* Works on structured types"
          ]
        }
      ],
      "metadata": {}
    }
  ]
}