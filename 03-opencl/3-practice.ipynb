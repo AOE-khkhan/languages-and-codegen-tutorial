{
 "cells": [
  {
   "cell_type": "markdown",
   "metadata": {},
   "source": [
    "# Practice: Generating a Simple Kernel\n",
    "\n",
    "The purpose of this practice problem is to generate a simple kernel that applies a user-supplied expression to every entry of an array. Implement a class `ExpressionKernel` that can be used as shown in the test at the end of this notebook."
   ]
  },
  {
   "cell_type": "code",
   "execution_count": 12,
   "metadata": {
    "collapsed": false
   },
   "outputs": [],
   "source": [
    "import numpy as np\n",
    "import numpy.linalg as la\n",
    "\n",
    "import pyopencl as cl\n",
    "import pyopencl.array\n",
    "import pyopencl.clmath\n",
    "import pyopencl.clrandom"
   ]
  },
  {
   "cell_type": "code",
   "execution_count": 19,
   "metadata": {
    "collapsed": false
   },
   "outputs": [],
   "source": [
    "\n",
    "class ExpressionKernel:\n",
    "    def __init__(self, cl_context, expression):\n",
    "        # ...\n",
    "        pass\n",
    "    \n",
    "    def __call__(self, queue, ary):\n",
    "        # ...\n",
    "        pass"
   ]
  },
  {
   "cell_type": "code",
   "execution_count": 41,
   "metadata": {
    "collapsed": false
   },
   "outputs": [],
   "source": [
    "#clear\n",
    "# Solution\n",
    "\n",
    "\n",
    "\n",
    "class ExpressionKernel:\n",
    "\n",
    "    def __init__(self, cl_context, expression):\n",
    "\n",
    "        src = \"\"\"\n",
    "\n",
    "            kernel void apply(__global double *out, global double *in)\n",
    "\n",
    "            {\n",
    "\n",
    "                int i = get_global_id(0);\n",
    "\n",
    "                double x = in[i];\n",
    "\n",
    "                out[i] = RESULT;\n",
    "\n",
    "            }\n",
    "\n",
    "            \"\"\"\n",
    "\n",
    "        from pymbolic.mapper.c_code import CCodeMapper\n",
    "\n",
    "        ccm = CCodeMapper()\n",
    "\n",
    "        src = src.replace(\"RESULT\", ccm(expression))\n",
    "\n",
    "        self.prg = cl.Program(cl_context, src).build()\n",
    "\n",
    "        self.knl = self.prg.apply\n",
    "\n",
    "    \n",
    "\n",
    "    def __call__(self, queue, ary):\n",
    "\n",
    "        result = cl.array.empty_like(ary)\n",
    "\n",
    "        self.knl(queue, ary.shape, None, result.data, ary.data)\n",
    "\n",
    "        return result"
   ]
  },
  {
   "cell_type": "markdown",
   "metadata": {},
   "source": [
    "To test our implementation, we create a context and an array full of random numbers:"
   ]
  },
  {
   "cell_type": "code",
   "execution_count": 42,
   "metadata": {
    "collapsed": false
   },
   "outputs": [],
   "source": [
    "cl_context = cl.create_some_context()\n",
    "queue = cl.CommandQueue(cl_context)\n",
    "\n",
    "ary = cl.clrandom.rand(queue, 500, dtype=np.float64)"
   ]
  },
  {
   "cell_type": "code",
   "execution_count": 43,
   "metadata": {
    "collapsed": false
   },
   "outputs": [
    {
     "name": "stdout",
     "output_type": "stream",
     "text": [
      "1.20289283281e-15\n"
     ]
    }
   ],
   "source": [
    "\n",
    "from pymbolic import var\n",
    "\n",
    "x = var(\"x\")\n",
    "eknl = ExpressionKernel(cl_context, var(\"sqrt\")(1-x**2))\n",
    "\n",
    "result = eknl(queue, ary)\n",
    "\n",
    "diff = result - cl.clmath.sqrt(1-ary**2)\n",
    "print(la.norm(diff.get()))"
   ]
  }
 ],
 "metadata": {},
 "nbformat": 4,
 "nbformat_minor": 0
}