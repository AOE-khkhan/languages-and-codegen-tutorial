{
  "metadata": {
    "name": "",
    "signature": "sha256:08f1b5a289d16da0f9e8e441e87dcb4e24c1b079485a6814956ed513f6d54cfd"
  },
  "nbformat": 3,
  "nbformat_minor": 0,
  "worksheets": [
    {
      "cells": [
        {
          "cell_type": "markdown",
          "metadata": {},
          "source": [
            "# Practice: Generating a Simple Kernel\n",
            "\n",
            "The purpose of this practice problem is to generate a simple kernel that applies a user-supplied expression to every entry of an array. Implement a class `ExpressionKernel` that can be used as shown in the test at the end of this notebook."
          ]
        },
        {
          "cell_type": "code",
          "collapsed": false,
          "input": [
            "import numpy as np\n",
            "import numpy.linalg as la\n",
            "\n",
            "import pyopencl as cl\n",
            "import pyopencl.array\n",
            "import pyopencl.clmath\n",
            "import pyopencl.clrandom"
          ],
          "language": "python",
          "metadata": {},
          "outputs": [],
          "prompt_number": 12
        },
        {
          "cell_type": "code",
          "collapsed": false,
          "input": [
            "\n",
            "class ExpressionKernel:\n",
            "    def __init__(self, cl_context, expression):\n",
            "        # ...\n",
            "        pass\n",
            "    \n",
            "    def __call__(self, queue, ary):\n",
            "        # ...\n",
            "        pass"
          ],
          "language": "python",
          "metadata": {},
          "outputs": [],
          "prompt_number": 19
        },
        {
          "cell_type": "code",
          "collapsed": false,
          "input": [
            "#clear",
            "# Solution\n",
            "\n",
            "class ExpressionKernel:\n",
            "    def __init__(self, cl_context, expression):\n",
            "        src = \"\"\"\n",
            "            kernel void apply(__global double *out, global double *in)\n",
            "            {\n",
            "                int i = get_global_id(0);\n",
            "                double x = in[i];\n",
            "                out[i] = RESULT;\n",
            "            }\n",
            "            \"\"\"\n",
            "        from pymbolic.mapper.c_code import CCodeMapper\n",
            "        ccm = CCodeMapper()\n",
            "        src = src.replace(\"RESULT\", ccm(expression))\n",
            "        self.prg = cl.Program(cl_context, src).build()\n",
            "        self.knl = self.prg.apply\n",
            "    \n",
            "    def __call__(self, queue, ary):\n",
            "        result = cl.array.empty_like(ary)\n",
            "        self.knl(queue, ary.shape, None, result.data, ary.data)\n",
            "        return result"
          ],
          "language": "python",
          "metadata": {},
          "outputs": [],
          "prompt_number": 41
        },
        {
          "cell_type": "markdown",
          "metadata": {},
          "source": [
            "To test our implementation, we create a context and an array full of random numbers:"
          ]
        },
        {
          "cell_type": "code",
          "collapsed": false,
          "input": [
            "cl_context = cl.create_some_context()\n",
            "queue = cl.CommandQueue(cl_context)\n",
            "\n",
            "ary = cl.clrandom.rand(queue, 500, dtype=np.float64)"
          ],
          "language": "python",
          "metadata": {},
          "outputs": [],
          "prompt_number": 42
        },
        {
          "cell_type": "code",
          "collapsed": false,
          "input": [
            "\n",
            "from pymbolic import var\n",
            "\n",
            "x = var(\"x\")\n",
            "eknl = ExpressionKernel(cl_context, var(\"sqrt\")(1-x**2))\n",
            "\n",
            "result = eknl(queue, ary)\n",
            "\n",
            "diff = result - cl.clmath.sqrt(1-ary**2)\n",
            "print(la.norm(diff.get()))"
          ],
          "language": "python",
          "metadata": {},
          "outputs": [
            {
              "output_type": "stream",
              "stream": "stdout",
              "text": [
                "1.20289283281e-15\n"
              ]
            }
          ],
          "prompt_number": 43
        }
      ],
      "metadata": {}
    }
  ]
}