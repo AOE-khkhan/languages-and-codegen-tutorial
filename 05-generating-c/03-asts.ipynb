{
 "metadata": {
  "name": "",
  "signature": "sha256:eecb699078c28c4af278d719b063b9dc715fe2af870d827a9d9287e0a8ada2da"
 },
 "nbformat": 3,
 "nbformat_minor": 0,
 "worksheets": [
  {
   "cells": [
    {
     "cell_type": "code",
     "collapsed": false,
     "input": [
      "#keep\n",
      "from cgen import *"
     ],
     "language": "python",
     "metadata": {},
     "outputs": [],
     "prompt_number": 6
    },
    {
     "cell_type": "code",
     "collapsed": false,
     "input": [
      "#keep\n",
      "func = FunctionBody(\n",
      "    FunctionDeclaration(Const(Pointer(Value(\"char\", \"greet\"))), []),\n",
      "    Block([Statement('return \"hello world\"')])\n",
      "    )"
     ],
     "language": "python",
     "metadata": {},
     "outputs": [],
     "prompt_number": 5
    },
    {
     "cell_type": "code",
     "collapsed": false,
     "input": [
      "#keep\n",
      "print func"
     ],
     "language": "python",
     "metadata": {},
     "outputs": [
      {
       "output_type": "stream",
       "stream": "stdout",
       "text": [
        "char const *greet()\n",
        "{\n",
        "  return \"hello world\";\n",
        "}\n"
       ]
      }
     ],
     "prompt_number": 4
    }
   ],
   "metadata": {}
  }
 ]
}