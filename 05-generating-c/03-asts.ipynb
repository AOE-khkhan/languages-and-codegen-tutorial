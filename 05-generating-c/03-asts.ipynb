{
 "metadata": {
  "name": "",
  "signature": "sha256:716d01b793fac9c66e2baf576098a56fcf4996fb4a3155292871cad30cc61869"
 },
 "nbformat": 3,
 "nbformat_minor": 0,
 "worksheets": [
  {
   "cells": [
    {
     "cell_type": "markdown",
     "metadata": {},
     "source": [
      "# Generating Code by building a Syntax Tree"
     ]
    },
    {
     "cell_type": "markdown",
     "metadata": {},
     "source": [
      "The last, most structured alternative for generating code is to construct the tree data structure representing the syntax, and then transforming this back into source code form.\n",
      "\n",
      "This approach to code generation is perhaps the most applicable to the programmatic generation of code, and less the generation directly by a user."
     ]
    },
    {
     "cell_type": "code",
     "collapsed": false,
     "input": [
      "#keep\n",
      "from cgen import *"
     ],
     "language": "python",
     "metadata": {},
     "outputs": [],
     "prompt_number": 5
    },
    {
     "cell_type": "code",
     "collapsed": false,
     "input": [
      "#keep\n",
      "func = FunctionBody(\n",
      "    FunctionDeclaration(Const(Pointer(Value(\"char\", \"greet\"))), []),\n",
      "    Block([Statement('return \"hello world\"')])\n",
      "    )"
     ],
     "language": "python",
     "metadata": {},
     "outputs": [],
     "prompt_number": 6
    },
    {
     "cell_type": "code",
     "collapsed": false,
     "input": [
      "#keep\n",
      "print(func)"
     ],
     "language": "python",
     "metadata": {},
     "outputs": [
      {
       "output_type": "stream",
       "stream": "stdout",
       "text": [
        "char const *greet()\n",
        "{\n",
        "  return \"hello world\";\n",
        "}\n"
       ]
      }
     ],
     "prompt_number": 8
    },
    {
     "cell_type": "code",
     "collapsed": false,
     "input": [],
     "language": "python",
     "metadata": {},
     "outputs": []
    }
   ],
   "metadata": {}
  }
 ]
}