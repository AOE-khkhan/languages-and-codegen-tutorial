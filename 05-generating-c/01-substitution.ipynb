{
 "metadata": {
  "name": "",
  "signature": "sha256:02b764722017ec0733a00b8b123ebe1b2f8fb5e4e5dc56945b579f85cb13c7fd"
 },
 "nbformat": 3,
 "nbformat_minor": 0,
 "worksheets": [
  {
   "cells": [
    {
     "cell_type": "code",
     "collapsed": false,
     "input": [
      "#keep\n",
      "kernel = r\"\"\"\n",
      "    __kernel void {name}({arguments})\n",
      "    {{\n",
      "      int lid = get_local_id(0);\n",
      "      int gsize = get_global_size(0);\n",
      "      int work_group_start = get_local_size(0)*get_group_id(0);\n",
      "      long i;\n",
      "\n",
      "      for (i = work_group_start + lid; i < n; i += gsize)\n",
      "      {{\n",
      "        {operation};\n",
      "      }}\n",
      "    }}\n",
      "\"\"\""
     ],
     "language": "python",
     "metadata": {},
     "outputs": [],
     "prompt_number": 9
    },
    {
     "cell_type": "code",
     "collapsed": false,
     "input": [
      "#keep\n",
      "print kernel.format(\n",
      "    name=\"scale\",\n",
      "    arguments=\"float *y, float a, float *x\",\n",
      "    operation=\"y[i] = a*x[i]\"\n",
      ")"
     ],
     "language": "python",
     "metadata": {},
     "outputs": [
      {
       "output_type": "stream",
       "stream": "stdout",
       "text": [
        "\n",
        "    __kernel void scale(float *y, float a, float *x)\n",
        "    {\n",
        "      int lid = get_local_id(0);\n",
        "      int gsize = get_global_size(0);\n",
        "      int work_group_start = get_local_size(0)*get_group_id(0);\n",
        "      long i;\n",
        "\n",
        "      for (i = work_group_start + lid; i < n; i += gsize)\n",
        "      {\n",
        "        y[i] = a*x[i];\n",
        "      }\n",
        "    }\n",
        "\n"
       ]
      }
     ],
     "prompt_number": 10
    },
    {
     "cell_type": "code",
     "collapsed": false,
     "input": [],
     "language": "python",
     "metadata": {},
     "outputs": []
    }
   ],
   "metadata": {}
  }
 ]
}