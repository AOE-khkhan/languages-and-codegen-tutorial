{
  "metadata": {
    "name": "",
    "signature": "sha256:ebb40364b5f90f07f31d82ba5aba0d6a7f9df30ecc5ba067051376342d1847d9"
  },
  "nbformat": 3,
  "nbformat_minor": 0,
  "worksheets": [
    {
      "cells": [
        {
          "cell_type": "markdown",
          "metadata": {},
          "source": [
            "# Generating an OpenCL kernel by Textual Substitution"
          ]
        },
        {
          "cell_type": "markdown",
          "metadata": {},
          "source": [
            "The simplest approach to generating code is to simply substitute snippets of text into an existing code \"template\". This can be done using the C preprocessor, simple string-based search and replace, or other string-value interpolation functionality present in the language. The example below demonstrates the latter case:"
          ]
        },
        {
          "cell_type": "code",
          "collapsed": false,
          "input": [
            "kernel = r\"\"\"\n",
            "    __kernel void {name}({arguments})\n",
            "    {{\n",
            "      int lid = get_local_id(0);\n",
            "      int gsize = get_global_size(0);\n",
            "      int work_group_start = get_local_size(0)*get_group_id(0);\n",
            "      long i;\n",
            "\n",
            "      for (i = work_group_start + lid; i < n; i += gsize)\n",
            "      {{\n",
            "        {operation};\n",
            "      }}\n",
            "    }}\n",
            "\"\"\""
          ],
          "language": "python",
          "metadata": {},
          "outputs": [],
          "prompt_number": 1
        },
        {
          "cell_type": "markdown",
          "metadata": {},
          "source": [
            "One slightly unfortunate fact that plays into using Python's `.format()` facility for this purpose is that opening and closing braces must be escaped by doubling them."
          ]
        },
        {
          "cell_type": "code",
          "collapsed": false,
          "input": [
            "print(kernel.format(\n",
            "    name=\"scale\",\n",
            "    arguments=\"float *y, float a, float *x\",\n",
            "    operation=\"y[i] = a*x[i]\"\n",
            "))"
          ],
          "language": "python",
          "metadata": {},
          "outputs": [
            {
              "output_type": "stream",
              "stream": "stdout",
              "text": [
                "\n",
                "    __kernel void scale(float *y, float a, float *x)\n",
                "    {\n",
                "      int lid = get_local_id(0);\n",
                "      int gsize = get_global_size(0);\n",
                "      int work_group_start = get_local_size(0)*get_group_id(0);\n",
                "      long i;\n",
                "\n",
                "      for (i = work_group_start + lid; i < n; i += gsize)\n",
                "      {\n",
                "        y[i] = a*x[i];\n",
                "      }\n",
                "    }\n",
                "\n"
              ]
            }
          ],
          "prompt_number": 2
        },
        {
          "cell_type": "code",
          "collapsed": false,
          "input": [],
          "language": "python",
          "metadata": {},
          "outputs": []
        }
      ],
      "metadata": {}
    }
  ]
}