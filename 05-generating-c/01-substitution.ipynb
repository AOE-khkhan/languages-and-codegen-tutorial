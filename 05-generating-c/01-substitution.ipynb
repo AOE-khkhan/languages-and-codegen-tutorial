{
 "metadata": {
  "name": "",
  "signature": "sha256:42a0950bb6b57bc8dfb2f6dde121b1c924e7a6b65a43574a7b0f2e53e1d5ca1e"
 },
 "nbformat": 3,
 "nbformat_minor": 0,
 "worksheets": [
  {
   "cells": [
    {
     "cell_type": "markdown",
     "metadata": {},
     "source": [
      "# Generating an OpenCL kernel by Textual Substitution"
     ]
    },
    {
     "cell_type": "markdown",
     "metadata": {},
     "source": [
      "The simplest approach to generating code is to simply substitute snippets of text into an existing code \"template\". This can be done using the C preprocessor, simple string-based search and replace, or other string-value interpolation functionality present in the language. The example below demonstrates the latter case:"
     ]
    },
    {
     "cell_type": "code",
     "collapsed": false,
     "input": [
      "#keep\n",
      "kernel = r\"\"\"\n",
      "    __kernel void {name}({arguments})\n",
      "    {{\n",
      "      int lid = get_local_id(0);\n",
      "      int gsize = get_global_size(0);\n",
      "      int work_group_start = get_local_size(0)*get_group_id(0);\n",
      "      long i;\n",
      "\n",
      "      for (i = work_group_start + lid; i < n; i += gsize)\n",
      "      {{\n",
      "        {operation};\n",
      "      }}\n",
      "    }}\n",
      "\"\"\""
     ],
     "language": "python",
     "metadata": {},
     "outputs": [],
     "prompt_number": 1
    },
    {
     "cell_type": "markdown",
     "metadata": {},
     "source": [
      "One slightly unfortunate fact that plays into using Python's `.format()` facility for this purpose is that opening and closing braces must be escaped by doubling them."
     ]
    },
    {
     "cell_type": "code",
     "collapsed": false,
     "input": [
      "#keep\n",
      "print(kernel.format(\n",
      "    name=\"scale\",\n",
      "    arguments=\"float *y, float a, float *x\",\n",
      "    operation=\"y[i] = a*x[i]\"\n",
      "))"
     ],
     "language": "python",
     "metadata": {},
     "outputs": [
      {
       "output_type": "stream",
       "stream": "stdout",
       "text": [
        "\n",
        "    __kernel void scale(float *y, float a, float *x)\n",
        "    {\n",
        "      int lid = get_local_id(0);\n",
        "      int gsize = get_global_size(0);\n",
        "      int work_group_start = get_local_size(0)*get_group_id(0);\n",
        "      long i;\n",
        "\n",
        "      for (i = work_group_start + lid; i < n; i += gsize)\n",
        "      {\n",
        "        y[i] = a*x[i];\n",
        "      }\n",
        "    }\n",
        "\n"
       ]
      }
     ],
     "prompt_number": 3
    }
   ],
   "metadata": {}
  }
 ]
}