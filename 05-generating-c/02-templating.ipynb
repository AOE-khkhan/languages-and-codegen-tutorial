{
 "metadata": {
  "name": "",
  "signature": "sha256:a8e6a425233f8e5aee5149c6fc270f951c4825f50057807d13bb8666dac8851e"
 },
 "nbformat": 3,
 "nbformat_minor": 0,
 "worksheets": [
  {
   "cells": [
    {
     "cell_type": "code",
     "collapsed": false,
     "input": [
      "#keep\n",
      "from mako.template import Template"
     ],
     "language": "python",
     "metadata": {},
     "outputs": [
      {
       "output_type": "stream",
       "stream": "stderr",
       "text": [
        "/usr/lib/python2.7/pkgutil.py:186: ImportWarning: Not importing directory '/usr/lib/python2.7/dist-packages/enthought': missing __init__.py\n",
        "  file, filename, etc = imp.find_module(subname, path)\n"
       ]
      }
     ],
     "prompt_number": 1
    },
    {
     "cell_type": "code",
     "collapsed": false,
     "input": [
      "#keep\n",
      "tpl = Template(r\"\"\"\n",
      "    __kernel void ${name}(${arguments})\n",
      "    {\n",
      "      int lid = get_local_id(0);\n",
      "      int gsize = get_global_size(0);\n",
      "      int work_group_start = get_local_size(0)*get_group_id(0);\n",
      "      long i;\n",
      "\n",
      "      for (i = work_group_start + lid; i < n; i += gsize)\n",
      "      {\n",
      "        %for i_unroll in range(n_unroll):\n",
      "            ${operation};\n",
      "            %if i_unroll + 1 < n_unroll:\n",
      "                i += gsize;\n",
      "            %endif\n",
      "        %endfor\n",
      "      }\n",
      "    }\n",
      "\"\"\", strict_undefined=True)"
     ],
     "language": "python",
     "metadata": {},
     "outputs": [],
     "prompt_number": 11
    },
    {
     "cell_type": "code",
     "collapsed": false,
     "input": [
      "#keep\n",
      "print tpl.render(\n",
      "    name=\"scale\",\n",
      "    arguments=\"float *y, float a, float *x\",\n",
      "    operation=\"y[i] = a*x[i]\",\n",
      "    n_unroll=2,\n",
      ")"
     ],
     "language": "python",
     "metadata": {},
     "outputs": [
      {
       "output_type": "stream",
       "stream": "stdout",
       "text": [
        "\n",
        "    __kernel void scale(float *y, float a, float *x)\n",
        "    {\n",
        "      int lid = get_local_id(0);\n",
        "      int gsize = get_global_size(0);\n",
        "      int work_group_start = get_local_size(0)*get_group_id(0);\n",
        "      long i;\n",
        "\n",
        "      for (i = work_group_start + lid; i < n; i += gsize)\n",
        "      {\n",
        "            y[i] = a*x[i];\n",
        "                i += gsize;\n",
        "            y[i] = a*x[i];\n",
        "      }\n",
        "    }\n",
        "\n"
       ]
      }
     ],
     "prompt_number": 13
    }
   ],
   "metadata": {}
  }
 ]
}