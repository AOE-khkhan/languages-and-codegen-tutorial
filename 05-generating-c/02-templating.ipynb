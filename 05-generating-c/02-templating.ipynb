{
  "metadata": {
    "name": "",
    "signature": "sha256:b4d37a3963812c0b466ab09d6c104c0b4d3786e42150a788f87f80dacb326af2"
  },
  "nbformat": 3,
  "nbformat_minor": 0,
  "worksheets": [
    {
      "cells": [
        {
          "cell_type": "markdown",
          "metadata": {},
          "source": [
            "# Generating an OpenCL Kernel using Textual Templating"
          ]
        },
        {
          "cell_type": "markdown",
          "metadata": {},
          "source": [
            "A more advanced, but also less lightweight, alternative is the usage of a so-called templating engine, as it is being used to generate web pages.\n",
            "\n",
            "This offers tremendous flexibility in generation, including the possibility for full flow control, allowing applications such as loop unrolling.\n",
            "\n",
            "In the example below, we use a templating engine called 'Mako':"
          ]
        },
        {
          "cell_type": "code",
          "collapsed": false,
          "input": [
            "from mako.template import Template"
          ],
          "language": "python",
          "metadata": {},
          "outputs": [],
          "prompt_number": 1
        },
        {
          "cell_type": "code",
          "collapsed": false,
          "input": [
            "tpl = Template(r\"\"\"\n",
            "    __kernel void ${name}(${arguments})\n",
            "    {\n",
            "      int lid = get_local_id(0);\n",
            "      int gsize = get_global_size(0);\n",
            "      int work_group_start = get_local_size(0)*get_group_id(0);\n",
            "      long i;\n",
            "\n",
            "      for (i = work_group_start + lid; i < n; i += gsize)\n",
            "      {\n",
            "        %for i_unroll in range(n_unroll):\n",
            "            ${operation};\n",
            "            %if i_unroll + 1 < n_unroll:\n",
            "                i += gsize;\n",
            "            %endif\n",
            "        %endfor\n",
            "      }\n",
            "    }\n",
            "\"\"\", strict_undefined=True)"
          ],
          "language": "python",
          "metadata": {},
          "outputs": [],
          "prompt_number": 2
        },
        {
          "cell_type": "code",
          "collapsed": false,
          "input": [
            "print(tpl.render(\n",
            "    name=\"scale\",\n",
            "    arguments=\"float *y, float a, float *x\",\n",
            "    operation=\"y[i] = a*x[i]\",\n",
            "    n_unroll=2,\n",
            "))"
          ],
          "language": "python",
          "metadata": {},
          "outputs": [
            {
              "output_type": "stream",
              "stream": "stdout",
              "text": [
                "\n",
                "    __kernel void scale(float *y, float a, float *x)\n",
                "    {\n",
                "      int lid = get_local_id(0);\n",
                "      int gsize = get_global_size(0);\n",
                "      int work_group_start = get_local_size(0)*get_group_id(0);\n",
                "      long i;\n",
                "\n",
                "      for (i = work_group_start + lid; i < n; i += gsize)\n",
                "      {\n",
                "            y[i] = a*x[i];\n",
                "                i += gsize;\n",
                "            y[i] = a*x[i];\n",
                "      }\n",
                "    }\n",
                "\n"
              ]
            }
          ],
          "prompt_number": 3
        },
        {
          "cell_type": "code",
          "collapsed": false,
          "input": [],
          "language": "python",
          "metadata": {},
          "outputs": []
        }
      ],
      "metadata": {}
    }
  ]
}