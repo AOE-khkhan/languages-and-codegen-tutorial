{
  "metadata": {
    "name": "",
    "signature": "sha256:11ef4a2f10ac55a86b2a04617b175ff798e11f21270d0bbd3edf0c37f2208ab0"
  },
  "nbformat": 3,
  "nbformat_minor": 0,
  "worksheets": [
    {
      "cells": [
        {
          "cell_type": "markdown",
          "metadata": {},
          "source": [
            "# Python Introduction: Names and Values"
          ]
        },
        {
          "cell_type": "markdown",
          "metadata": {},
          "source": [
            "Define and reference a variable:"
          ]
        },
        {
          "cell_type": "code",
          "collapsed": false,
          "input": [
            "#clear",
            "a = 3*2 + 5"
          ],
          "language": "python",
          "metadata": {},
          "outputs": [],
          "prompt_number": 22
        },
        {
          "cell_type": "code",
          "collapsed": false,
          "input": [
            "#clear",
            "a"
          ],
          "language": "python",
          "metadata": {},
          "outputs": [
            {
              "metadata": {},
              "output_type": "pyout",
              "prompt_number": 23,
              "text": [
                "11"
              ]
            }
          ],
          "prompt_number": 23
        },
        {
          "cell_type": "code",
          "collapsed": false,
          "input": [
            "#clear",
            "a = \"interesting\"*3"
          ],
          "language": "python",
          "metadata": {},
          "outputs": [],
          "prompt_number": 24
        },
        {
          "cell_type": "code",
          "collapsed": false,
          "input": [
            "#clear",
            "a"
          ],
          "language": "python",
          "metadata": {},
          "outputs": [
            {
              "metadata": {},
              "output_type": "pyout",
              "prompt_number": 25,
              "text": [
                "'interestinginterestinginteresting'"
              ]
            }
          ],
          "prompt_number": 25
        },
        {
          "cell_type": "markdown",
          "metadata": {},
          "source": [
            "No type declaration needed!\n",
            "\n",
            "(But values still have types--let's check.)"
          ]
        },
        {
          "cell_type": "code",
          "collapsed": false,
          "input": [
            "#clear",
            "type(a)"
          ],
          "language": "python",
          "metadata": {},
          "outputs": [
            {
              "metadata": {},
              "output_type": "pyout",
              "prompt_number": 26,
              "text": [
                "str"
              ]
            }
          ],
          "prompt_number": 26
        },
        {
          "cell_type": "markdown",
          "metadata": {},
          "source": [
            "Python variables are like *pointers*.\n",
            "\n",
            "(if that word makes sense)"
          ]
        },
        {
          "cell_type": "code",
          "collapsed": false,
          "input": [
            "a = [1,2,3]"
          ],
          "language": "python",
          "metadata": {},
          "outputs": [],
          "prompt_number": 27
        },
        {
          "cell_type": "code",
          "collapsed": false,
          "input": [
            "b = a"
          ],
          "language": "python",
          "metadata": {},
          "outputs": [],
          "prompt_number": 28
        },
        {
          "cell_type": "code",
          "collapsed": false,
          "input": [
            "#clear",
            "b.append(4)"
          ],
          "language": "python",
          "metadata": {},
          "outputs": [],
          "prompt_number": 29
        },
        {
          "cell_type": "code",
          "collapsed": false,
          "input": [
            "#clear",
            "b"
          ],
          "language": "python",
          "metadata": {},
          "outputs": [
            {
              "metadata": {},
              "output_type": "pyout",
              "prompt_number": 30,
              "text": [
                "[1, 2, 3, 4]"
              ]
            }
          ],
          "prompt_number": 30
        },
        {
          "cell_type": "code",
          "collapsed": false,
          "input": [
            "#clear",
            "a"
          ],
          "language": "python",
          "metadata": {},
          "outputs": [
            {
              "metadata": {},
              "output_type": "pyout",
              "prompt_number": 31,
              "text": [
                "[1, 2, 3, 4]"
              ]
            }
          ],
          "prompt_number": 31
        },
        {
          "cell_type": "markdown",
          "metadata": {},
          "source": [
            "You can see this pointer with `id()`."
          ]
        },
        {
          "cell_type": "code",
          "collapsed": false,
          "input": [
            "#clear",
            "print(id(a), id(b))"
          ],
          "language": "python",
          "metadata": {},
          "outputs": [
            {
              "output_type": "stream",
              "stream": "stdout",
              "text": [
                "140441837907336 140441837907336\n"
              ]
            }
          ],
          "prompt_number": 33
        },
        {
          "cell_type": "markdown",
          "metadata": {},
          "source": [
            "The `is` operator tests for object sameness."
          ]
        },
        {
          "cell_type": "code",
          "collapsed": false,
          "input": [
            "#clear",
            "a is b"
          ],
          "language": "python",
          "metadata": {},
          "outputs": [
            {
              "metadata": {},
              "output_type": "pyout",
              "prompt_number": 34,
              "text": [
                "True"
              ]
            }
          ],
          "prompt_number": 34
        },
        {
          "cell_type": "markdown",
          "metadata": {},
          "source": [
            "This is a **stronger** condition than being equal!"
          ]
        },
        {
          "cell_type": "code",
          "collapsed": false,
          "input": [
            "a = [1,2,3]\n",
            "b = [1,2,3]\n",
            "print(\"IS   \", a is b)\n",
            "print(\"EQUAL\", a == b)"
          ],
          "language": "python",
          "metadata": {},
          "outputs": [
            {
              "output_type": "stream",
              "stream": "stdout",
              "text": [
                "IS    False\n",
                "EQUAL True\n"
              ]
            }
          ],
          "prompt_number": 36
        },
        {
          "cell_type": "markdown",
          "metadata": {},
          "source": [
            "What do you think the following prints?"
          ]
        },
        {
          "cell_type": "code",
          "collapsed": false,
          "input": [
            "a = [1,2,3]\n",
            "b = a\n",
            "a = a + [4]\n",
            "print(b)"
          ],
          "language": "python",
          "metadata": {},
          "outputs": [
            {
              "output_type": "stream",
              "stream": "stdout",
              "text": [
                "[1, 2, 3]\n"
              ]
            }
          ],
          "prompt_number": 38
        },
        {
          "cell_type": "code",
          "collapsed": false,
          "input": [
            "a is b"
          ],
          "language": "python",
          "metadata": {},
          "outputs": [
            {
              "metadata": {},
              "output_type": "pyout",
              "prompt_number": 39,
              "text": [
                "False"
              ]
            }
          ],
          "prompt_number": 39
        },
        {
          "cell_type": "markdown",
          "metadata": {},
          "source": [
            "Why is that?"
          ]
        },
        {
          "cell_type": "markdown",
          "metadata": {},
          "source": [
            "-----\n",
            "How could this lead to bugs?"
          ]
        },
        {
          "cell_type": "markdown",
          "metadata": {},
          "source": [
            "----------\n",
            "* To help manage this risk, Python provides **immutable** types.\n",
            "\n",
            "* Immutable types cannot be changed in-place, only by creating a new object.\n",
            "\n",
            "* A `tuple` is an immutable `list`."
          ]
        },
        {
          "cell_type": "code",
          "collapsed": false,
          "input": [
            "a = [1,2,3]\n",
            "type(a)"
          ],
          "language": "python",
          "metadata": {},
          "outputs": [
            {
              "metadata": {},
              "output_type": "pyout",
              "prompt_number": 40,
              "text": [
                "list"
              ]
            }
          ],
          "prompt_number": 40
        },
        {
          "cell_type": "code",
          "collapsed": false,
          "input": [
            "#clear",
            "a = (1,2,3)\n",
            "type(a)"
          ],
          "language": "python",
          "metadata": {},
          "outputs": [
            {
              "metadata": {},
              "output_type": "pyout",
              "prompt_number": 41,
              "text": [
                "tuple"
              ]
            }
          ],
          "prompt_number": 41
        },
        {
          "cell_type": "markdown",
          "metadata": {},
          "source": [
            "Let's try to change that tuple."
          ]
        },
        {
          "cell_type": "code",
          "collapsed": false,
          "input": [
            "#clear",
            "a[2] = 0"
          ],
          "language": "python",
          "metadata": {},
          "outputs": [
            {
              "ename": "TypeError",
              "evalue": "'tuple' object does not support item assignment",
              "output_type": "pyerr",
              "traceback": [
                "\u001b[0;31m---------------------------------------------------------------------------\u001b[0m\n\u001b[0;31mTypeError\u001b[0m                                 Traceback (most recent call last)",
                "\u001b[0;32m<ipython-input-42-ec18b7a325e0>\u001b[0m in \u001b[0;36m<module>\u001b[0;34m()\u001b[0m\n\u001b[0;32m----> 1\u001b[0;31m \u001b[0ma\u001b[0m\u001b[0;34m[\u001b[0m\u001b[0;36m2\u001b[0m\u001b[0;34m]\u001b[0m \u001b[0;34m=\u001b[0m \u001b[0;36m0\u001b[0m\u001b[0;34m\u001b[0m\u001b[0m\n\u001b[0m",
                "\u001b[0;31mTypeError\u001b[0m: 'tuple' object does not support item assignment"
              ]
            }
          ],
          "prompt_number": 42
        },
        {
          "cell_type": "markdown",
          "metadata": {},
          "source": [
            "*Bonus question:* How do you spell a single-element tuple?"
          ]
        },
        {
          "cell_type": "code",
          "collapsed": false,
          "input": [
            "#clear",
            "a = (3,)\n",
            "type(a)"
          ],
          "language": "python",
          "metadata": {},
          "outputs": [
            {
              "metadata": {},
              "output_type": "pyout",
              "prompt_number": 43,
              "text": [
                "tuple"
              ]
            }
          ],
          "prompt_number": 43
        }
      ],
      "metadata": {}
    }
  ]
}