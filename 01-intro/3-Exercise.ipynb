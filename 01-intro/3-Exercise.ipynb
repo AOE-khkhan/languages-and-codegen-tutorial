{
 "metadata": {
  "name": "",
  "signature": "sha256:5085c8c1c88001b9f0b581e7ba396c3121bee28008f5b98a4c2e8ad7c2990f0f"
 },
 "nbformat": 3,
 "nbformat_minor": 0,
 "worksheets": [
  {
   "cells": [
    {
     "cell_type": "markdown",
     "metadata": {},
     "source": [
      "# Exercise: Build a recursive data structure"
     ]
    },
    {
     "cell_type": "markdown",
     "metadata": {},
     "source": [
      "You are given an array of floating point numbers called `numbers`. These numbers lie between 0 and 1.\n",
      "\n",
      "Use a recursive function to sort them into a tree of bins. Each non-leaf node of the tree should consist of a tuple `(smaller, pivot, larger)`, where `smaller` is the part of the tree representing numbers less than `pivot`, and `larger` represents the part of the tree with numbers larger than `pivot`. Both `smaller` and `larger` are either actualy numpy arrays with numbers, or further tuples representing a split tree.\n",
      "\n",
      "Write a function `build_tree(numbers, left_end, right_end, max_in_leaf=5)` that builds this data structure, where\n",
      "\n",
      "* `left_end` is the left end of the interval being built\n",
      "* `right_end` is the right end of the interval being built\n",
      "* `max_in_leaf` is the largest number of numbers allowed in a leaf node of the tree"
     ]
    },
    {
     "cell_type": "code",
     "collapsed": false,
     "input": [
      "#keep\n",
      "import numpy as np\n",
      "\n",
      "numbers = np.random.rand(100)"
     ],
     "language": "python",
     "metadata": {},
     "outputs": [],
     "prompt_number": 7
    },
    {
     "cell_type": "code",
     "collapsed": false,
     "input": [
      "#keep\n",
      "def build_tree(numbers, left, right, max_in_leaf=5):\n",
      "    # ...\n",
      "    pass"
     ],
     "language": "python",
     "metadata": {},
     "outputs": [],
     "prompt_number": 15
    },
    {
     "cell_type": "code",
     "collapsed": false,
     "input": [
      "# Solution\n",
      "def build_tree(numbers, left, right, max_in_leaf=5):\n",
      "    if len(numbers) <= max_in_leaf:\n",
      "        return numbers\n",
      "    pivot = (left + right)/2\n",
      "    return (build_tree(numbers[numbers < pivot], left, pivot, max_in_leaf),\n",
      "            pivot,\n",
      "            build_tree(numbers[numbers > pivot], pivot, right, max_in_leaf))"
     ],
     "language": "python",
     "metadata": {},
     "outputs": [],
     "prompt_number": 17
    },
    {
     "cell_type": "code",
     "collapsed": false,
     "input": [
      "#keep\n",
      "tree = build_tree(numbers, 0, 1)\n",
      "print(tree)"
     ],
     "language": "python",
     "metadata": {},
     "outputs": [
      {
       "output_type": "stream",
       "stream": "stdout",
       "text": [
        "((((((array([ 0.01263527,  0.00362067,  0.01438308]), 0.015625, array([ 0.0222964 ,  0.02465299,  0.02068515])), 0.03125, array([ 0.03244126,  0.03933623])), 0.0625, (array([ 0.08342202,  0.09059933]), 0.09375, array([ 0.12441235,  0.09385837,  0.12411402,  0.12300159]))), 0.125, (array([ 0.16624487,  0.14674196,  0.15537304,  0.16435615]), 0.1875, (array([ 0.21119057,  0.20382445,  0.19745729,  0.19746268,  0.20304574]), 0.21875, array([ 0.24321276,  0.24999497,  0.2413021 ,  0.22319027,  0.24892702])))), 0.25, ((array([ 0.28583032,  0.27563603,  0.27859519]), 0.3125, (array([ 0.31293157,  0.33218591,  0.31620139,  0.34088908]), 0.34375, array([ 0.36765964,  0.36522366,  0.36295132,  0.36772908]))), 0.375, ((array([ 0.38429945,  0.40053237,  0.39344736,  0.39447108]), 0.40625, array([ 0.42746043,  0.42799073,  0.41530542,  0.43716175])), 0.4375, array([ 0.49037415,  0.48348009,  0.46626957,  0.44792358])))), 0.5, ((((array([ 0.50474755,  0.51115621,  0.50750435]), 0.53125, array([ 0.5421182 ,  0.53298879,  0.55943591])), 0.5625, (array([ 0.59168007,  0.58732449]), 0.59375, array([ 0.59824088,  0.60442461,  0.60541127,  0.6218103 ]))), 0.625, (array([ 0.62635645,  0.6583531 ,  0.67182081,  0.68172681,  0.67021711]), 0.6875, array([ 0.68901096,  0.70062448,  0.73719756,  0.6885914 ,  0.71924836]))), 0.75, ((array([ 0.79024389,  0.81145208,  0.75424694,  0.80232835,  0.80429604]), 0.8125, (array([ 0.83523308,  0.83473499,  0.83342519,  0.84355123,  0.84124417]), 0.84375, array([ 0.86705337,  0.87226484]))), 0.875, ((array([ 0.88291537,  0.89059308,  0.90244987,  0.89381054,  0.90419395]), 0.90625, array([ 0.91544282,  0.92968103])), 0.9375, ((array([ 0.94635012,  0.95061005,  0.9382779 ]), 0.953125, array([ 0.96260906,  0.96729876,  0.96049523])), 0.96875, array([ 0.96940306,  0.9737249 ]))))))\n"
       ]
      }
     ],
     "prompt_number": 18
    },
    {
     "cell_type": "code",
     "collapsed": false,
     "input": [],
     "language": "python",
     "metadata": {},
     "outputs": []
    }
   ],
   "metadata": {}
  }
 ]
}