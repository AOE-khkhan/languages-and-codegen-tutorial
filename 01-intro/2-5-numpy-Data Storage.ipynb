{
  "metadata": {
    "name": "",
    "signature": "sha256:e014e32e18f032d7e8db4e1a793171135090818c3404593a73bbe800a2d09b65"
  },
  "nbformat": 3,
  "nbformat_minor": 0,
  "worksheets": [
    {
      "cells": [
        {
          "cell_type": "markdown",
          "metadata": {},
          "source": [
            "# How are numpy arrays stored?"
          ]
        },
        {
          "cell_type": "code",
          "collapsed": false,
          "input": [
            "import numpy as np"
          ],
          "language": "python",
          "metadata": {},
          "outputs": [],
          "prompt_number": 1
        },
        {
          "cell_type": "markdown",
          "metadata": {},
          "source": [
            "Numpy presents an n-dimensional abstraction that has to be fit into 1-dimensional computer memory.\n",
            "\n",
            "Even for 2 dimensions (matrices), this leads to confusion: row-major, column-major."
          ]
        },
        {
          "cell_type": "code",
          "collapsed": false,
          "input": [
            "A = np.arange(9).reshape(3, 3)\n",
            "print(A)"
          ],
          "language": "python",
          "metadata": {},
          "outputs": [
            {
              "output_type": "stream",
              "stream": "stdout",
              "text": [
                "[[0 1 2]\n",
                " [3 4 5]\n",
                " [6 7 8]]\n"
              ]
            }
          ],
          "prompt_number": 4
        },
        {
          "cell_type": "markdown",
          "metadata": {},
          "source": [
            "## Strides and in-memory representation"
          ]
        },
        {
          "cell_type": "markdown",
          "metadata": {},
          "source": [
            "How is this represented in memory?"
          ]
        },
        {
          "cell_type": "code",
          "collapsed": false,
          "input": [
            "A.strides"
          ],
          "language": "python",
          "metadata": {},
          "outputs": [
            {
              "metadata": {},
              "output_type": "pyout",
              "prompt_number": 6,
              "text": [
                "(24, 8)"
              ]
            }
          ],
          "prompt_number": 6
        },
        {
          "cell_type": "markdown",
          "metadata": {},
          "source": [
            "* `strides` stores for each axis by how many bytes one needs to jump to get from one entry to the next (in that axis)\n",
            "* So how is the array above stored?\n",
            "* This captures row-major (\"C\" order) and column-major (\"Fortran\" order), but is actually much more general."
          ]
        },
        {
          "cell_type": "markdown",
          "metadata": {},
          "source": [
            "We can also ask for Fortran order:"
          ]
        },
        {
          "cell_type": "code",
          "collapsed": false,
          "input": [
            "A2 = np.arange(9).reshape(3, 3, order=\"F\")\n",
            "A2"
          ],
          "language": "python",
          "metadata": {},
          "outputs": [
            {
              "metadata": {},
              "output_type": "pyout",
              "prompt_number": 10,
              "text": [
                "array([[0, 3, 6],\n",
                "       [1, 4, 7],\n",
                "       [2, 5, 8]])"
              ]
            }
          ],
          "prompt_number": 10
        },
        {
          "cell_type": "markdown",
          "metadata": {},
          "source": [
            "`numpy` defaults to row-major order."
          ]
        },
        {
          "cell_type": "code",
          "collapsed": false,
          "input": [
            "A2.strides"
          ],
          "language": "python",
          "metadata": {},
          "outputs": [
            {
              "metadata": {},
              "output_type": "pyout",
              "prompt_number": 11,
              "text": [
                "(8, 24)"
              ]
            }
          ],
          "prompt_number": 11
        },
        {
          "cell_type": "markdown",
          "metadata": {},
          "source": [
            "## Strides and Contiguity"
          ]
        },
        {
          "cell_type": "markdown",
          "metadata": {},
          "source": [
            "How is the stride model more general than just saying \"row major\" or \"column major\"?"
          ]
        },
        {
          "cell_type": "code",
          "collapsed": false,
          "input": [
            "A = np.arange(16).reshape(4, 4)\n",
            "A"
          ],
          "language": "python",
          "metadata": {},
          "outputs": [
            {
              "metadata": {},
              "output_type": "pyout",
              "prompt_number": 15,
              "text": [
                "array([[ 0,  1,  2,  3],\n",
                "       [ 4,  5,  6,  7],\n",
                "       [ 8,  9, 10, 11],\n",
                "       [12, 13, 14, 15]])"
              ]
            }
          ],
          "prompt_number": 15
        },
        {
          "cell_type": "code",
          "collapsed": false,
          "input": [
            "A.strides"
          ],
          "language": "python",
          "metadata": {},
          "outputs": [
            {
              "metadata": {},
              "output_type": "pyout",
              "prompt_number": 18,
              "text": [
                "(32, 8)"
              ]
            }
          ],
          "prompt_number": 18
        },
        {
          "cell_type": "code",
          "collapsed": false,
          "input": [
            "Asub = A[:3, :3]\n",
            "Asub"
          ],
          "language": "python",
          "metadata": {},
          "outputs": [
            {
              "metadata": {},
              "output_type": "pyout",
              "prompt_number": 14,
              "text": [
                "array([[ 0,  1,  2],\n",
                "       [ 4,  5,  6],\n",
                "       [ 8,  9, 10]])"
              ]
            }
          ],
          "prompt_number": 14
        },
        {
          "cell_type": "markdown",
          "metadata": {},
          "source": [
            "Recall that `Asub` constitutes a *view* of the original data in `A`."
          ]
        },
        {
          "cell_type": "code",
          "collapsed": false,
          "input": [
            "Asub.strides"
          ],
          "language": "python",
          "metadata": {},
          "outputs": [
            {
              "metadata": {},
              "output_type": "pyout",
              "prompt_number": 19,
              "text": [
                "(32, 8)"
              ]
            }
          ],
          "prompt_number": 19
        },
        {
          "cell_type": "markdown",
          "metadata": {},
          "source": [
            "Now `Asub` is no longer a *contiguous* array!\n",
            "\n",
            "From the linear-memory representation (as show by the increasing numbers in `A`) 3, 7, 11 are missing.\n",
            "\n",
            "This is easy to check by a flag:"
          ]
        },
        {
          "cell_type": "code",
          "collapsed": false,
          "input": [
            "#clear",
            "Asub.flags"
          ],
          "language": "python",
          "metadata": {},
          "outputs": [
            {
              "metadata": {},
              "output_type": "pyout",
              "prompt_number": 20,
              "text": [
                "  C_CONTIGUOUS : False\n",
                "  F_CONTIGUOUS : False\n",
                "  OWNDATA : False\n",
                "  WRITEABLE : True\n",
                "  ALIGNED : True\n",
                "  UPDATEIFCOPY : False"
              ]
            }
          ],
          "prompt_number": 20
        }
      ],
      "metadata": {}
    }
  ]
}