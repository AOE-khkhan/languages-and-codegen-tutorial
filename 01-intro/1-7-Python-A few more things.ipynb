{
  "metadata": {
    "name": "",
    "signature": "sha256:1ae4ad8a145749b9018cc48f7f73648262168f6924caacf9cc592ab1dea6786d"
  },
  "nbformat": 3,
  "nbformat_minor": 0,
  "worksheets": [
    {
      "cells": [
        {
          "cell_type": "markdown",
          "metadata": {},
          "source": [
            "# Python Introduction: A few more things"
          ]
        },
        {
          "cell_type": "markdown",
          "metadata": {},
          "source": [
            "Getting help:\n",
            "\n",
            "1) Use TAB in IPython"
          ]
        },
        {
          "cell_type": "code",
          "collapsed": false,
          "input": [
            "a = [1,2,3]"
          ],
          "language": "python",
          "metadata": {},
          "outputs": [],
          "prompt_number": 1
        },
        {
          "cell_type": "code",
          "collapsed": false,
          "input": [],
          "language": "python",
          "metadata": {},
          "outputs": [],
          "prompt_number": 1
        },
        {
          "cell_type": "markdown",
          "metadata": {},
          "source": [
            "2) Using `pydoc3` on the command line."
          ]
        },
        {
          "cell_type": "markdown",
          "metadata": {},
          "source": [
            "3) Online at <http://docs.python.org/>"
          ]
        },
        {
          "cell_type": "markdown",
          "metadata": {},
          "source": [
            "----"
          ]
        },
        {
          "cell_type": "markdown",
          "metadata": {},
          "source": [
            "**A few things to look up in a quiet moment**"
          ]
        },
        {
          "cell_type": "markdown",
          "metadata": {},
          "source": [
            "String formatting"
          ]
        },
        {
          "cell_type": "code",
          "collapsed": false,
          "input": [
            "\"My name is {0} and I like {1}\".format(\"Andreas\", \"hiking\")"
          ],
          "language": "python",
          "metadata": {},
          "outputs": [
            {
              "metadata": {},
              "output_type": "pyout",
              "prompt_number": 2,
              "text": [
                "'My name is Andreas and I like hiking'"
              ]
            }
          ],
          "prompt_number": 2
        },
        {
          "cell_type": "markdown",
          "metadata": {},
          "source": [
            "---\n",
            "Dictionaries"
          ]
        },
        {
          "cell_type": "code",
          "collapsed": false,
          "input": [
            "prices = {\"Tesla K40\": 5000, \"GTX Titan\":1400}\n",
            "prices[\"Tesla K40\"]"
          ],
          "language": "python",
          "metadata": {},
          "outputs": [
            {
              "metadata": {},
              "output_type": "pyout",
              "prompt_number": 3,
              "text": [
                "5000"
              ]
            }
          ],
          "prompt_number": 3
        }
      ],
      "metadata": {}
    }
  ]
}