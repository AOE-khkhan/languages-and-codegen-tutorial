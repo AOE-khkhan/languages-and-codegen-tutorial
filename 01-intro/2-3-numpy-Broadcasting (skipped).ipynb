{
  "metadata": {
    "name": "",
    "signature": "sha256:b6d9a476086558374345fba41b5b6add09f54f82264a9d446b8d4b3cd49dee53"
  },
  "nbformat": 3,
  "nbformat_minor": 0,
  "worksheets": [
    {
      "cells": [
        {
          "cell_type": "markdown",
          "metadata": {},
          "source": [
            "# numpy: Broadcasting"
          ]
        },
        {
          "cell_type": "code",
          "collapsed": false,
          "input": [
            "import numpy as np"
          ],
          "language": "python",
          "metadata": {},
          "outputs": [],
          "prompt_number": 1
        },
        {
          "cell_type": "code",
          "collapsed": false,
          "input": [
            "a = np.arange(9).reshape(3, 3)\n",
            "print(a.shape)\n",
            "print(a)\n",
            "b = np.arange(4, 4+9).reshape(3, 3)\n",
            "print(b.shape)\n",
            "print(b)"
          ],
          "language": "python",
          "metadata": {},
          "outputs": [
            {
              "output_type": "stream",
              "stream": "stdout",
              "text": [
                "(3, 3)\n",
                "[[0 1 2]\n",
                " [3 4 5]\n",
                " [6 7 8]]\n",
                "(3, 3)\n",
                "[[ 4  5  6]\n",
                " [ 7  8  9]\n",
                " [10 11 12]]\n"
              ]
            }
          ],
          "prompt_number": 2
        },
        {
          "cell_type": "code",
          "collapsed": false,
          "input": [
            "#clear",
            "a+b"
          ],
          "language": "python",
          "metadata": {},
          "outputs": [
            {
              "metadata": {},
              "output_type": "pyout",
              "prompt_number": 3,
              "text": [
                "array([[ 4,  6,  8],\n",
                "       [10, 12, 14],\n",
                "       [16, 18, 20]])"
              ]
            }
          ],
          "prompt_number": 3
        },
        {
          "cell_type": "markdown",
          "metadata": {},
          "source": [
            "So this is easy and one-to-one.\n"
          ]
        },
        {
          "cell_type": "markdown",
          "metadata": {},
          "source": [
            "---\n",
            "\n",
            "What if the shapes do not match?"
          ]
        },
        {
          "cell_type": "code",
          "collapsed": false,
          "input": [
            "a = np.arange(9).reshape(3, 3)\n",
            "print(a.shape)\n",
            "print(a)\n",
            "b = np.arange(3)\n",
            "print(b.shape)\n",
            "print(b)"
          ],
          "language": "python",
          "metadata": {},
          "outputs": [
            {
              "output_type": "stream",
              "stream": "stdout",
              "text": [
                "(3, 3)\n",
                "[[0 1 2]\n",
                " [3 4 5]\n",
                " [6 7 8]]\n",
                "(3,)\n",
                "[0 1 2]\n"
              ]
            }
          ],
          "prompt_number": 4
        },
        {
          "cell_type": "markdown",
          "metadata": {},
          "source": [
            "What will this do?"
          ]
        },
        {
          "cell_type": "code",
          "collapsed": false,
          "input": [
            "a+b"
          ],
          "language": "python",
          "metadata": {},
          "outputs": [
            {
              "metadata": {},
              "output_type": "pyout",
              "prompt_number": 5,
              "text": [
                "array([[ 0,  2,  4],\n",
                "       [ 3,  5,  7],\n",
                "       [ 6,  8, 10]])"
              ]
            }
          ],
          "prompt_number": 5
        },
        {
          "cell_type": "markdown",
          "metadata": {},
          "source": [
            "It has *broadcast* along the last axis!"
          ]
        },
        {
          "cell_type": "markdown",
          "metadata": {},
          "source": [
            "---\n",
            "\n",
            "Can we broadcast along the *first* axis?"
          ]
        },
        {
          "cell_type": "code",
          "collapsed": false,
          "input": [
            "#clear",
            "a+b.reshape(3, 1)"
          ],
          "language": "python",
          "metadata": {},
          "outputs": [
            {
              "metadata": {},
              "output_type": "pyout",
              "prompt_number": 6,
              "text": [
                "array([[ 0,  1,  2],\n",
                "       [ 4,  5,  6],\n",
                "       [ 8,  9, 10]])"
              ]
            }
          ],
          "prompt_number": 6
        },
        {
          "cell_type": "markdown",
          "metadata": {},
          "source": [
            "Rules:\n",
            "\n",
            "* Shapes are matched axis-by-axis from last to first.\n",
            "* A length-1 axis can be *broadcast* if necessary."
          ]
        }
      ],
      "metadata": {}
    }
  ]
}