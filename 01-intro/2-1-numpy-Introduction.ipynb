{
  "metadata": {
    "name": "",
    "signature": "sha256:8f5b9f92f380eb4fab829d494c59ffe4351eebec6c6223473290fab32ba91afe"
  },
  "nbformat": 3,
  "nbformat_minor": 0,
  "worksheets": [
    {
      "cells": [
        {
          "cell_type": "markdown",
          "metadata": {},
          "source": [
            "# numpy: Introduction"
          ]
        },
        {
          "cell_type": "markdown",
          "metadata": {},
          "source": [
            "Let's import the `numpy` module."
          ]
        },
        {
          "cell_type": "code",
          "collapsed": false,
          "input": [
            "#clear",
            "import numpy as np"
          ],
          "language": "python",
          "metadata": {},
          "outputs": [],
          "prompt_number": 1
        },
        {
          "cell_type": "code",
          "collapsed": false,
          "input": [
            "n = 10  # CHANGE ME\n",
            "a1 = list(range(n))\n",
            "a2 = np.arange(n)\n",
            "\n",
            "if n <= 10:\n",
            "    print(a1)\n",
            "    print(a2)"
          ],
          "language": "python",
          "metadata": {},
          "outputs": [
            {
              "output_type": "stream",
              "stream": "stdout",
              "text": [
                "[0, 1, 2, 3, 4, 5, 6, 7, 8, 9]\n",
                "[0 1 2 3 4 5 6 7 8 9]\n"
              ]
            }
          ],
          "prompt_number": 3
        },
        {
          "cell_type": "code",
          "collapsed": false,
          "input": [
            "%timeit [i**2 for i in a1]"
          ],
          "language": "python",
          "metadata": {},
          "outputs": [
            {
              "output_type": "stream",
              "stream": "stdout",
              "text": [
                "100000 loops, best of 3: 2.36 \u00b5s per loop\n"
              ]
            }
          ],
          "prompt_number": 4
        },
        {
          "cell_type": "code",
          "collapsed": false,
          "input": [
            "%timeit a2**2"
          ],
          "language": "python",
          "metadata": {},
          "outputs": [
            {
              "output_type": "stream",
              "stream": "stdout",
              "text": [
                "1000000 loops, best of 3: 1.06 \u00b5s per loop\n"
              ]
            }
          ],
          "prompt_number": 5
        },
        {
          "cell_type": "markdown",
          "metadata": {},
          "source": [
            "Numpy Arrays: much less flexible, but:\n",
            "\n",
            "* much faster\n",
            "* less memory"
          ]
        },
        {
          "cell_type": "markdown",
          "metadata": {},
          "source": [
            "---\n",
            "\n",
            "Ways to create a numpy array:\n",
            "\n",
            "* Casting from a list"
          ]
        },
        {
          "cell_type": "code",
          "collapsed": false,
          "input": [
            "#clear",
            "np.array([1,2,3])"
          ],
          "language": "python",
          "metadata": {},
          "outputs": [
            {
              "metadata": {},
              "output_type": "pyout",
              "prompt_number": 6,
              "text": [
                "array([1, 2, 3])"
              ]
            }
          ],
          "prompt_number": 6
        },
        {
          "cell_type": "markdown",
          "metadata": {},
          "source": [
            "* `linspace`"
          ]
        },
        {
          "cell_type": "code",
          "collapsed": false,
          "input": [
            "#clear",
            "np.linspace(-1, 1, 10)"
          ],
          "language": "python",
          "metadata": {},
          "outputs": [
            {
              "metadata": {},
              "output_type": "pyout",
              "prompt_number": 7,
              "text": [
                "array([-1.        , -0.77777778, -0.55555556, -0.33333333, -0.11111111,\n",
                "        0.11111111,  0.33333333,  0.55555556,  0.77777778,  1.        ])"
              ]
            }
          ],
          "prompt_number": 7
        },
        {
          "cell_type": "markdown",
          "metadata": {},
          "source": [
            "* `zeros`"
          ]
        },
        {
          "cell_type": "code",
          "collapsed": false,
          "input": [
            "#clear",
            "np.zeros((10,10), np.float64)"
          ],
          "language": "python",
          "metadata": {},
          "outputs": [
            {
              "metadata": {},
              "output_type": "pyout",
              "prompt_number": 8,
              "text": [
                "array([[ 0.,  0.,  0.,  0.,  0.,  0.,  0.,  0.,  0.,  0.],\n",
                "       [ 0.,  0.,  0.,  0.,  0.,  0.,  0.,  0.,  0.,  0.],\n",
                "       [ 0.,  0.,  0.,  0.,  0.,  0.,  0.,  0.,  0.,  0.],\n",
                "       [ 0.,  0.,  0.,  0.,  0.,  0.,  0.,  0.,  0.,  0.],\n",
                "       [ 0.,  0.,  0.,  0.,  0.,  0.,  0.,  0.,  0.,  0.],\n",
                "       [ 0.,  0.,  0.,  0.,  0.,  0.,  0.,  0.,  0.,  0.],\n",
                "       [ 0.,  0.,  0.,  0.,  0.,  0.,  0.,  0.,  0.,  0.],\n",
                "       [ 0.,  0.,  0.,  0.,  0.,  0.,  0.,  0.,  0.,  0.],\n",
                "       [ 0.,  0.,  0.,  0.,  0.,  0.,  0.,  0.,  0.,  0.],\n",
                "       [ 0.,  0.,  0.,  0.,  0.,  0.,  0.,  0.,  0.,  0.]])"
              ]
            }
          ],
          "prompt_number": 8
        },
        {
          "cell_type": "markdown",
          "metadata": {},
          "source": [
            "---\n",
            "\n",
            "Operations on arrays propagate to all elements:"
          ]
        },
        {
          "cell_type": "code",
          "collapsed": false,
          "input": [
            "\n",
            "a = np.array([1.2, 3, 4])\n",
            "b = np.array([0.5, 0, 1])"
          ],
          "language": "python",
          "metadata": {},
          "outputs": [],
          "prompt_number": 9
        },
        {
          "cell_type": "markdown",
          "metadata": {},
          "source": [
            "Addition, multiplication, power, .. are all elementwise:"
          ]
        },
        {
          "cell_type": "code",
          "collapsed": false,
          "input": [
            "#clear",
            "a+b"
          ],
          "language": "python",
          "metadata": {},
          "outputs": [
            {
              "metadata": {},
              "output_type": "pyout",
              "prompt_number": 10,
              "text": [
                "array([ 1.7,  3. ,  5. ])"
              ]
            }
          ],
          "prompt_number": 10
        },
        {
          "cell_type": "code",
          "collapsed": false,
          "input": [
            "#clear",
            "a*b"
          ],
          "language": "python",
          "metadata": {},
          "outputs": [
            {
              "metadata": {},
              "output_type": "pyout",
              "prompt_number": 11,
              "text": [
                "array([ 0.6,  0. ,  4. ])"
              ]
            }
          ],
          "prompt_number": 11
        },
        {
          "cell_type": "code",
          "collapsed": false,
          "input": [
            "#clear",
            "a**b"
          ],
          "language": "python",
          "metadata": {},
          "outputs": [
            {
              "metadata": {},
              "output_type": "pyout",
              "prompt_number": 12,
              "text": [
                "array([ 1.09544512,  1.        ,  4.        ])"
              ]
            }
          ],
          "prompt_number": 12
        },
        {
          "cell_type": "markdown",
          "metadata": {},
          "source": [
            "Matrix multiplication is `np.dot(A, B)` for two 2D arrays."
          ]
        },
        {
          "cell_type": "markdown",
          "metadata": {},
          "source": [
            "---\n",
            "\n",
            "Numpy arrays have two (most) important attributes:"
          ]
        },
        {
          "cell_type": "code",
          "collapsed": false,
          "input": [
            "a = np.random.rand(5, 4, 3)\n",
            "a.shape"
          ],
          "language": "python",
          "metadata": {},
          "outputs": [
            {
              "metadata": {},
              "output_type": "pyout",
              "prompt_number": 13,
              "text": [
                "(5, 4, 3)"
              ]
            }
          ],
          "prompt_number": 13
        },
        {
          "cell_type": "markdown",
          "metadata": {},
          "source": [
            "The `.shape` attribute contains the dimensionality array as a tuple. So the tuple `(5,4,3)` means that we're dealing with a three-dimensional array of size $5 \\times 4 \\times 3$.\n",
            "\n",
            "(`numpy.random.rand` just generates an array of random numbers of the given shape.)"
          ]
        },
        {
          "cell_type": "code",
          "collapsed": false,
          "input": [
            "a.dtype"
          ],
          "language": "python",
          "metadata": {},
          "outputs": [
            {
              "metadata": {},
              "output_type": "pyout",
              "prompt_number": 14,
              "text": [
                "dtype('float64')"
              ]
            }
          ],
          "prompt_number": 14
        },
        {
          "cell_type": "markdown",
          "metadata": {},
          "source": [
            "Other `dtype`s include `np.complex64`, `np.int32`, ..."
          ]
        }
      ],
      "metadata": {}
    }
  ]
}