{
  "metadata": {
    "name": "",
    "signature": "sha256:eecd41272eced4b0eee98eb4cfa7890fa1cf2217ceeb70c0695c24ca56ea37ef"
  },
  "nbformat": 3,
  "nbformat_minor": 0,
  "worksheets": [
    {
      "cells": [
        {
          "cell_type": "markdown",
          "metadata": {},
          "source": [
            "# Objects in Python"
          ]
        },
        {
          "cell_type": "markdown",
          "metadata": {},
          "source": [
            "Everything in Python is an 'object'.\n",
            "\n",
            "Defining custom types of objects is easy:"
          ]
        },
        {
          "cell_type": "code",
          "collapsed": false,
          "input": [
            "\n",
            "class Employee:\n",
            "    def __init__(self, name, salary):\n",
            "        self.name = name\n",
            "        self.salary = salary\n",
            "        \n",
            "    def fire(self):\n",
            "        self.salary = 0"
          ],
          "language": "python",
          "metadata": {},
          "outputs": [],
          "prompt_number": 1
        },
        {
          "cell_type": "markdown",
          "metadata": {},
          "source": [
            "* Functions within the class (type) definition are called 'methods'.\n",
            "* They take an explicit `self` parameter, through which the object is passed.\n",
            "* `__init__` is the 'constructor'\n",
            "    * Objects are created by 'calling' the type like a function.\n",
            "    * Arguments in this call are passed to the constructor"
          ]
        },
        {
          "cell_type": "code",
          "collapsed": false,
          "input": [
            "joe = Employee(\"Joe\", 100000)\n",
            "joe.name"
          ],
          "language": "python",
          "metadata": {},
          "outputs": [
            {
              "metadata": {},
              "output_type": "pyout",
              "prompt_number": 11,
              "text": [
                "'Joe'"
              ]
            }
          ],
          "prompt_number": 11
        },
        {
          "cell_type": "code",
          "collapsed": false,
          "input": [
            "#clear",
            "joe.salary"
          ],
          "language": "python",
          "metadata": {},
          "outputs": [
            {
              "metadata": {},
              "output_type": "pyout",
              "prompt_number": 7,
              "text": [
                "100000"
              ]
            }
          ],
          "prompt_number": 7
        },
        {
          "cell_type": "markdown",
          "metadata": {},
          "source": [
            "Let's fire Joe."
          ]
        },
        {
          "cell_type": "code",
          "collapsed": false,
          "input": [
            "#clear",
            "joe.fire()"
          ],
          "language": "python",
          "metadata": {},
          "outputs": [],
          "prompt_number": 8
        },
        {
          "cell_type": "code",
          "collapsed": false,
          "input": [
            "#clear",
            "joe.salary"
          ],
          "language": "python",
          "metadata": {},
          "outputs": [
            {
              "metadata": {},
              "output_type": "pyout",
              "prompt_number": 9,
              "text": [
                "0"
              ]
            }
          ],
          "prompt_number": 9
        },
        {
          "cell_type": "markdown",
          "metadata": {},
          "source": [
            "## Inheritance"
          ]
        },
        {
          "cell_type": "markdown",
          "metadata": {},
          "source": [
            "Types can be based on other types by inheritance:"
          ]
        },
        {
          "cell_type": "code",
          "collapsed": false,
          "input": [
            "class Boss(Employee):\n",
            "    def __init__(self, name, salary, supervises):\n",
            "        super(Boss, self).__init__(name, salary)\n",
            "        \n",
            "        self.supervises = supervises\n",
            "        \n",
            "    def fire(self):\n",
            "        for s in self.supervises:\n",
            "            s.fire()\n",
            "            \n",
            "        super(Boss, self).fire()"
          ],
          "language": "python",
          "metadata": {},
          "outputs": [],
          "prompt_number": 10
        },
        {
          "cell_type": "code",
          "collapsed": false,
          "input": [
            "joe = Employee(\"Joe\", 100000)\n",
            "jack = Employee(\"Jack\", 100000)\n",
            "mike = Boss(\"Mike\", 150000, [joe, jack])\n",
            "\n",
            "mike.salary"
          ],
          "language": "python",
          "metadata": {},
          "outputs": [
            {
              "metadata": {},
              "output_type": "pyout",
              "prompt_number": 12,
              "text": [
                "150000"
              ]
            }
          ],
          "prompt_number": 12
        },
        {
          "cell_type": "code",
          "collapsed": false,
          "input": [
            "#clear",
            "joe.salary"
          ],
          "language": "python",
          "metadata": {},
          "outputs": [
            {
              "metadata": {},
              "output_type": "pyout",
              "prompt_number": 13,
              "text": [
                "100000"
              ]
            }
          ],
          "prompt_number": 13
        },
        {
          "cell_type": "markdown",
          "metadata": {},
          "source": [
            "Now what happens to Joe's salary if Mike gets fired?"
          ]
        },
        {
          "cell_type": "code",
          "collapsed": false,
          "input": [
            "#clear",
            "mike.fire()"
          ],
          "language": "python",
          "metadata": {},
          "outputs": [],
          "prompt_number": 14
        },
        {
          "cell_type": "code",
          "collapsed": false,
          "input": [
            "#clear",
            "joe.salary"
          ],
          "language": "python",
          "metadata": {},
          "outputs": [
            {
              "metadata": {},
              "output_type": "pyout",
              "prompt_number": 15,
              "text": [
                "0"
              ]
            }
          ],
          "prompt_number": 15
        }
      ],
      "metadata": {}
    }
  ]
}