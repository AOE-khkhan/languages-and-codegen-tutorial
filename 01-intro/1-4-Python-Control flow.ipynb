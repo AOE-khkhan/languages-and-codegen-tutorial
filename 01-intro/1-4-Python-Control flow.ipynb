{
  "metadata": {
    "name": "",
    "signature": "sha256:828c01862c730a7f1f598fca9af2a9f4b70af9870fb891d6bd9f2f4dec5a8f52"
  },
  "nbformat": 3,
  "nbformat_minor": 0,
  "worksheets": [
    {
      "cells": [
        {
          "cell_type": "markdown",
          "metadata": {},
          "source": [
            "# Python Introduction: Control Flow"
          ]
        },
        {
          "cell_type": "markdown",
          "metadata": {},
          "source": [
            "`for` loops in Python always iterate over something list-like:"
          ]
        },
        {
          "cell_type": "code",
          "collapsed": false,
          "input": [
            "#clear",
            "for i in range(10):\n",
            "    print(i)"
          ],
          "language": "python",
          "metadata": {},
          "outputs": [
            {
              "output_type": "stream",
              "stream": "stdout",
              "text": [
                "0\n",
                "1\n",
                "2\n",
                "3\n",
                "4\n",
                "5\n",
                "6\n",
                "7\n",
                "8\n",
                "9\n"
              ]
            }
          ],
          "prompt_number": 2
        },
        {
          "cell_type": "markdown",
          "metadata": {},
          "source": [
            "**Note** that Python does block-structuring by leading spaces.\n",
            "\n",
            "Also note the trailing \"`:`\"."
          ]
        },
        {
          "cell_type": "markdown",
          "metadata": {},
          "source": [
            "---\n",
            "`if`/`else` are as you would expect them to be:"
          ]
        },
        {
          "cell_type": "code",
          "collapsed": false,
          "input": [
            "for i in range(10):\n",
            "    if i % 3 == 0:\n",
            "        print(\"{0} is divisible by 3\".format(i))\n",
            "    else:\n",
            "        print(\"{0} is not divisible by 3\".format(i))"
          ],
          "language": "python",
          "metadata": {},
          "outputs": [
            {
              "output_type": "stream",
              "stream": "stdout",
              "text": [
                "0 is divisible by 3\n",
                "1 is not divisible by 3\n",
                "2 is not divisible by 3\n",
                "3 is divisible by 3\n",
                "4 is not divisible by 3\n",
                "5 is not divisible by 3\n",
                "6 is divisible by 3\n",
                "7 is not divisible by 3\n",
                "8 is not divisible by 3\n",
                "9 is divisible by 3\n"
              ]
            }
          ],
          "prompt_number": 3
        },
        {
          "cell_type": "markdown",
          "metadata": {},
          "source": [
            "`while` loops exist too:"
          ]
        },
        {
          "cell_type": "code",
          "collapsed": false,
          "input": [
            "i = 0\n",
            "while True:\n",
            "    i += 1\n",
            "    if i**3 + i**2 + i + 1 == 3616:\n",
            "        break\n",
            "\n",
            "print(\"SOLUTION:\", i)"
          ],
          "language": "python",
          "metadata": {},
          "outputs": [
            {
              "output_type": "stream",
              "stream": "stdout",
              "text": [
                "SOLUTION: 15\n"
              ]
            }
          ],
          "prompt_number": 5
        },
        {
          "cell_type": "markdown",
          "metadata": {},
          "source": [
            "----\n",
            "Building lists by hand can be a little long. For example, build a list of the squares of integers below 50 divisible by 7:"
          ]
        },
        {
          "cell_type": "code",
          "collapsed": false,
          "input": [
            "#clear",
            "mylist = []\n",
            "for i in range(50):\n",
            "    if i % 7 == 0:\n",
            "        mylist.append(i**2)"
          ],
          "language": "python",
          "metadata": {},
          "outputs": [],
          "prompt_number": 6
        },
        {
          "cell_type": "code",
          "collapsed": false,
          "input": [
            "mylist"
          ],
          "language": "python",
          "metadata": {},
          "outputs": [
            {
              "metadata": {},
              "output_type": "pyout",
              "prompt_number": 7,
              "text": [
                "[0, 49, 196, 441, 784, 1225, 1764, 2401]"
              ]
            }
          ],
          "prompt_number": 7
        },
        {
          "cell_type": "markdown",
          "metadata": {},
          "source": [
            "Python has a something called *list comprehension*:"
          ]
        },
        {
          "cell_type": "code",
          "collapsed": false,
          "input": [
            "#clear",
            "mylist = [i**2 for i in range(50) if i % 7 == 0]"
          ],
          "language": "python",
          "metadata": {},
          "outputs": [],
          "prompt_number": 8
        },
        {
          "cell_type": "code",
          "collapsed": false,
          "input": [
            "mylist"
          ],
          "language": "python",
          "metadata": {},
          "outputs": [
            {
              "metadata": {},
              "output_type": "pyout",
              "prompt_number": 9,
              "text": [
                "[0, 49, 196, 441, 784, 1225, 1764, 2401]"
              ]
            }
          ],
          "prompt_number": 9
        }
      ],
      "metadata": {}
    }
  ]
}