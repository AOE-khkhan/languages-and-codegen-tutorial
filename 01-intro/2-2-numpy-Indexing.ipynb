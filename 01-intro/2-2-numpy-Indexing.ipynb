{
  "metadata": {
    "name": "",
    "signature": "sha256:e483fead0c191e6c49967b48c55412c8c04b0f3a47abd174fd604a3d0aa2cb5e"
  },
  "nbformat": 3,
  "nbformat_minor": 0,
  "worksheets": [
    {
      "cells": [
        {
          "cell_type": "markdown",
          "metadata": {},
          "source": [
            "# numpy: Indexing"
          ]
        },
        {
          "cell_type": "code",
          "collapsed": false,
          "input": [
            "import numpy as np"
          ],
          "language": "python",
          "metadata": {},
          "outputs": [],
          "prompt_number": 1
        },
        {
          "cell_type": "code",
          "collapsed": false,
          "input": [
            "a = np.random.rand(3,4,5)\n",
            "a.shape"
          ],
          "language": "python",
          "metadata": {},
          "outputs": [
            {
              "metadata": {},
              "output_type": "pyout",
              "prompt_number": 2,
              "text": [
                "(3, 4, 5)"
              ]
            }
          ],
          "prompt_number": 2
        },
        {
          "cell_type": "markdown",
          "metadata": {},
          "source": [
            "What's the result of this?"
          ]
        },
        {
          "cell_type": "code",
          "collapsed": false,
          "input": [
            "a[0].shape"
          ],
          "language": "python",
          "metadata": {},
          "outputs": [
            {
              "metadata": {},
              "output_type": "pyout",
              "prompt_number": 3,
              "text": [
                "(4, 5)"
              ]
            }
          ],
          "prompt_number": 3
        },
        {
          "cell_type": "markdown",
          "metadata": {},
          "source": [
            "And this?"
          ]
        },
        {
          "cell_type": "code",
          "collapsed": false,
          "input": [
            "a[...,2].shape"
          ],
          "language": "python",
          "metadata": {},
          "outputs": [
            {
              "metadata": {},
              "output_type": "pyout",
              "prompt_number": 4,
              "text": [
                "(3, 4)"
              ]
            }
          ],
          "prompt_number": 4
        },
        {
          "cell_type": "code",
          "collapsed": false,
          "input": [
            "a[1,0,3]"
          ],
          "language": "python",
          "metadata": {},
          "outputs": [
            {
              "metadata": {},
              "output_type": "pyout",
              "prompt_number": 5,
              "text": [
                "0.025588609438720655"
              ]
            }
          ],
          "prompt_number": 5
        },
        {
          "cell_type": "markdown",
          "metadata": {},
          "source": [
            "Like all other things in Python, numpy indexes from 0."
          ]
        },
        {
          "cell_type": "code",
          "collapsed": false,
          "input": [
            "a[3,2,2].shape"
          ],
          "language": "python",
          "metadata": {},
          "outputs": [
            {
              "ename": "IndexError",
              "evalue": "index 3 is out of bounds for axis 0 with size 3",
              "output_type": "pyerr",
              "traceback": [
                "\u001b[0;31m---------------------------------------------------------------------------\u001b[0m\n\u001b[0;31mIndexError\u001b[0m                                Traceback (most recent call last)",
                "\u001b[0;32m<ipython-input-6-4c22dfd164ed>\u001b[0m in \u001b[0;36m<module>\u001b[0;34m()\u001b[0m\n\u001b[1;32m      1\u001b[0m \u001b[0;31m#keep\u001b[0m\u001b[0;34m\u001b[0m\u001b[0;34m\u001b[0m\u001b[0m\n\u001b[0;32m----> 2\u001b[0;31m \u001b[0ma\u001b[0m\u001b[0;34m[\u001b[0m\u001b[0;36m3\u001b[0m\u001b[0;34m,\u001b[0m\u001b[0;36m2\u001b[0m\u001b[0;34m,\u001b[0m\u001b[0;36m2\u001b[0m\u001b[0;34m]\u001b[0m\u001b[0;34m.\u001b[0m\u001b[0mshape\u001b[0m\u001b[0;34m\u001b[0m\u001b[0m\n\u001b[0m",
                "\u001b[0;31mIndexError\u001b[0m: index 3 is out of bounds for axis 0 with size 3"
              ]
            }
          ],
          "prompt_number": 6
        },
        {
          "cell_type": "code",
          "collapsed": false,
          "input": [
            "a[:,2].shape"
          ],
          "language": "python",
          "metadata": {},
          "outputs": [
            {
              "metadata": {},
              "output_type": "pyout",
              "prompt_number": 7,
              "text": [
                "(3, 5)"
              ]
            }
          ],
          "prompt_number": 7
        },
        {
          "cell_type": "markdown",
          "metadata": {},
          "source": [
            "---\n",
            "\n",
            "Indexing into numpy arrays usually results in a so-called *view*."
          ]
        },
        {
          "cell_type": "code",
          "collapsed": false,
          "input": [
            "a = np.zeros((4,4))\n",
            "a"
          ],
          "language": "python",
          "metadata": {},
          "outputs": [
            {
              "metadata": {},
              "output_type": "pyout",
              "prompt_number": 8,
              "text": [
                "array([[ 0.,  0.,  0.,  0.],\n",
                "       [ 0.,  0.,  0.,  0.],\n",
                "       [ 0.,  0.,  0.,  0.],\n",
                "       [ 0.,  0.,  0.,  0.]])"
              ]
            }
          ],
          "prompt_number": 8
        },
        {
          "cell_type": "markdown",
          "metadata": {},
          "source": [
            "Let's call `b` the top-left $2\\times 2$ submatrix."
          ]
        },
        {
          "cell_type": "code",
          "collapsed": false,
          "input": [
            "#clear",
            "b = a[:2,:2]\n",
            "b"
          ],
          "language": "python",
          "metadata": {},
          "outputs": [
            {
              "metadata": {},
              "output_type": "pyout",
              "prompt_number": 9,
              "text": [
                "array([[ 0.,  0.],\n",
                "       [ 0.,  0.]])"
              ]
            }
          ],
          "prompt_number": 9
        },
        {
          "cell_type": "markdown",
          "metadata": {},
          "source": [
            "What happens if we change `b`?"
          ]
        },
        {
          "cell_type": "code",
          "collapsed": false,
          "input": [
            "#clear",
            "b[1,0] = 5\n",
            "b"
          ],
          "language": "python",
          "metadata": {},
          "outputs": [
            {
              "metadata": {},
              "output_type": "pyout",
              "prompt_number": 10,
              "text": [
                "array([[ 0.,  0.],\n",
                "       [ 5.,  0.]])"
              ]
            }
          ],
          "prompt_number": 10
        },
        {
          "cell_type": "code",
          "collapsed": false,
          "input": [
            "print(a)"
          ],
          "language": "python",
          "metadata": {},
          "outputs": [
            {
              "output_type": "stream",
              "stream": "stdout",
              "text": [
                "[[ 0.  0.  0.  0.]\n",
                " [ 5.  0.  0.  0.]\n",
                " [ 0.  0.  0.  0.]\n",
                " [ 0.  0.  0.  0.]]\n"
              ]
            }
          ],
          "prompt_number": 12
        },
        {
          "cell_type": "markdown",
          "metadata": {},
          "source": [
            "To decouple `b` from `a`, use `.copy()`."
          ]
        },
        {
          "cell_type": "code",
          "collapsed": false,
          "input": [
            "b = b.copy()\n",
            "b[1,1] = 7\n",
            "print(a) "
          ],
          "language": "python",
          "metadata": {},
          "outputs": [
            {
              "output_type": "stream",
              "stream": "stdout",
              "text": [
                "[[ 0.  0.  0.  0.]\n",
                " [ 5.  0.  0.  0.]\n",
                " [ 0.  0.  0.  0.]\n",
                " [ 0.  0.  0.  0.]]\n"
              ]
            }
          ],
          "prompt_number": 13
        },
        {
          "cell_type": "markdown",
          "metadata": {},
          "source": [
            "----\n",
            "\n",
            "You can also index with other arrays:"
          ]
        },
        {
          "cell_type": "code",
          "collapsed": false,
          "input": [
            "a = np.random.rand(4,4)\n",
            "a"
          ],
          "language": "python",
          "metadata": {},
          "outputs": [
            {
              "metadata": {},
              "output_type": "pyout",
              "prompt_number": 14,
              "text": [
                "array([[ 0.94747406,  0.89080192,  0.46799144,  0.54340544],\n",
                "       [ 0.54409333,  0.27586608,  0.60682897,  0.61962813],\n",
                "       [ 0.06203009,  0.7958913 ,  0.93468584,  0.88864481],\n",
                "       [ 0.98627827,  0.73442815,  0.90304704,  0.18186312]])"
              ]
            }
          ],
          "prompt_number": 14
        },
        {
          "cell_type": "code",
          "collapsed": false,
          "input": [
            "#clear",
            "i = np.array([0,2])\n",
            "a[i]"
          ],
          "language": "python",
          "metadata": {},
          "outputs": [
            {
              "metadata": {},
              "output_type": "pyout",
              "prompt_number": 15,
              "text": [
                "array([[ 0.94747406,  0.89080192,  0.46799144,  0.54340544],\n",
                "       [ 0.06203009,  0.7958913 ,  0.93468584,  0.88864481]])"
              ]
            }
          ],
          "prompt_number": 15
        },
        {
          "cell_type": "markdown",
          "metadata": {},
          "source": [
            "---\n",
            "\n",
            "And with conditionals:"
          ]
        },
        {
          "cell_type": "code",
          "collapsed": false,
          "input": [
            "a>0.5"
          ],
          "language": "python",
          "metadata": {},
          "outputs": [
            {
              "metadata": {},
              "output_type": "pyout",
              "prompt_number": 16,
              "text": [
                "array([[ True,  True, False,  True],\n",
                "       [ True, False,  True,  True],\n",
                "       [False,  True,  True,  True],\n",
                "       [ True,  True,  True, False]], dtype=bool)"
              ]
            }
          ],
          "prompt_number": 16
        },
        {
          "cell_type": "code",
          "collapsed": false,
          "input": [
            "#clear",
            "a[a>0.5]"
          ],
          "language": "python",
          "metadata": {},
          "outputs": [
            {
              "metadata": {},
              "output_type": "pyout",
              "prompt_number": 17,
              "text": [
                "array([ 0.94747406,  0.89080192,  0.54340544,  0.54409333,  0.60682897,\n",
                "        0.61962813,  0.7958913 ,  0.93468584,  0.88864481,  0.98627827,\n",
                "        0.73442815,  0.90304704])"
              ]
            }
          ],
          "prompt_number": 17
        }
      ],
      "metadata": {}
    }
  ]
}