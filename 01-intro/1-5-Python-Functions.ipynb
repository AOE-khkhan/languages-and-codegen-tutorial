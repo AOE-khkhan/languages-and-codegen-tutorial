{
 "metadata": {
  "name": "",
  "signature": "sha256:89c2f3cdab27ba4a33d0db1bb4a485c797c08a3abccb29ee75d123f2e69d6598"
 },
 "nbformat": 3,
 "nbformat_minor": 0,
 "worksheets": [
  {
   "cells": [
    {
     "cell_type": "markdown",
     "metadata": {},
     "source": [
      "# Python Introduction: Functions"
     ]
    },
    {
     "cell_type": "markdown",
     "metadata": {},
     "source": [
      "Functions help extract out common code blocks.\n",
      "\n",
      "Let's define a function `print_greeting()`."
     ]
    },
    {
     "cell_type": "code",
     "collapsed": false,
     "input": [
      "def print_greeting():\n",
      "    print(\"Hi there, how are you?\")\n",
      "    print(\"Long time no see.\")"
     ],
     "language": "python",
     "metadata": {},
     "outputs": [],
     "prompt_number": 1
    },
    {
     "cell_type": "markdown",
     "metadata": {},
     "source": [
      "And call it:"
     ]
    },
    {
     "cell_type": "code",
     "collapsed": false,
     "input": [
      "#keep\n",
      "print_greeting()"
     ],
     "language": "python",
     "metadata": {},
     "outputs": [
      {
       "output_type": "stream",
       "stream": "stdout",
       "text": [
        "Hi there, how are you?\n",
        "Long time no see.\n"
       ]
      }
     ],
     "prompt_number": 2
    },
    {
     "cell_type": "markdown",
     "metadata": {},
     "source": [
      "That's a bit impersonal."
     ]
    },
    {
     "cell_type": "code",
     "collapsed": false,
     "input": [
      "def print_greeting(name):\n",
      "    print(\"Hi there, {0}, how are you?\".format(name))\n",
      "    print(\"Long time no see.\")"
     ],
     "language": "python",
     "metadata": {},
     "outputs": [],
     "prompt_number": 3
    },
    {
     "cell_type": "code",
     "collapsed": false,
     "input": [
      "#keep\n",
      "print_greeting(\"Andreas\")"
     ],
     "language": "python",
     "metadata": {},
     "outputs": [
      {
       "output_type": "stream",
       "stream": "stdout",
       "text": [
        "Hi there, Andreas, how are you?\n",
        "Long time no see.\n"
       ]
      }
     ],
     "prompt_number": 4
    },
    {
     "cell_type": "markdown",
     "metadata": {},
     "source": [
      "But we might not know their name.\n",
      "\n",
      "(And we just changed the interface of `print_greeting`!)"
     ]
    },
    {
     "cell_type": "code",
     "collapsed": false,
     "input": [
      "def print_greeting(name=\"my friend\"):\n",
      "    print(\"Hi there, {0}, how are you?\".format(name))\n",
      "    print(\"Long time no see.\")"
     ],
     "language": "python",
     "metadata": {},
     "outputs": [],
     "prompt_number": 6
    },
    {
     "cell_type": "code",
     "collapsed": false,
     "input": [
      "#keep\n",
      "print_greeting(\"Andreas\")\n",
      "print_greeting()"
     ],
     "language": "python",
     "metadata": {},
     "outputs": [
      {
       "output_type": "stream",
       "stream": "stdout",
       "text": [
        "Hi there, Andreas, how are you?\n",
        "Long time no see.\n",
        "Hi there, my friend, how are you?\n",
        "Long time no see.\n"
       ]
      }
     ],
     "prompt_number": 7
    },
    {
     "cell_type": "markdown",
     "metadata": {},
     "source": [
      "----"
     ]
    },
    {
     "cell_type": "markdown",
     "metadata": {},
     "source": [
      "Function parameters work like variables.\n",
      "\n",
      "So what does this do?"
     ]
    },
    {
     "cell_type": "code",
     "collapsed": false,
     "input": [
      "#keep\n",
      "def my_func(my_list):\n",
      "    my_list.append(5)\n",
      "    \n",
      "l = [1,2,3]\n",
      "my_func(l)\n",
      "print(l)"
     ],
     "language": "python",
     "metadata": {},
     "outputs": [
      {
       "output_type": "stream",
       "stream": "stdout",
       "text": [
        "[1, 2, 3, 5]\n"
       ]
      }
     ],
     "prompt_number": 8
    },
    {
     "cell_type": "markdown",
     "metadata": {},
     "source": [
      "Can be very surprising!\n",
      "\n",
      "Define a better function `my_func_2`:"
     ]
    },
    {
     "cell_type": "code",
     "collapsed": false,
     "input": [
      "def my_func_2(my_list):\n",
      "    return my_list + [5]"
     ],
     "language": "python",
     "metadata": {},
     "outputs": [],
     "prompt_number": 9
    },
    {
     "cell_type": "code",
     "collapsed": false,
     "input": [
      "#keep\n",
      "l = [1,2,3]\n",
      "l2 = my_func_2(l)\n",
      "print(l)\n",
      "print(l2)"
     ],
     "language": "python",
     "metadata": {},
     "outputs": [
      {
       "output_type": "stream",
       "stream": "stdout",
       "text": [
        "[1, 2, 3]\n",
        "[1, 2, 3, 5]\n"
       ]
      }
     ],
     "prompt_number": 10
    }
   ],
   "metadata": {}
  }
 ]
}