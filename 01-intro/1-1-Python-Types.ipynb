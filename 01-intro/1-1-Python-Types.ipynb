{
  "metadata": {
    "name": "",
    "signature": "sha256:e598a717a21a88a29263bbaeb50e3edea0b4a5d88967ac3688ec2abad3c6b779"
  },
  "nbformat": 3,
  "nbformat_minor": 0,
  "worksheets": [
    {
      "cells": [
        {
          "cell_type": "markdown",
          "metadata": {},
          "source": [
            "# Python Introduction: Types"
          ]
        },
        {
          "cell_type": "markdown",
          "metadata": {},
          "source": [
            "Let's evaluate some simple expressions."
          ]
        },
        {
          "cell_type": "code",
          "collapsed": false,
          "input": [
            "#clear",
            "3*2"
          ],
          "language": "python",
          "metadata": {},
          "outputs": [
            {
              "metadata": {},
              "output_type": "pyout",
              "prompt_number": 1,
              "text": [
                "6"
              ]
            }
          ],
          "prompt_number": 1
        },
        {
          "cell_type": "code",
          "collapsed": false,
          "input": [
            "#clear",
            "5+3*2"
          ],
          "language": "python",
          "metadata": {},
          "outputs": [
            {
              "metadata": {},
              "output_type": "pyout",
              "prompt_number": 2,
              "text": [
                "11"
              ]
            }
          ],
          "prompt_number": 2
        },
        {
          "cell_type": "markdown",
          "metadata": {},
          "source": [
            "You can use `type()` to find the *type* of an expression."
          ]
        },
        {
          "cell_type": "code",
          "collapsed": false,
          "input": [
            "#clear",
            "type(5+3*2)"
          ],
          "language": "python",
          "metadata": {},
          "outputs": [
            {
              "metadata": {},
              "output_type": "pyout",
              "prompt_number": 3,
              "text": [
                "int"
              ]
            }
          ],
          "prompt_number": 3
        },
        {
          "cell_type": "markdown",
          "metadata": {},
          "source": [
            "Now add decimal points."
          ]
        },
        {
          "cell_type": "code",
          "collapsed": false,
          "input": [
            "#clear",
            "5+3.5*2"
          ],
          "language": "python",
          "metadata": {},
          "outputs": [
            {
              "metadata": {},
              "output_type": "pyout",
              "prompt_number": 4,
              "text": [
                "12.0"
              ]
            }
          ],
          "prompt_number": 4
        },
        {
          "cell_type": "code",
          "collapsed": false,
          "input": [
            "#clear",
            "type(5+3.0*2)"
          ],
          "language": "python",
          "metadata": {},
          "outputs": [
            {
              "metadata": {},
              "output_type": "pyout",
              "prompt_number": 5,
              "text": [
                "float"
              ]
            }
          ],
          "prompt_number": 5
        },
        {
          "cell_type": "markdown",
          "metadata": {},
          "source": [
            "Strings are written with single (``'``) or double quotes (`\"`)"
          ]
        },
        {
          "cell_type": "code",
          "collapsed": false,
          "input": [
            "#clear",
            "\"hello\""
          ],
          "language": "python",
          "metadata": {},
          "outputs": [
            {
              "metadata": {},
              "output_type": "pyout",
              "prompt_number": 6,
              "text": [
                "'hello'"
              ]
            }
          ],
          "prompt_number": 6
        },
        {
          "cell_type": "markdown",
          "metadata": {},
          "source": [
            "Multiplication and addition work on strings, too."
          ]
        },
        {
          "cell_type": "code",
          "collapsed": false,
          "input": [
            "#clear",
            "3 * 'hello ' + \"sc15\""
          ],
          "language": "python",
          "metadata": {},
          "outputs": [
            {
              "metadata": {},
              "output_type": "pyout",
              "prompt_number": 2,
              "text": [
                "'hello hello hello sc15'"
              ]
            }
          ],
          "prompt_number": 2
        },
        {
          "cell_type": "markdown",
          "metadata": {},
          "source": [
            "Lists are written in brackets (`[]`) with commas (`,`)."
          ]
        },
        {
          "cell_type": "code",
          "collapsed": false,
          "input": [
            "#clear",
            "[5, 3, 7]"
          ],
          "language": "python",
          "metadata": {},
          "outputs": [
            {
              "metadata": {},
              "output_type": "pyout",
              "prompt_number": 8,
              "text": [
                "[5, 3, 7]"
              ]
            }
          ],
          "prompt_number": 8
        },
        {
          "cell_type": "markdown",
          "metadata": {},
          "source": [
            "List entries don't have to have the same type."
          ]
        },
        {
          "cell_type": "code",
          "collapsed": false,
          "input": [
            "[\"hi there\", 15, [1,2,3]]"
          ],
          "language": "python",
          "metadata": {},
          "outputs": [
            {
              "metadata": {},
              "output_type": "pyout",
              "prompt_number": 9,
              "text": [
                "['hi there', 15, [1, 2, 3]]"
              ]
            }
          ],
          "prompt_number": 9
        },
        {
          "cell_type": "markdown",
          "metadata": {},
          "source": [
            "\"Multiplication\" and \"addition\" work on lists, too."
          ]
        },
        {
          "cell_type": "code",
          "collapsed": false,
          "input": [
            "#clear",
            "[1,2,3] * 4 + [5, 5, 5]"
          ],
          "language": "python",
          "metadata": {},
          "outputs": [
            {
              "metadata": {},
              "output_type": "pyout",
              "prompt_number": 10,
              "text": [
                "[1, 2, 3, 1, 2, 3, 1, 2, 3, 1, 2, 3, 5, 5, 5]"
              ]
            }
          ],
          "prompt_number": 10
        },
        {
          "cell_type": "markdown",
          "metadata": {},
          "source": [
            "Hmmmmmm. Was that what you expected?"
          ]
        },
        {
          "cell_type": "code",
          "collapsed": false,
          "input": [
            "#clear",
            "import numpy as np\n",
            "\n",
            "np.array([1,2,3]) * 4 + np.array([5,5,5])"
          ],
          "language": "python",
          "metadata": {},
          "outputs": [
            {
              "metadata": {},
              "output_type": "pyout",
              "prompt_number": 11,
              "text": [
                "array([ 9, 13, 17])"
              ]
            }
          ],
          "prompt_number": 11
        }
      ],
      "metadata": {}
    }
  ]
}