{
 "metadata": {
  "name": "",
  "signature": "sha256:dc19f0ad8838d8051702f5ac99418d365369ac49d3f1d291cf636eacbc46fe75"
 },
 "nbformat": 3,
 "nbformat_minor": 0,
 "worksheets": [
  {
   "cells": [
    {
     "cell_type": "markdown",
     "metadata": {},
     "source": [
      "# Practice: Build a recursive data structure"
     ]
    },
    {
     "cell_type": "markdown",
     "metadata": {},
     "source": [
      "You are given an array of floating point numbers called `numbers`. These numbers lie between 0 and 1.\n",
      "\n",
      "Use a recursive function to sort them into a tree of bins. Each non-leaf node of the tree should consist of a tuple `(smaller, pivot, larger)`, where `smaller` is the part of the tree representing numbers less than `pivot`, and `larger` represents the part of the tree with numbers larger than `pivot`. Both `smaller` and `larger` are either actualy numpy arrays with numbers, or further tuples representing a split tree.\n",
      "\n",
      "Write a function `build_tree(numbers, left_end, right_end, max_in_leaf=5)` that builds this data structure, where\n",
      "\n",
      "* `left_end` is the left end of the interval being built\n",
      "* `right_end` is the right end of the interval being built\n",
      "* `max_in_leaf` is the largest number of numbers allowed in a leaf node of the tree"
     ]
    },
    {
     "cell_type": "code",
     "collapsed": false,
     "input": [
      "#keep\n",
      "import numpy as np\n",
      "\n",
      "numbers = np.random.rand(100)"
     ],
     "language": "python",
     "metadata": {},
     "outputs": [],
     "prompt_number": 19
    },
    {
     "cell_type": "code",
     "collapsed": false,
     "input": [
      "#keep\n",
      "def build_tree(numbers, left, right, max_in_leaf=5):\n",
      "    # ...\n",
      "    pass"
     ],
     "language": "python",
     "metadata": {},
     "outputs": [],
     "prompt_number": 20
    },
    {
     "cell_type": "code",
     "collapsed": false,
     "input": [
      "# Solution\n",
      "def build_tree(numbers, left, right, max_in_leaf=5):\n",
      "    if len(numbers) <= max_in_leaf:\n",
      "        return numbers\n",
      "    pivot = (left + right)/2\n",
      "    return (build_tree(numbers[numbers < pivot], left, pivot, max_in_leaf),\n",
      "            pivot,\n",
      "            build_tree(numbers[numbers >= pivot], pivot, right, max_in_leaf))"
     ],
     "language": "python",
     "metadata": {},
     "outputs": [],
     "prompt_number": 23
    },
    {
     "cell_type": "code",
     "collapsed": false,
     "input": [
      "#keep\n",
      "tree = build_tree(numbers, 0, 1)\n",
      "print(tree)"
     ],
     "language": "python",
     "metadata": {},
     "outputs": [
      {
       "output_type": "stream",
       "stream": "stdout",
       "text": [
        "((((array([ 0.05686915,  0.03341607,  0.05334629,  0.0184341 ,  0.05927866]), 0.0625, (array([ 0.08749142,  0.07578072,  0.08643716,  0.0725388 ]), 0.09375, array([ 0.11969237,  0.10466913,  0.11139069,  0.11251502]))), 0.125, ((array([ 0.13849761,  0.14547091,  0.12811183,  0.14651281,  0.15511067]), 0.15625, array([ 0.1696777 ,  0.17937294,  0.18454907,  0.16136955])), 0.1875, (array([ 0.21721241,  0.20242237,  0.21074596]), 0.21875, array([ 0.23407005,  0.23631789,  0.24607067])))), 0.25, ((array([ 0.29497478,  0.25233677,  0.3006561 ,  0.30223988,  0.28090178]), 0.3125, (array([ 0.32019875,  0.32764105,  0.33774564]), 0.34375, array([ 0.35053811,  0.35208287,  0.35021878]))), 0.375, ((array([ 0.4053638,  0.393081 ]), 0.40625, array([ 0.41712374,  0.43456742,  0.4281688 ,  0.43390522])), 0.4375, (array([ 0.45557522,  0.43832096]), 0.46875, array([ 0.48042167,  0.46959735,  0.48932524,  0.48320081,  0.47328103]))))), 0.5, (((array([ 0.50410359,  0.52077594,  0.54802177]), 0.5625, array([ 0.58237191,  0.62243477,  0.60418201,  0.59440497])), 0.625, (((array([ 0.63977229,  0.63991038]), 0.640625, array([ 0.64088063,  0.64483656,  0.64592302,  0.6534615 ])), 0.65625, array([ 0.68228083,  0.68588018,  0.67494288,  0.68014946])), 0.6875, array([ 0.72389998,  0.74995422,  0.7318127 ,  0.71706362]))), 0.75, ((array([ 0.8075792 ,  0.80108283,  0.7954147 ]), 0.8125, array([ 0.83458956,  0.86345128,  0.86723686,  0.86165319,  0.82578183])), 0.875, (((array([ 0.88956584,  0.8751696 ]), 0.890625, array([ 0.89198479,  0.90233283,  0.89809265,  0.89187466,  0.89538602])), 0.90625, array([ 0.92708049,  0.92347032])), 0.9375, ((array([ 0.95282318,  0.95126701,  0.93835161,  0.94978418,  0.94989147]), 0.953125, array([ 0.95333779,  0.96065052,  0.96861067])), 0.96875, array([ 0.9798253 ,  0.98977673]))))))\n"
       ]
      }
     ],
     "prompt_number": 22
    },
    {
     "cell_type": "code",
     "collapsed": false,
     "input": [],
     "language": "python",
     "metadata": {},
     "outputs": []
    }
   ],
   "metadata": {}
  }
 ]
}