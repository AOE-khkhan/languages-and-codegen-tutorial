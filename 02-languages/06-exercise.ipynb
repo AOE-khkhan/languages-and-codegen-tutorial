{
 "metadata": {
  "name": "",
  "signature": "sha256:a69f2a64621e1971c606ad2014a783c7c6a79e9db7124e63e0c5df98793fa25a"
 },
 "nbformat": 3,
 "nbformat_minor": 0,
 "worksheets": [
  {
   "cells": [
    {
     "cell_type": "markdown",
     "metadata": {},
     "source": [
      "# Expression Tree Exercise"
     ]
    },
    {
     "cell_type": "code",
     "collapsed": false,
     "input": [],
     "language": "python",
     "metadata": {},
     "outputs": []
    }
   ],
   "metadata": {}
  }
 ]
}