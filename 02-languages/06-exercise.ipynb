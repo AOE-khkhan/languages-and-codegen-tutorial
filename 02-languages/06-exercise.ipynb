{
 "metadata": {
  "name": "",
  "signature": "sha256:5bcc306487f055db4c6118998345aad4dfa1270de960435672e6cfd54a1a0ecb"
 },
 "nbformat": 3,
 "nbformat_minor": 0,
 "worksheets": [
  {
   "cells": [
    {
     "cell_type": "markdown",
     "metadata": {},
     "source": [
      "# Expression Tree Exercise"
     ]
    },
    {
     "cell_type": "markdown",
     "metadata": {},
     "source": [
      "1. Define a custom expression node `Derivative` that takes a variable symbol as an argument.\n",
      "1. Create a mapper that takes an expression with `Derivative` nodes and replaces each of these with their forward finite difference discretizations, that is `Derivative(u)` becomes `u[i+1]-u[i]`.\n",
      "1. Test your code using the Bessel ODE:\n",
      "\n",
      "$$\n",
      "x^2 \\frac{d^2 y}{dx^2} + x \\frac{dy}{dx} + (x^2 - \\alpha^2)y = 0 \n",
      "$$\n",
      "\n",
      "*Hint:* If you run into trouble, take a look at the notebook `06-loopy/pde-to-code` for some ideas."
     ]
    },
    {
     "cell_type": "code",
     "collapsed": false,
     "input": [],
     "language": "python",
     "metadata": {},
     "outputs": []
    }
   ],
   "metadata": {}
  }
 ]
}