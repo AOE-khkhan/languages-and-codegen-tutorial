{
  "metadata": {
    "name": "",
    "signature": "sha256:af91bb3b7c351a107984b31d97632328275bd01fb7a31ac1cb2de7c01a24e831"
  },
  "nbformat": 3,
  "nbformat_minor": 0,
  "worksheets": [
    {
      "cells": [
        {
          "cell_type": "markdown",
          "metadata": {},
          "source": [
            "# Expression Trees"
          ]
        },
        {
          "cell_type": "markdown",
          "metadata": {},
          "source": [
            "What's an *expression tree*?"
          ]
        },
        {
          "cell_type": "code",
          "collapsed": false,
          "input": [
            "import pymbolic.primitives as p\n",
            "x = p.Variable(\"x\")\n",
            "y = p.Variable(\"y\")\n",
            "x"
          ],
          "language": "python",
          "metadata": {},
          "outputs": [
            {
              "metadata": {},
              "output_type": "pyout",
              "prompt_number": 1,
              "text": [
                "Variable('x')"
              ]
            }
          ],
          "prompt_number": 1
        },
        {
          "cell_type": "markdown",
          "metadata": {},
          "source": [
            "Let's look what happens with a simple expression:"
          ]
        },
        {
          "cell_type": "code",
          "collapsed": false,
          "input": [
            "#clear",
            "x+5"
          ],
          "language": "python",
          "metadata": {},
          "outputs": [
            {
              "metadata": {},
              "output_type": "pyout",
              "prompt_number": 2,
              "text": [
                "Sum((Variable('x'), 5))"
              ]
            }
          ],
          "prompt_number": 2
        },
        {
          "cell_type": "markdown",
          "metadata": {},
          "source": [
            "It does not get evaluated.\n",
            "\n",
            "---\n",
            "\n",
            "Let's look at its type and structure in more detail."
          ]
        },
        {
          "cell_type": "code",
          "collapsed": false,
          "input": [
            "u = x+5"
          ],
          "language": "python",
          "metadata": {},
          "outputs": [],
          "prompt_number": 3
        },
        {
          "cell_type": "code",
          "collapsed": false,
          "input": [
            "#clear",
            "type(u)"
          ],
          "language": "python",
          "metadata": {},
          "outputs": [
            {
              "metadata": {},
              "output_type": "pyout",
              "prompt_number": 4,
              "text": [
                "pymbolic.primitives.Sum"
              ]
            }
          ],
          "prompt_number": 4
        },
        {
          "cell_type": "code",
          "collapsed": false,
          "input": [
            "#clear",
            "u.children"
          ],
          "language": "python",
          "metadata": {},
          "outputs": [
            {
              "metadata": {},
              "output_type": "pyout",
              "prompt_number": 5,
              "text": [
                "(Variable('x'), 5)"
              ]
            }
          ],
          "prompt_number": 5
        },
        {
          "cell_type": "markdown",
          "metadata": {},
          "source": [
            "OK, easy. What if we introduce a product?"
          ]
        },
        {
          "cell_type": "code",
          "collapsed": false,
          "input": [
            "u = x + 4*y\n",
            "u"
          ],
          "language": "python",
          "metadata": {},
          "outputs": [
            {
              "metadata": {},
              "output_type": "pyout",
              "prompt_number": 6,
              "text": [
                "Sum((Variable('x'), Product((4, Variable('y')))))"
              ]
            }
          ],
          "prompt_number": 6
        },
        {
          "cell_type": "code",
          "collapsed": false,
          "input": [
            "#clear",
            "u.children[0]"
          ],
          "language": "python",
          "metadata": {},
          "outputs": [
            {
              "metadata": {},
              "output_type": "pyout",
              "prompt_number": 7,
              "text": [
                "Variable('x')"
              ]
            }
          ],
          "prompt_number": 7
        },
        {
          "cell_type": "code",
          "collapsed": false,
          "input": [
            "#clear",
            "u.children[1]"
          ],
          "language": "python",
          "metadata": {},
          "outputs": [
            {
              "metadata": {},
              "output_type": "pyout",
              "prompt_number": 8,
              "text": [
                "Product((4, Variable('y')))"
              ]
            }
          ],
          "prompt_number": 8
        },
        {
          "cell_type": "code",
          "collapsed": false,
          "input": [
            "#clear",
            "u.children[1].children[0]"
          ],
          "language": "python",
          "metadata": {},
          "outputs": [
            {
              "metadata": {},
              "output_type": "pyout",
              "prompt_number": 9,
              "text": [
                "4"
              ]
            }
          ],
          "prompt_number": 9
        },
        {
          "cell_type": "code",
          "collapsed": false,
          "input": [
            "#clear",
            "u.children[1].children[1]"
          ],
          "language": "python",
          "metadata": {},
          "outputs": [
            {
              "metadata": {},
              "output_type": "pyout",
              "prompt_number": 22,
              "text": [
                "Variable('y')"
              ]
            }
          ],
          "prompt_number": 22
        },
        {
          "cell_type": "markdown",
          "metadata": {},
          "source": [
            "This structure is a called a *tree*, because there is a *root* and *branches*."
          ]
        }
      ],
      "metadata": {}
    }
  ]
}