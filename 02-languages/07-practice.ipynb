{
  "metadata": {
    "name": "",
    "signature": "sha256:a1937a8d33adbe99d6e4b10d8bc4705029d014ef3d0490eecbcb4bb81d0de937"
  },
  "nbformat": 3,
  "nbformat_minor": 0,
  "worksheets": [
    {
      "cells": [
        {
          "cell_type": "markdown",
          "metadata": {},
          "source": [
            "# Practice: Apply the chain rule"
          ]
        },
        {
          "cell_type": "markdown",
          "metadata": {},
          "source": [
            "1. Define a custom expression node `Derivative(expr, v)` that symbolically represents taking a derivative of an expression `expr` with respect to variable `v`.\n",
            "1. Now suppose that, in order to take a derivative by a coordinate `x` (given), what your code actually has to do is consider the derivative in a *reference coordinate system* consisting of coordinates `r` and `s` and therefore needs to apply the chain rule identity\n",
            "\n",
            "$$ \\frac{d\\text{expr}}{dx} = \\frac{d\\text{expr}}{dr}\\frac{dr}{dx} + \\frac{d\\text{expr}}{ds}\\frac{ds}{dx}$$\n",
            "\n",
            "Write a `ChainRuleMapper` that applies this identity."
          ]
        },
        {
          "cell_type": "code",
          "collapsed": false,
          "input": [
            "from pymbolic import var\n",
            "from pymbolic.primitives import Expression\n",
            "from pymbolic.mapper import IdentityMapper\n",
            "\n",
            "x = var(\"x\")\n",
            "r = var(\"r\")\n",
            "s = var(\"s\")"
          ],
          "language": "python",
          "metadata": {},
          "outputs": [],
          "prompt_number": 7
        },
        {
          "cell_type": "code",
          "collapsed": false,
          "input": [
            "class Derivative(Expression):\n",
            "    # ...\n",
            "    pass"
          ],
          "language": "python",
          "metadata": {},
          "outputs": [],
          "prompt_number": 8
        },
        {
          "cell_type": "markdown",
          "metadata": {},
          "source": [
            "To avoid conflicts with a `Derivative` node type that's already part of pymbolic, we call our mapper method `map_deriv`."
          ]
        },
        {
          "cell_type": "code",
          "collapsed": false,
          "input": [
            "#clear",
            "# Solution\n",
            "class Derivative(Expression):\n",
            "    def __init__(self, expr, v):\n",
            "        self.expr = expr\n",
            "        self.v = v\n",
            "    \n",
            "    def __getinitargs__(self):\n",
            "        return (self.expr, self.v)\n",
            "    \n",
            "    mapper_method = \"map_deriv\""
          ],
          "language": "python",
          "metadata": {},
          "outputs": [],
          "prompt_number": 32
        },
        {
          "cell_type": "code",
          "collapsed": false,
          "input": [
            "expr = var(\"sqrt\")(Derivative(27*x**2+var(\"exp\")(x), x))\n",
            "print(repr(expr))"
          ],
          "language": "python",
          "metadata": {},
          "outputs": [
            {
              "output_type": "stream",
              "stream": "stdout",
              "text": [
                "Call(Variable('sqrt'), (Derivative(Sum((Product((27, Power(Variable('x'), 2))), Call(Variable('exp'), (Variable('x'),)))), Variable('x')),))\n"
              ]
            }
          ],
          "prompt_number": 33
        },
        {
          "cell_type": "code",
          "collapsed": false,
          "input": [
            "class ChainRuleMapper(IdentityMapper):\n",
            "    # ...\n",
            "    pass"
          ],
          "language": "python",
          "metadata": {},
          "outputs": [],
          "prompt_number": 34
        },
        {
          "cell_type": "code",
          "collapsed": false,
          "input": [
            "#clear",
            "# Solution\n",
            "class ChainRuleMapper(IdentityMapper):\n",
            "    def map_deriv(self, expr):\n",
            "        return sum(Derivative(expr, ref_sym)*Derivative(ref_sym, x) for ref_sym in [r,s])"
          ],
          "language": "python",
          "metadata": {},
          "outputs": [],
          "prompt_number": 37
        },
        {
          "cell_type": "markdown",
          "metadata": {},
          "source": [
            "Now let's test this mapper:"
          ]
        },
        {
          "cell_type": "code",
          "collapsed": false,
          "input": [
            "crm = ChainRuleMapper()\n",
            "crm(expr)"
          ],
          "language": "python",
          "metadata": {},
          "outputs": [
            {
              "metadata": {},
              "output_type": "pyout",
              "prompt_number": 38,
              "text": [
                "Call(Variable('sqrt'), (Sum((Product((Derivative(Derivative(Sum((Product((27, Power(Variable('x'), 2))), Call(Variable('exp'), (Variable('x'),)))), Variable('x')), Variable('r')), Derivative(Variable('r'), Variable('x')))), Product((Derivative(Derivative(Sum((Product((27, Power(Variable('x'), 2))), Call(Variable('exp'), (Variable('x'),)))), Variable('x')), Variable('s')), Derivative(Variable('s'), Variable('x')))))),))"
              ]
            }
          ],
          "prompt_number": 38
        },
        {
          "cell_type": "markdown",
          "metadata": {},
          "source": [
            "In case you are wondering why we can only use the 'clumsy', parenthesis-heavy form of the printed expression, it's because we haven't told pymbolic how to write out the shorter form. Here's how that can be done:"
          ]
        },
        {
          "cell_type": "code",
          "collapsed": false,
          "input": [
            "from pymbolic.mapper.stringifier import StringifyMapper, PREC_PRODUCT\n",
            "\n",
            "class MyStringifyMapper(StringifyMapper):\n",
            "    def map_deriv(self, expr, enclosing_prec):\n",
            "        return \"d(%s)/d%s\" % (\n",
            "            self.rec(expr.expr, PREC_PRODUCT), \n",
            "            self.rec(expr.v, PREC_PRODUCT))\n",
            "    \n",
            "def stringifier(self):\n",
            "    return MyStringifyMapper\n",
            "\n",
            "Derivative.stringifier = stringifier\n",
            "print(crm(expr))"
          ],
          "language": "python",
          "metadata": {},
          "outputs": [
            {
              "output_type": "stream",
              "stream": "stdout",
              "text": [
                "sqrt(d(d((27*x**2 + exp(x)))/dx)/dr*d(r)/dx + d(d((27*x**2 + exp(x)))/dx)/ds*d(s)/dx)\n"
              ]
            }
          ],
          "prompt_number": 48
        },
        {
          "cell_type": "code",
          "collapsed": false,
          "input": [],
          "language": "python",
          "metadata": {},
          "outputs": []
        }
      ],
      "metadata": {}
    }
  ]
}