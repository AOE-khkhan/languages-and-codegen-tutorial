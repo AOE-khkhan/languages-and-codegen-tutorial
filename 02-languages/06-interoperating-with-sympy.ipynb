{
 "metadata": {
  "name": "",
  "signature": "sha256:bb38ada83a22bf40068e5326a4c39bcd7bf4e0f7b979a93156d79fac120f8642"
 },
 "nbformat": 3,
 "nbformat_minor": 0,
 "worksheets": [
  {
   "cells": [
    {
     "cell_type": "markdown",
     "metadata": {},
     "source": [
      " # Interacting with `sympy`\n",
      " \n",
      "`pymbolic` can help take care of many *structural* transformations on your expression trees with great ease. Its main purpose is to help with program transformation after all, not to be a full computer algebra system. That said, if you need a full computer algebra system for things like calculus and simplification, it's easy to get your expressions converted between `pymbolic` and `sympy`:"
     ]
    },
    {
     "cell_type": "code",
     "collapsed": false,
     "input": [
      "import sympy as sp\n",
      "from pymbolic import var\n",
      "\n",
      "x = var(\"x\")\n",
      "y = var(\"y\")"
     ],
     "language": "python",
     "metadata": {},
     "outputs": [
      {
       "output_type": "stream",
       "stream": "stderr",
       "text": [
        "/usr/lib/python3/dist-packages/sympy/core/function.py:105: DeprecationWarning: inspect.getargspec() is deprecated, use inspect.signature() instead\n",
        "  evalargspec = inspect.getargspec(cls.eval)\n"
       ]
      }
     ],
     "prompt_number": 1
    },
    {
     "cell_type": "code",
     "collapsed": false,
     "input": [
      "expr = (x**2 + 2*x + 1)/(x**2 + x)\n",
      "print(expr)"
     ],
     "language": "python",
     "metadata": {},
     "outputs": [
      {
       "output_type": "stream",
       "stream": "stdout",
       "text": [
        "(x**2 + 2*x + 1) / (x**2 + x)\n"
       ]
      }
     ],
     "prompt_number": 3
    },
    {
     "cell_type": "markdown",
     "metadata": {},
     "source": [
      "Let's import pymbolic's sympy interoperability code."
     ]
    },
    {
     "cell_type": "code",
     "collapsed": false,
     "input": [
      "# pymbolic.interop.sympy in newer versions of pymbolic\n",
      "from pymbolic.sympy_interface import (\n",
      "    PymbolicToSympyMapper, SympyToPymbolicMapper)\n",
      "\n",
      "p2s = PymbolicToSympyMapper()\n",
      "s2p = SympyToPymbolicMapper()"
     ],
     "language": "python",
     "metadata": {},
     "outputs": [],
     "prompt_number": 5
    },
    {
     "cell_type": "code",
     "collapsed": false,
     "input": [
      "sympy_expr = p2s(expr)\n",
      "print(sympy_expr)"
     ],
     "language": "python",
     "metadata": {},
     "outputs": [
      {
       "output_type": "stream",
       "stream": "stdout",
       "text": [
        "(x**2 + 2*x + 1)/(x**2 + x)\n"
       ]
      }
     ],
     "prompt_number": 7
    },
    {
     "cell_type": "code",
     "collapsed": false,
     "input": [
      "sympy_result = sp.cancel(sympy_expr)\n",
      "print(sympy_result)"
     ],
     "language": "python",
     "metadata": {},
     "outputs": [
      {
       "output_type": "stream",
       "stream": "stdout",
       "text": [
        "(x + 1)/x\n"
       ]
      }
     ],
     "prompt_number": 11
    },
    {
     "cell_type": "code",
     "collapsed": false,
     "input": [
      "result = s2p(sympy_result)\n",
      "print(result)"
     ],
     "language": "python",
     "metadata": {},
     "outputs": [
      {
       "output_type": "stream",
       "stream": "stdout",
       "text": [
        "x**(-1)*(1 + x)\n"
       ]
      }
     ],
     "prompt_number": 12
    },
    {
     "cell_type": "markdown",
     "metadata": {},
     "source": [
      "One thing to note is that `PymbolicToSympyMapper` is a regular `pymbolic` mapper, and its behavior can be overridden in case something about the translation to sympy is not quite what you want.\n",
      "\n",
      "`SympyToPymbolicMapper` also behaves very similarly (and can be overridden similarly) although it is not entirely the same kind of mapper."
     ]
    }
   ],
   "metadata": {}
  }
 ]
}