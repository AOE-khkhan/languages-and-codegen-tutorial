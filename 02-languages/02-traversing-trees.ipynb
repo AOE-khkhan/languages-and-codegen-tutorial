{
 "metadata": {
  "name": "",
  "signature": "sha256:58c7b5b0350251902d8a1b5ce8f0285a23b17115821679ba905d5b6f1e2a8905"
 },
 "nbformat": 3,
 "nbformat_minor": 0,
 "worksheets": [
  {
   "cells": [
    {
     "cell_type": "markdown",
     "metadata": {},
     "source": [
      "# Traversing Expression Trees"
     ]
    },
    {
     "cell_type": "code",
     "collapsed": false,
     "input": [
      "#keep\n",
      "import pymbolic.primitives as p\n",
      "x = p.Variable(\"x\")"
     ],
     "language": "python",
     "metadata": {},
     "outputs": [],
     "prompt_number": 16
    },
    {
     "cell_type": "code",
     "collapsed": false,
     "input": [
      "#keep\n",
      "u = (x+3)**5\n",
      "u"
     ],
     "language": "python",
     "metadata": {},
     "outputs": [
      {
       "metadata": {},
       "output_type": "pyout",
       "prompt_number": 17,
       "text": [
        "Power(Sum((Variable('x'), 3)), 5)"
       ]
      }
     ],
     "prompt_number": 17
    },
    {
     "cell_type": "markdown",
     "metadata": {},
     "source": [
      "## Traversal"
     ]
    },
    {
     "cell_type": "markdown",
     "metadata": {},
     "source": [
      "Many options to walk this expression.\n",
      "\n",
      "* One big recursive function with many `if isinstance` checks\n",
      "* \"Visitor pattern\" -> Define a class, dispatch to a different method for each node type"
     ]
    },
    {
     "cell_type": "code",
     "collapsed": false,
     "input": [
      "#keep\n",
      "p.Sum.mapper_method"
     ],
     "language": "python",
     "metadata": {},
     "outputs": [
      {
       "metadata": {},
       "output_type": "pyout",
       "prompt_number": 3,
       "text": [
        "'map_sum'"
       ]
      }
     ],
     "prompt_number": 3
    },
    {
     "cell_type": "code",
     "collapsed": false,
     "input": [
      "#keep\n",
      "from pymbolic.mapper import WalkMapper\n",
      "\n",
      "class MyMapper(WalkMapper):\n",
      "    def map_sum(self, expr):\n",
      "        print(\"sum\", expr.children)"
     ],
     "language": "python",
     "metadata": {},
     "outputs": [],
     "prompt_number": 18
    },
    {
     "cell_type": "code",
     "collapsed": false,
     "input": [
      "#keep\n",
      "u = (x+3)**5\n",
      "u"
     ],
     "language": "python",
     "metadata": {},
     "outputs": [
      {
       "metadata": {},
       "output_type": "pyout",
       "prompt_number": 19,
       "text": [
        "Power(Sum((Variable('x'), 3)), 5)"
       ]
      }
     ],
     "prompt_number": 19
    },
    {
     "cell_type": "code",
     "collapsed": false,
     "input": [
      "#keep\n",
      "mymapper = MyMapper()\n",
      "mymapper(u)"
     ],
     "language": "python",
     "metadata": {},
     "outputs": [
      {
       "output_type": "stream",
       "stream": "stdout",
       "text": [
        "sum (Variable('x'), 3)\n"
       ]
      }
     ],
     "prompt_number": 20
    },
    {
     "cell_type": "markdown",
     "metadata": {},
     "source": [
      "# Recursive Traversal"
     ]
    },
    {
     "cell_type": "markdown",
     "metadata": {},
     "source": [
      "What if there is another sum nested inside our existing one?"
     ]
    },
    {
     "cell_type": "code",
     "collapsed": false,
     "input": [
      "#keep\n",
      "u = (x+3)**5 + 5\n",
      "u"
     ],
     "language": "python",
     "metadata": {},
     "outputs": [
      {
       "metadata": {},
       "output_type": "pyout",
       "prompt_number": 21,
       "text": [
        "Sum((Power(Sum((Variable('x'), 3)), 5), 5))"
       ]
      }
     ],
     "prompt_number": 21
    },
    {
     "cell_type": "code",
     "collapsed": false,
     "input": [
      "#keep\n",
      "mymapper(u)"
     ],
     "language": "python",
     "metadata": {},
     "outputs": [
      {
       "output_type": "stream",
       "stream": "stdout",
       "text": [
        "sum (Power(Sum((Variable('x'), 3)), 5), 5)\n"
       ]
      }
     ],
     "prompt_number": 22
    },
    {
     "cell_type": "markdown",
     "metadata": {},
     "source": [
      "**Notice:** Only one 'sum' printout -> No recursion\n",
      "\n",
      "Improve implementation:"
     ]
    },
    {
     "cell_type": "code",
     "collapsed": false,
     "input": [
      "#keep\n",
      "from pymbolic.mapper import WalkMapper\n",
      "\n",
      "class MyMapper2(WalkMapper):\n",
      "    def map_sum(self, expr):\n",
      "        print(\"sum\", expr.children)\n",
      "\n",
      "        for ch in expr.children:\n",
      "            self.rec(ch)"
     ],
     "language": "python",
     "metadata": {},
     "outputs": [],
     "prompt_number": 26
    },
    {
     "cell_type": "code",
     "collapsed": false,
     "input": [
      "#keep\n",
      "mymapper2 = MyMapper2()\n",
      "mymapper2(u)"
     ],
     "language": "python",
     "metadata": {},
     "outputs": [
      {
       "output_type": "stream",
       "stream": "stdout",
       "text": [
        "sum (Power(Sum((Variable('x'), 3)), 5), 5)\n",
        "sum (Variable('x'), 3)\n"
       ]
      }
     ],
     "prompt_number": 27
    },
    {
     "cell_type": "markdown",
     "metadata": {},
     "source": [
      "## Mapper Inheritance"
     ]
    },
    {
     "cell_type": "markdown",
     "metadata": {},
     "source": [
      "* Above: What about `map_variable`? `map_power`?\n",
      "* Mappers inherit all non-overridden behavior from their superclasses.\n",
      "\n",
      "This makes it easy to *inherit a base behavior* and then selectively change a few pieces."
     ]
    },
    {
     "cell_type": "markdown",
     "metadata": {},
     "source": [
      "## Mappers with Values"
     ]
    },
    {
     "cell_type": "markdown",
     "metadata": {},
     "source": [
      "* Mappers do more than just *traverse*\n",
      "* They can also return a value\n",
      "    * What type? Any desired one.\n",
      "    \n",
      "For example: Could return a string."
     ]
    },
    {
     "cell_type": "code",
     "collapsed": false,
     "input": [
      "#keep\n",
      "from pymbolic.mapper import RecursiveMapper\n",
      "class MyStringifier(RecursiveMapper):\n",
      "    def map_sum(self, expr):\n",
      "        return \"+\".join(self.rec(ch) for ch in expr.children)\n",
      "    \n",
      "    def map_product(self, expr):\n",
      "        return \"*\".join(self.rec(ch) for ch in expr.children)\n",
      "    \n",
      "    def map_variable(self, expr):\n",
      "        return expr.name\n",
      "    \n",
      "    def map_constant(self, expr):\n",
      "        return str(expr)"
     ],
     "language": "python",
     "metadata": {},
     "outputs": [],
     "prompt_number": 30
    },
    {
     "cell_type": "code",
     "collapsed": false,
     "input": [
      "u = (x * 5)+(x * 7)\n",
      "\n",
      "mystrifier = MyStringifier()\n",
      "mystrifier(u)"
     ],
     "language": "python",
     "metadata": {},
     "outputs": [
      {
       "metadata": {},
       "output_type": "pyout",
       "prompt_number": 31,
       "text": [
        "'x*5+x*7'"
       ]
      }
     ],
     "prompt_number": 31
    },
    {
     "cell_type": "markdown",
     "metadata": {},
     "source": [
      "Mappers can also return another expression. `IdentityMapper` is a base that returns an identical (deep) copy of an expression:"
     ]
    },
    {
     "cell_type": "code",
     "collapsed": false,
     "input": [
      "from pymbolic.mapper import IdentityMapper\n",
      "\n",
      "idmap = IdentityMapper()\n",
      "u2 = idmap(u)\n",
      "print(u2 == u)\n",
      "print(u2 is u)"
     ],
     "language": "python",
     "metadata": {},
     "outputs": [
      {
       "output_type": "stream",
       "stream": "stdout",
       "text": [
        "True\n",
        "False\n"
       ]
      }
     ],
     "prompt_number": 32
    },
    {
     "cell_type": "markdown",
     "metadata": {},
     "source": [
      "## Term Rewriting"
     ]
    },
    {
     "cell_type": "markdown",
     "metadata": {},
     "source": [
      "`IdentityMapper` can be used as a convenient base for term rewriting.\n",
      "\n",
      "As a very simple example, let us\n",
      "\n",
      "* Change the name of all variables by appending a prime\n",
      "* Change all products to sums"
     ]
    },
    {
     "cell_type": "code",
     "collapsed": false,
     "input": [
      "#keep\n",
      "class MyIdentityMapper(IdentityMapper):\n",
      "    def map_variable(self, expr):\n",
      "        return p.Variable(expr.name + \"'\")\n",
      "    \n",
      "    def map_product(self, expr):\n",
      "        return p.Sum(tuple(self.rec(ch) for ch in expr.children))\n",
      "        "
     ],
     "language": "python",
     "metadata": {},
     "outputs": [],
     "prompt_number": 37
    },
    {
     "cell_type": "code",
     "collapsed": false,
     "input": [
      "#keep\n",
      "u = (x*3)*(x+17)**3\n",
      "\n",
      "myidmap = MyIdentityMapper()\n",
      "print(myidmap(u))"
     ],
     "language": "python",
     "metadata": {},
     "outputs": [
      {
       "output_type": "stream",
       "stream": "stdout",
       "text": [
        "x' + 3 + (x' + 17)**3\n"
       ]
      }
     ],
     "prompt_number": 39
    }
   ],
   "metadata": {}
  }
 ]
}