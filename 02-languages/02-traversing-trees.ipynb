{
 "metadata": {
  "name": "",
  "signature": "sha256:736b360f0eef961a3e2fa7365d98fc502663a1213297daee1b02371deb5b3d7e"
 },
 "nbformat": 3,
 "nbformat_minor": 0,
 "worksheets": [
  {
   "cells": [
    {
     "cell_type": "markdown",
     "metadata": {},
     "source": [
      "# Traversing Expression Trees"
     ]
    },
    {
     "cell_type": "code",
     "collapsed": false,
     "input": [
      "#keep\n",
      "import pymbolic.primitives as p\n",
      "x = p.Variable(\"x\")"
     ],
     "language": "python",
     "metadata": {},
     "outputs": [],
     "prompt_number": 16
    },
    {
     "cell_type": "code",
     "collapsed": false,
     "input": [
      "#keep\n",
      "u = (x+3)**5\n",
      "u"
     ],
     "language": "python",
     "metadata": {},
     "outputs": [
      {
       "metadata": {},
       "output_type": "pyout",
       "prompt_number": 17,
       "text": [
        "Power(Sum((Variable('x'), 3)), 5)"
       ]
      }
     ],
     "prompt_number": 17
    },
    {
     "cell_type": "markdown",
     "metadata": {},
     "source": [
      "## Traversal"
     ]
    },
    {
     "cell_type": "markdown",
     "metadata": {},
     "source": [
      "Many options to walk this expression.\n",
      "\n",
      "* One big recursive function with many `if isinstance` checks\n",
      "* \"Visitor pattern\" -> Define a class, dispatch to a different method for each node type"
     ]
    },
    {
     "cell_type": "code",
     "collapsed": false,
     "input": [
      "#keep\n",
      "p.Sum.mapper_method"
     ],
     "language": "python",
     "metadata": {},
     "outputs": [
      {
       "metadata": {},
       "output_type": "pyout",
       "prompt_number": 3,
       "text": [
        "'map_sum'"
       ]
      }
     ],
     "prompt_number": 3
    },
    {
     "cell_type": "code",
     "collapsed": false,
     "input": [
      "#keep\n",
      "from pymbolic.mapper import WalkMapper\n",
      "\n",
      "class MyMapper(WalkMapper):\n",
      "    def map_sum(self, expr):\n",
      "        print(\"sum\", expr.children)"
     ],
     "language": "python",
     "metadata": {},
     "outputs": [],
     "prompt_number": 18
    },
    {
     "cell_type": "code",
     "collapsed": false,
     "input": [
      "#keep\n",
      "u = (x+3)**5\n",
      "u"
     ],
     "language": "python",
     "metadata": {},
     "outputs": [
      {
       "metadata": {},
       "output_type": "pyout",
       "prompt_number": 19,
       "text": [
        "Power(Sum((Variable('x'), 3)), 5)"
       ]
      }
     ],
     "prompt_number": 19
    },
    {
     "cell_type": "code",
     "collapsed": false,
     "input": [
      "#keep\n",
      "mymapper = MyMapper()\n",
      "mymapper(u)"
     ],
     "language": "python",
     "metadata": {},
     "outputs": [
      {
       "output_type": "stream",
       "stream": "stdout",
       "text": [
        "sum (Variable('x'), 3)\n"
       ]
      }
     ],
     "prompt_number": 20
    },
    {
     "cell_type": "markdown",
     "metadata": {},
     "source": [
      "# Recursive Traversal"
     ]
    },
    {
     "cell_type": "markdown",
     "metadata": {},
     "source": [
      "What if there is another sum nested inside our existing one?"
     ]
    },
    {
     "cell_type": "code",
     "collapsed": false,
     "input": [
      "#keep\n",
      "u = (x+3)**5 + 5\n",
      "u"
     ],
     "language": "python",
     "metadata": {},
     "outputs": [
      {
       "metadata": {},
       "output_type": "pyout",
       "prompt_number": 21,
       "text": [
        "Sum((Power(Sum((Variable('x'), 3)), 5), 5))"
       ]
      }
     ],
     "prompt_number": 21
    },
    {
     "cell_type": "code",
     "collapsed": false,
     "input": [
      "#keep\n",
      "mymapper(u)"
     ],
     "language": "python",
     "metadata": {},
     "outputs": [
      {
       "output_type": "stream",
       "stream": "stdout",
       "text": [
        "sum (Power(Sum((Variable('x'), 3)), 5), 5)\n"
       ]
      }
     ],
     "prompt_number": 22
    },
    {
     "cell_type": "markdown",
     "metadata": {},
     "source": [
      "**Notice:** Only one 'sum' printout -> No recursion\n",
      "\n",
      "Improve implementation:"
     ]
    },
    {
     "cell_type": "code",
     "collapsed": false,
     "input": [
      "#keep\n",
      "from pymbolic.mapper import WalkMapper\n",
      "\n",
      "class MyMapper2(WalkMapper):\n",
      "    def map_sum(self, expr):\n",
      "        print(\"sum\", expr.children)\n",
      "\n",
      "        for ch in expr.children:\n",
      "            self.rec(ch)"
     ],
     "language": "python",
     "metadata": {},
     "outputs": [],
     "prompt_number": 26
    },
    {
     "cell_type": "code",
     "collapsed": false,
     "input": [
      "#keep\n",
      "mymapper2 = MyMapper2()\n",
      "mymapper2(u)"
     ],
     "language": "python",
     "metadata": {},
     "outputs": [
      {
       "output_type": "stream",
       "stream": "stdout",
       "text": [
        "sum (Power(Sum((Variable('x'), 3)), 5), 5)\n",
        "sum (Variable('x'), 3)\n"
       ]
      }
     ],
     "prompt_number": 27
    },
    {
     "cell_type": "markdown",
     "metadata": {},
     "source": [
      "## Mapper Inheritance"
     ]
    },
    {
     "cell_type": "markdown",
     "metadata": {},
     "source": [
      "* Above: What about `map_variable`? `map_power`?\n",
      "* Mappers inherit all non-overridden behavior from their superclasses.\n",
      "\n",
      "This makes it easy to *inherit a base behavior* and then selectively change a few pieces."
     ]
    },
    {
     "cell_type": "markdown",
     "metadata": {},
     "source": [
      "## Mappers with Values"
     ]
    },
    {
     "cell_type": "markdown",
     "metadata": {},
     "source": [
      "* Mappers do more than just *traverse*\n",
      "* They can also return a value\n",
      "    * What type? Any desired one.\n",
      "    \n",
      "For example: Could return a string."
     ]
    },
    {
     "cell_type": "code",
     "collapsed": false,
     "input": [
      "#keep\n",
      "from pymbolic.mapper import RecursiveMapper\n",
      "class MyStringifier(RecursiveMapper):\n",
      "    def map_sum(self, expr):\n",
      "        return \"+\".join(self.rec(ch) for ch in expr.children)\n",
      "    \n",
      "    def map_product(self, expr):\n",
      "        return \"*\".join(self.rec(ch) for ch in expr.children)\n",
      "    \n",
      "    def map_variable(self, expr):\n",
      "        return expr.name\n",
      "    \n",
      "    def map_constant(self, expr):\n",
      "        return str(expr)"
     ],
     "language": "python",
     "metadata": {},
     "outputs": [],
     "prompt_number": 30
    },
    {
     "cell_type": "code",
     "collapsed": false,
     "input": [
      "u = (x * 5)+(x * 7)\n",
      "\n",
      "mystrifier = MyStringifier()\n",
      "mystrifier(u)"
     ],
     "language": "python",
     "metadata": {},
     "outputs": [
      {
       "metadata": {},
       "output_type": "pyout",
       "prompt_number": 31,
       "text": [
        "'x*5+x*7'"
       ]
      }
     ],
     "prompt_number": 31
    },
    {
     "cell_type": "markdown",
     "metadata": {},
     "source": [
      "Mappers can also return another expression. `IdentityMapper` is a base that returns an identical (deep) copy of an expression:"
     ]
    },
    {
     "cell_type": "code",
     "collapsed": false,
     "input": [
      "from pymbolic.mapper import IdentityMapper\n",
      "\n",
      "idmap = IdentityMapper()\n",
      "u2 = idmap(u)\n",
      "print(u2 == u)\n",
      "print(u2 is u)"
     ],
     "language": "python",
     "metadata": {},
     "outputs": [
      {
       "output_type": "stream",
       "stream": "stdout",
       "text": [
        "True\n",
        "False\n"
       ]
      }
     ],
     "prompt_number": 32
    },
    {
     "cell_type": "markdown",
     "metadata": {},
     "source": [
      "## Term Rewriting"
     ]
    },
    {
     "cell_type": "markdown",
     "metadata": {},
     "source": [
      "`IdentityMapper` can be used as a convenient base for term rewriting.\n",
      "\n",
      "As a very simple example, let us\n",
      "\n",
      "* Change the name of all variables by appending a prime\n",
      "* Change all products to sums"
     ]
    },
    {
     "cell_type": "code",
     "collapsed": false,
     "input": [
      "#keep\n",
      "class MyIdentityMapper(IdentityMapper):\n",
      "    def map_variable(self, expr):\n",
      "        return p.Variable(expr.name + \"'\")\n",
      "    \n",
      "    def map_product(self, expr):\n",
      "        return p.Sum(tuple(self.rec(ch) for ch in expr.children))\n",
      "        "
     ],
     "language": "python",
     "metadata": {},
     "outputs": [],
     "prompt_number": 37
    },
    {
     "cell_type": "code",
     "collapsed": false,
     "input": [
      "#keep\n",
      "u = (x*3)*(x+17)**3\n",
      "\n",
      "myidmap = MyIdentityMapper()\n",
      "print(myidmap(u))"
     ],
     "language": "python",
     "metadata": {},
     "outputs": [
      {
       "output_type": "stream",
       "stream": "stdout",
       "text": [
        "x' + 3 + (x' + 17)**3\n"
       ]
      }
     ],
     "prompt_number": 39
    },
    {
     "cell_type": "markdown",
     "metadata": {},
     "source": [
      "## Defining Custom Node Types"
     ]
    },
    {
     "cell_type": "markdown",
     "metadata": {},
     "source": [
      "But mathematical expressions are only the first step. Most of the time, in mathematical software, the interesting aspects are special \"things\" that are strung together by expressions.\n",
      "\n",
      "So it would be helpful to be able to define our own expression types:"
     ]
    },
    {
     "cell_type": "code",
     "collapsed": false,
     "input": [
      "#keep\n",
      "\n",
      "class DerivativeOperator(p.Expression):\n",
      "    def __init__(self, operand):\n",
      "        self.operand = operand\n",
      "\n",
      "    def __getinitargs__(self):\n",
      "        return (self.operand,)\n",
      "\n",
      "    mapper_method = \"map_derivative_operator\""
     ],
     "language": "python",
     "metadata": {},
     "outputs": [],
     "prompt_number": 43
    },
    {
     "cell_type": "markdown",
     "metadata": {},
     "source": [
      "`__getinitargs__` tells `pymbolic` what the arguments of the constructor were. This is used for printing and comparisons."
     ]
    },
    {
     "cell_type": "code",
     "collapsed": false,
     "input": [
      "#keep\n",
      "u = x/DerivativeOperator((x + 23)**0.5)\n",
      "u"
     ],
     "language": "python",
     "metadata": {},
     "outputs": [
      {
       "metadata": {},
       "output_type": "pyout",
       "prompt_number": 47,
       "text": [
        "Quotient(Variable('x'), DerivativeOperator(Power(Sum((Variable('x'), 23)), 0.5)))"
       ]
      }
     ],
     "prompt_number": 47
    },
    {
     "cell_type": "markdown",
     "metadata": {},
     "source": [
      "We can then also define custom mappers that operate on these node types:"
     ]
    },
    {
     "cell_type": "code",
     "collapsed": false,
     "input": [
      "#keep\n",
      "class DerivDoubler(IdentityMapper):\n",
      "    def map_derivative_operator(self, expr):\n",
      "        return 2*DerivativeOperator(self.rec(expr.operand))"
     ],
     "language": "python",
     "metadata": {},
     "outputs": [],
     "prompt_number": 46
    },
    {
     "cell_type": "code",
     "collapsed": false,
     "input": [
      "dd = DerivDoubler()\n",
      "\n",
      "dd(u)"
     ],
     "language": "python",
     "metadata": {},
     "outputs": [
      {
       "metadata": {},
       "output_type": "pyout",
       "prompt_number": 48,
       "text": [
        "Quotient(Variable('x'), Product((2, DerivativeOperator(Power(Sum((Variable('x'), 23)), 0.5)))))"
       ]
      }
     ],
     "prompt_number": 48
    }
   ],
   "metadata": {}
  }
 ]
}