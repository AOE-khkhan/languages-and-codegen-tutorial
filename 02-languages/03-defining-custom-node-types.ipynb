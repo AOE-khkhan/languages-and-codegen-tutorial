{
 "metadata": {
  "name": "",
  "signature": "sha256:f37ebdda08a3fbe791d8262620b519511203eaa7395076f6cf3345b593e46d64"
 },
 "nbformat": 3,
 "nbformat_minor": 0,
 "worksheets": [
  {
   "cells": [
    {
     "cell_type": "markdown",
     "metadata": {},
     "source": [
      "# Defining Custom Node Types"
     ]
    },
    {
     "cell_type": "markdown",
     "metadata": {},
     "source": [
      "Mathematical expressions are only the first step. Most of the time, in mathematical software, the interesting aspects are special \"things\" that are strung together by expressions.\n",
      "\n",
      "So it would be helpful to be able to define our own expression types:"
     ]
    },
    {
     "cell_type": "code",
     "collapsed": false,
     "input": [
      "#keep\n",
      "import pymbolic.primitives as p\n",
      "\n",
      "x = p.Variable(\"x\")"
     ],
     "language": "python",
     "metadata": {},
     "outputs": [],
     "prompt_number": 7
    },
    {
     "cell_type": "code",
     "collapsed": false,
     "input": [
      "#keep\n",
      "\n",
      "class DerivativeOperator(p.Expression):\n",
      "    def __init__(self, operand):\n",
      "        self.operand = operand\n",
      "\n",
      "    def __getinitargs__(self):\n",
      "        return (self.operand,)\n",
      "\n",
      "    mapper_method = \"map_derivative_operator\""
     ],
     "language": "python",
     "metadata": {},
     "outputs": [],
     "prompt_number": 8
    },
    {
     "cell_type": "markdown",
     "metadata": {},
     "source": [
      "`__getinitargs__` tells `pymbolic` what the arguments of the constructor were. This is used for printing and comparisons."
     ]
    },
    {
     "cell_type": "code",
     "collapsed": false,
     "input": [
      "#keep\n",
      "u = x/DerivativeOperator((x + 23)**0.5)\n",
      "u"
     ],
     "language": "python",
     "metadata": {},
     "outputs": [
      {
       "metadata": {},
       "output_type": "pyout",
       "prompt_number": 9,
       "text": [
        "Quotient(Variable('x'), DerivativeOperator(Power(Sum((Variable('x'), 23)), 0.5)))"
       ]
      }
     ],
     "prompt_number": 9
    },
    {
     "cell_type": "markdown",
     "metadata": {},
     "source": [
      "We can then also define custom mappers that operate on these node types:"
     ]
    },
    {
     "cell_type": "code",
     "collapsed": false,
     "input": [
      "#keep\n",
      "from pymbolic.mapper import IdentityMapper\n",
      "\n",
      "class DerivDoubler(IdentityMapper):\n",
      "    def map_derivative_operator(self, expr):\n",
      "        return 2*DerivativeOperator(self.rec(expr.operand))"
     ],
     "language": "python",
     "metadata": {},
     "outputs": [],
     "prompt_number": 11
    },
    {
     "cell_type": "markdown",
     "metadata": {},
     "source": [
      "Now apply it:"
     ]
    },
    {
     "cell_type": "code",
     "collapsed": false,
     "input": [
      "dd = DerivDoubler()\n",
      "\n",
      "dd(u)"
     ],
     "language": "python",
     "metadata": {},
     "outputs": [
      {
       "metadata": {},
       "output_type": "pyout",
       "prompt_number": 13,
       "text": [
        "Quotient(Variable('x'), Product((2, DerivativeOperator(Power(Sum((Variable('x'), 23)), 0.5)))))"
       ]
      }
     ],
     "prompt_number": 13
    }
   ],
   "metadata": {}
  }
 ]
}