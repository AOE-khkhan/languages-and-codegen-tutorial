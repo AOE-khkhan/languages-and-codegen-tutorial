{
 "metadata": {
  "name": "",
  "signature": "sha256:344594b361717f21e65dbb6fa1dd1a8a82b1b55230b785148225811ea72aac4f"
 },
 "nbformat": 3,
 "nbformat_minor": 0,
 "worksheets": [
  {
   "cells": [
    {
     "cell_type": "markdown",
     "metadata": {},
     "source": [
      "# Accessing Python Syntax Trees"
     ]
    },
    {
     "cell_type": "markdown",
     "metadata": {},
     "source": [
      "It is also possible to access code that is written in Python. This works using the `ast` module, and works as follows:"
     ]
    },
    {
     "cell_type": "code",
     "collapsed": false,
     "input": [
      "#keep\n",
      "\n",
      "SRC = \"\"\"\n",
      "def f(x):\n",
      "    return 2*x\n",
      "\"\"\"\n",
      "\n",
      "import ast\n",
      "tree = ast.parse(SRC)\n",
      "\n",
      "print(ast.dump(tree))"
     ],
     "language": "python",
     "metadata": {},
     "outputs": [
      {
       "output_type": "stream",
       "stream": "stdout",
       "text": [
        "Module(body=[FunctionDef(name='f', args=arguments(args=[arg(arg='x', annotation=None)], vararg=None, kwonlyargs=[], kw_defaults=[], kwarg=None, defaults=[]), body=[Return(value=BinOp(left=Num(n=2), op=Mult(), right=Name(id='x', ctx=Load())))], decorator_list=[], returns=None)])\n"
       ]
      }
     ],
     "prompt_number": 2
    },
    {
     "cell_type": "markdown",
     "metadata": {},
     "source": [
      "It is possible to transcribe the expressions here into the form discussed earlier."
     ]
    },
    {
     "cell_type": "markdown",
     "metadata": {},
     "source": [
      "But beware when defining languages this way. Python has very well-defined semantics, and the user will expect that your way of executing their code is a good match for their mental model of what the code should do. As such, it may be better to start with a \"blank slate\" in terms of language design, so as to not run afoul of already formed expectations."
     ]
    }
   ],
   "metadata": {}
  }
 ]
}