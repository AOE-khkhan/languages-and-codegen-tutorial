{
 "cells": [
  {
   "cell_type": "markdown",
   "metadata": {},
   "source": [
    "# Symbolic Image Filtering"
   ]
  },
  {
   "cell_type": "code",
   "execution_count": 1,
   "metadata": {
    "collapsed": false
   },
   "outputs": [],
   "source": [
    "import pymbolic.primitives as p\n",
    "\n",
    "u_var = p.Variable(\"u\")"
   ]
  },
  {
   "cell_type": "markdown",
   "metadata": {},
   "source": [
    "Want to define an image filter.\n",
    "\n",
    "----\n",
    "\n",
    "To that end, define a new formula 'thing': A neighbor-average."
   ]
  },
  {
   "cell_type": "code",
   "execution_count": 2,
   "metadata": {
    "collapsed": false
   },
   "outputs": [
    {
     "data": {
      "text/plain": [
       "NeighborAverage(Variable('u'))"
      ]
     },
     "execution_count": 2,
     "metadata": {},
     "output_type": "execute_result"
    }
   ],
   "source": [
    "class NeighborAverage(p.Expression):\n",
    "    def __init__(self, child):\n",
    "        self.child = child\n",
    "        \n",
    "    def __getinitargs__(self):\n",
    "        return (self.child,)\n",
    "    \n",
    "    mapper_method = \"map_neighbor_average\"\n",
    "        \n",
    "img_filter = NeighborAverage(u_var)\n",
    "#img_filter = u_var + u_var - NeighborAverage(u_var)\n",
    "\n",
    "img_filter"
   ]
  },
  {
   "cell_type": "markdown",
   "metadata": {},
   "source": [
    "Let's define some indexing variables:"
   ]
  },
  {
   "cell_type": "code",
   "execution_count": 3,
   "metadata": {
    "collapsed": false
   },
   "outputs": [],
   "source": [
    "from pymbolic.mapper import IdentityMapper\n",
    "\n",
    "i = p.Variable(\"i\")\n",
    "j = p.Variable(\"j\")\n",
    "\n",
    "ii = i+1\n",
    "jj = j+1"
   ]
  },
  {
   "cell_type": "code",
   "execution_count": 4,
   "metadata": {
    "collapsed": false
   },
   "outputs": [],
   "source": [
    "class IndexMapper(IdentityMapper):\n",
    "    def map_variable(self, expr):\n",
    "        return expr[ii, jj]\n",
    "    \n",
    "    def map_neighbor_average(self, expr):\n",
    "        var = expr.child\n",
    "        return (2*var[ii,jj] + var[ii+1,jj] + var[ii-1,jj]\n",
    "                + var[ii,jj+1] + var[ii,jj-1])/6"
   ]
  },
  {
   "cell_type": "markdown",
   "metadata": {},
   "source": [
    "Now apply this to our filter:"
   ]
  },
  {
   "cell_type": "code",
   "execution_count": 5,
   "metadata": {
    "collapsed": false
   },
   "outputs": [
    {
     "name": "stdout",
     "output_type": "stream",
     "text": [
      "(2*u[i + 1, j + 1] + u[i + 1 + 1, j + 1] + u[i + 1 + -1, j + 1] + u[i + 1, j + 1 + 1] + u[i + 1, j + 1 + -1]) / 6\n"
     ]
    }
   ],
   "source": [
    "idx_mapper = IndexMapper()\n",
    "print(idx_mapper(img_filter))"
   ]
  },
  {
   "cell_type": "markdown",
   "metadata": {},
   "source": [
    "----\n",
    "\n",
    "Now let's generate some code for this, using `loopy`:"
   ]
  },
  {
   "cell_type": "code",
   "execution_count": 6,
   "metadata": {
    "collapsed": false
   },
   "outputs": [],
   "source": [
    "import loopy as lp\n",
    "result_var = p.Variable(\"result\")"
   ]
  },
  {
   "cell_type": "markdown",
   "metadata": {},
   "source": [
    "Observe the two parts of the `loopy` kernel description:\n",
    "\n",
    "* Polyhedral loop domain\n",
    "* Instructions `[lp.ExpressionInstruction()]`"
   ]
  },
  {
   "cell_type": "code",
   "execution_count": 7,
   "metadata": {
    "collapsed": false
   },
   "outputs": [],
   "source": [
    "#clear\n",
    "knl = lp.make_kernel(\n",
    "    \"{[i,j]: 0<=i,j<n}\",\n",
    "    [lp.ExpressionInstruction(result_var[ii,jj], idx_mapper(img_filter))],\n",
    "    [lp.GlobalArg(\"result\", shape=\"n+2, n+2\"), ...]\n",
    "    )"
   ]
  },
  {
   "cell_type": "markdown",
   "metadata": {},
   "source": [
    "Kernels can always be inspected--simply use `print`:"
   ]
  },
  {
   "cell_type": "code",
   "execution_count": 8,
   "metadata": {
    "collapsed": false
   },
   "outputs": [
    {
     "name": "stdout",
     "output_type": "stream",
     "text": [
      "---------------------------------------------------------------------------\n",
      "KERNEL: loopy_kernel\n",
      "---------------------------------------------------------------------------\n",
      "ARGUMENTS:\n",
      "n: ValueArg, type: <runtime>\n",
      "result: GlobalArg, type: <runtime>, shape: (n + 2, n + 2), dim_tags: (N1:stride:n + 2, N0:stride:1)\n",
      "u: GlobalArg, type: <runtime>, shape: (2 + n, 2 + n), dim_tags: (N1:stride:2 + n, N0:stride:1)\n",
      "---------------------------------------------------------------------------\n",
      "DOMAINS:\n",
      "[n] -> { [i, j] : i >= 0 and j >= 0 and i <= -1 + n and j <= -1 + n }\n",
      "---------------------------------------------------------------------------\n",
      "INAME IMPLEMENTATION TAGS:\n",
      "i: None\n",
      "j: None\n",
      "---------------------------------------------------------------------------\n",
      "INSTRUCTIONS:\n",
      "[i,j]                                result[i + 1, j + 1] <- (2*u[i + 1, j + 1] + u[i + 1 + 1, j + 1] + u[i + 1 + -1, j + 1] + u[i + 1, j + 1 + 1] + u[i + 1, j + 1 + -1]) / 6   # insn\n",
      "---------------------------------------------------------------------------\n"
     ]
    }
   ],
   "source": [
    "print(knl)"
   ]
  },
  {
   "cell_type": "markdown",
   "metadata": {},
   "source": [
    "----\n",
    "\n",
    "Let's move towards running this code. To do so, we need `pyopencl`:"
   ]
  },
  {
   "cell_type": "code",
   "execution_count": 9,
   "metadata": {
    "collapsed": false
   },
   "outputs": [
    {
     "name": "stdout",
     "output_type": "stream",
     "text": [
      "Choose platform:\n",
      "[0] <pyopencl.Platform 'Portable Computing Language' at 0x7fa67e81cee0>\n",
      "[1] <pyopencl.Platform 'AMD Accelerated Parallel Processing' at 0x7fa67a815630>\n",
      "[2] <pyopencl.Platform 'Intel(R) OpenCL' at 0x349a750>\n",
      "Choice [0]:1\n",
      "Set the environment variable PYOPENCL_CTX='1' to avoid being asked again.\n"
     ]
    }
   ],
   "source": [
    "import numpy as np\n",
    "import pyopencl as cl\n",
    "import pyopencl.array\n",
    "import pyopencl.clrandom\n",
    "\n",
    "ctx = cl.create_some_context(interactive=True)\n",
    "queue = cl.CommandQueue(ctx)"
   ]
  },
  {
   "cell_type": "markdown",
   "metadata": {},
   "source": [
    "And some data to work with:"
   ]
  },
  {
   "cell_type": "code",
   "execution_count": 10,
   "metadata": {
    "collapsed": false
   },
   "outputs": [
    {
     "name": "stderr",
     "output_type": "stream",
     "text": [
      "/usr/lib/python3/dist-packages/PIL/Image.py:665: ResourceWarning: unclosed file <_io.BufferedReader name='cat.jpeg'>\n",
      "  self.load()\n"
     ]
    }
   ],
   "source": [
    "n = 200\n",
    "\n",
    "import scipy.misc\n",
    "u = scipy.misc.imread(\"cat.jpeg\").astype(np.float32).sum(axis=2)/(3*256)\n",
    "u = cl.array.to_device(queue, u)"
   ]
  },
  {
   "cell_type": "code",
   "execution_count": 11,
   "metadata": {
    "collapsed": false
   },
   "outputs": [
    {
     "data": {
      "text/plain": [
       "<matplotlib.image.AxesImage at 0x7fa66c0ca160>"
      ]
     },
     "execution_count": 11,
     "metadata": {},
     "output_type": "execute_result"
    },
    {
     "data": {
      "image/png": "[encoded data removed]",
      "text/plain": [
       "<matplotlib.figure.Figure at 0x7fa67e8e8780>"
      ]
     },
     "metadata": {},
     "output_type": "display_data"
    }
   ],
   "source": [
    "import matplotlib.pyplot as pt\n",
    "pt.imshow(u.get(), cmap=\"gray\")"
   ]
  },
  {
   "cell_type": "markdown",
   "metadata": {},
   "source": [
    "Now run the code, and tell loopy to print what it generates:"
   ]
  },
  {
   "cell_type": "code",
   "execution_count": 12,
   "metadata": {
    "collapsed": false,
    "scrolled": true
   },
   "outputs": [
    {
     "name": "stdout",
     "output_type": "stream",
     "text": [
      "#define lid(N) ((int) get_local_id(N))\n",
      "#define gid(N) ((int) get_group_id(N))\n",
      "\n",
      "__kernel void __attribute__ ((reqd_work_group_size(1, 1, 1))) loopy_kernel(__global float *restrict result, int const n, __global float const *restrict u)\n",
      "{\n",
      "\n",
      "  for (int j = 0; j <= -1 + n; ++j)\n",
      "    for (int i = 0; i <= -1 + n; ++i)\n",
      "      result[(n + 2) * (i + 1) + j + 1] = (2.0f * u[(2 + n) * (i + 1) + j + 1] + u[(2 + n) * (i + 1 + 1) + j + 1] + u[(2 + n) * (i + 1 + -1) + j + 1] + u[(2 + n) * (i + 1) + j + 1 + 1] + u[(2 + n) * (i + 1) + j + 1 + -1]) / 6.0f;\n",
      "}\n"
     ]
    },
    {
     "name": "stderr",
     "output_type": "stream",
     "text": [
      "/home/andreas/src/loopy/loopy/compiled.py:841: LoopyWarning: kernel scheduling was ambiguous--more than one schedule found, ignoring\n",
      "  kernel = get_one_scheduled_kernel(kernel)\n"
     ]
    }
   ],
   "source": [
    "knl = lp.set_options(knl, write_cl=True)\n",
    "\n",
    "result = cl.array.zeros_like(u)\n",
    "_ = knl(queue, u=u, result=result, n=n)\n",
    "u = result"
   ]
  },
  {
   "cell_type": "code",
   "execution_count": 13,
   "metadata": {
    "collapsed": false
   },
   "outputs": [
    {
     "data": {
      "text/plain": [
       "<matplotlib.image.AxesImage at 0x7fa65865aeb8>"
      ]
     },
     "execution_count": 13,
     "metadata": {},
     "output_type": "execute_result"
    },
    {
     "data": {
      "image/png": "[encoded data removed]",
      "text/plain": [
       "<matplotlib.figure.Figure at 0x7fa66c117d30>"
      ]
     },
     "metadata": {},
     "output_type": "display_data"
    }
   ],
   "source": [
    "pt.imshow(u.get(), cmap=\"gray\", vmin=0, vmax=1)"
   ]
  },
  {
   "cell_type": "markdown",
   "metadata": {},
   "source": [
    "That's obviously not very parallel. Introduce parallelism:"
   ]
  },
  {
   "cell_type": "code",
   "execution_count": 14,
   "metadata": {
    "collapsed": false
   },
   "outputs": [
    {
     "name": "stdout",
     "output_type": "stream",
     "text": [
      "#define lid(N) ((int) get_local_id(N))\n",
      "#define gid(N) ((int) get_group_id(N))\n",
      "\n",
      "__kernel void __attribute__ ((reqd_work_group_size(1, 1, 1))) loopy_kernel(__global float *restrict result, int const n, __global float const *restrict u)\n",
      "{\n",
      "\n",
      "  result[(n + 2) * (gid(0) + 1) + gid(1) + 1] = (2.0f * u[(2 + n) * (gid(0) + 1) + gid(1) + 1] + u[(2 + n) * (gid(0) + 1 + 1) + gid(1) + 1] + u[(2 + n) * (gid(0) + 1 + -1) + gid(1) + 1] + u[(2 + n) * (gid(0) + 1) + gid(1) + 1 + 1] + u[(2 + n) * (gid(0) + 1) + gid(1) + 1 + -1]) / 6.0f;\n",
      "}\n"
     ]
    }
   ],
   "source": [
    "tknl = knl\n",
    "tknl = lp.tag_inames(tknl, {\"i\": \"g.0\", \"j\": \"g.1\"})\n",
    "evt, (result,) = tknl(queue, u=u)"
   ]
  },
  {
   "cell_type": "markdown",
   "metadata": {},
   "source": [
    "But OpenCL/CUDA require blocking to be efficient!"
   ]
  },
  {
   "cell_type": "code",
   "execution_count": 15,
   "metadata": {
    "collapsed": false
   },
   "outputs": [
    {
     "name": "stdout",
     "output_type": "stream",
     "text": [
      "#define lid(N) ((int) get_local_id(N))\n",
      "#define gid(N) ((int) get_group_id(N))\n",
      "\n",
      "__kernel void __attribute__ ((reqd_work_group_size(16, 16, 1))) loopy_kernel(__global float *restrict result, int const n, __global float const *restrict u)\n",
      "{\n",
      "\n",
      "  if (\n",
      "      -1 + -16 * gid(0) + -1 * lid(0) + n >= 0\n",
      "      && -1 + -16 * gid(1) + -1 * lid(1) + n >= 0\n",
      "    )\n",
      "    result[(n + 2) * (1 + lid(1) + gid(1) * 16) + 1 + lid(0) + gid(0) * 16] = (2.0f * u[(2 + n) * (1 + lid(1) + gid(1) * 16) + 1 + lid(0) + gid(0) * 16] + u[(2 + n) * (1 + 1 + lid(1) + gid(1) * 16) + 1 + lid(0) + gid(0) * 16] + u[(2 + n) * (1 + -1 + lid(1) + gid(1) * 16) + 1 + lid(0) + gid(0) * 16] + u[(2 + n) * (1 + lid(1) + gid(1) * 16) + 1 + 1 + lid(0) + gid(0) * 16] + u[(2 + n) * (1 + lid(1) + gid(1) * 16) + 1 + -1 + lid(0) + gid(0) * 16]) / 6.0f;\n",
      "}\n"
     ]
    }
   ],
   "source": [
    "sknl = knl\n",
    "sknl = lp.split_iname(sknl,\n",
    "        \"i\", 16, outer_tag=\"g.1\", inner_tag=\"l.1\")\n",
    "sknl = lp.split_iname(sknl,\n",
    "        \"j\", 16, outer_tag=\"g.0\", inner_tag=\"l.0\")\n",
    "evt, (result,) = sknl(queue, u=u)"
   ]
  },
  {
   "cell_type": "markdown",
   "metadata": {},
   "source": [
    "How about some data reuse?"
   ]
  },
  {
   "cell_type": "code",
   "execution_count": 16,
   "metadata": {
    "collapsed": false
   },
   "outputs": [
    {
     "name": "stdout",
     "output_type": "stream",
     "text": [
      "#define lid(N) ((int) get_local_id(N))\n",
      "#define gid(N) ((int) get_group_id(N))\n",
      "\n",
      "__kernel void __attribute__ ((reqd_work_group_size(16, 16, 1))) loopy_kernel(__global float *restrict result, int const n, __global float const *restrict u)\n",
      "{\n",
      "  __local float u_fetch[18 * 18];\n",
      "\n",
      "  for (int u_dim_1_outer = 0; u_dim_1_outer <= 1; ++u_dim_1_outer)\n",
      "    if (\n",
      "        17 + -16 * u_dim_1_outer + -1 * lid(0) >= 0\n",
      "        && 1 + -16 * u_dim_1_outer + -1 * lid(0) + -16 * gid(0) + n >= 0\n",
      "      )\n",
      "      for (int u_dim_0_outer = 0; u_dim_0_outer <= 1; ++u_dim_0_outer)\n",
      "        if (\n",
      "            1 + -16 * u_dim_0_outer + -1 * lid(1) + -16 * gid(1) + n >= 0\n",
      "            && 17 + -16 * u_dim_0_outer + -1 * lid(1) >= 0\n",
      "          )\n",
      "          u_fetch[18 * (lid(1) + u_dim_0_outer * 16) + lid(0) + u_dim_1_outer * 16] = u[(2 + n) * (16 * gid(1) + lid(1) + u_dim_0_outer * 16) + 16 * gid(0) + lid(0) + u_dim_1_outer * 16];\n",
      "  barrier(CLK_LOCAL_MEM_FENCE) /* for u_fetch (insn depends on u_fetch_rule) */;\n",
      "  if (\n",
      "      -1 + -16 * gid(0) + -1 * lid(0) + n >= 0\n",
      "      && -1 + -16 * gid(1) + -1 * lid(1) + n >= 0\n",
      "    )\n",
      "    result[(n + 2) * (1 + lid(1) + gid(1) * 16) + 1 + lid(0) + gid(0) * 16] = (2.0f * u_fetch[18 * (1 + lid(1)) + 1 + lid(0)] + u_fetch[18 * (2 + lid(1)) + 1 + lid(0)] + u_fetch[18 * lid(1) + 1 + lid(0)] + u_fetch[18 * (1 + lid(1)) + 2 + lid(0)] + u_fetch[18 * (1 + lid(1)) + lid(0)]) / 6.0f;\n",
      "}\n"
     ]
    },
    {
     "name": "stderr",
     "output_type": "stream",
     "text": [
      "/home/andreas/src/loopy/loopy/compiled.py:841: LoopyWarning: kernel scheduling was ambiguous--more than one schedule found, ignoring\n",
      "  kernel = get_one_scheduled_kernel(kernel)\n"
     ]
    }
   ],
   "source": [
    "sknl = knl\n",
    "sknl = lp.split_iname(sknl,\n",
    "        \"i\", 16, outer_tag=\"g.1\", inner_tag=\"l.1\")\n",
    "sknl = lp.split_iname(sknl,\n",
    "        \"j\", 16, outer_tag=\"g.0\", inner_tag=\"l.0\")\n",
    "sknl = lp.add_prefetch(sknl, \"u\",\n",
    "    [\"i_inner\", \"j_inner\"],\n",
    "    fetch_bounding_box=True)\n",
    "evt, (result,) = sknl(queue, u=u, n=n)"
   ]
  },
  {
   "cell_type": "code",
   "execution_count": 61,
   "metadata": {
    "collapsed": false
   },
   "outputs": [
    {
     "name": "stdout",
     "output_type": "stream",
     "text": [
      "#define int_floor_div_pos_b(a,b) (                 ( (a) - ( ((a)<0) ? ((b)-1) : 0 )  ) / (b)                 )\n",
      "#define lid(N) ((int) get_local_id(N))\n",
      "#define gid(N) ((int) get_group_id(N))\n",
      "\n",
      "__kernel void __attribute__ ((reqd_work_group_size(8, 1, 1))) loopy_kernel(__global float *restrict result, int const n, __global float const *restrict u)\n",
      "{\n",
      "\n",
      "  for (int i_inner = 0; i_inner <= 15; ++i_inner)\n",
      "    if (-1 + -1 * i_inner + -16 * gid(0) + n >= 0)\n",
      "    {\n",
      "      /* bulk slab for 'j_outer' */\n",
      "      for (int j_outer = 0; j_outer <= -2 + int_floor_div_pos_b(7 + n, 8); ++j_outer)\n",
      "        result[(n + 2) * (1 + i_inner + gid(0) * 16) + 1 + lid(0) + j_outer * 8] = (2.0f * u[(2 + n) * (1 + i_inner + gid(0) * 16) + 1 + lid(0) + j_outer * 8] + u[(2 + n) * (1 + 1 + i_inner + gid(0) * 16) + 1 + lid(0) + j_outer * 8] + u[(2 + n) * (1 + -1 + i_inner + gid(0) * 16) + 1 + lid(0) + j_outer * 8] + u[(2 + n) * (1 + i_inner + gid(0) * 16) + 1 + 1 + lid(0) + j_outer * 8] + u[(2 + n) * (1 + i_inner + gid(0) * 16) + 1 + -1 + lid(0) + j_outer * 8]) / 6.0f;\n",
      "      /* final slab for 'j_outer' */\n",
      "      for (int j_outer = -1 + n + -1 * int_floor_div_pos_b(7 * n, 8); j_outer <= -1 + int_floor_div_pos_b(7 + n, 8); ++j_outer)\n",
      "        if (-1 + -8 * j_outer + -1 * lid(0) + n >= 0)\n",
      "          result[(n + 2) * (1 + i_inner + gid(0) * 16) + 1 + lid(0) + j_outer * 8] = (2.0f * u[(2 + n) * (1 + i_inner + gid(0) * 16) + 1 + lid(0) + j_outer * 8] + u[(2 + n) * (1 + 1 + i_inner + gid(0) * 16) + 1 + lid(0) + j_outer * 8] + u[(2 + n) * (1 + -1 + i_inner + gid(0) * 16) + 1 + lid(0) + j_outer * 8] + u[(2 + n) * (1 + i_inner + gid(0) * 16) + 1 + 1 + lid(0) + j_outer * 8] + u[(2 + n) * (1 + i_inner + gid(0) * 16) + 1 + -1 + lid(0) + j_outer * 8]) / 6.0f;\n",
      "    }\n",
      "}\n"
     ]
    },
    {
     "name": "stderr",
     "output_type": "stream",
     "text": [
      "/home/andreas/src/loopy/loopy/diagnostic.py:60: LoopyAdvisory: No device parameter was passed to the PyOpenCLTarget. Perhaps you want to pass a device to benefit from additional checking. (add 'no_device_in_pre_codegen_checks' to silenced_warnings kernel argument to disable)\n",
      "  warn(text, type)\n"
     ]
    }
   ],
   "source": [
    "cpuknl = knl\n",
    "cpuknl = lp.split_iname(cpuknl, \"i\", 16, outer_tag=\"g.0\")\n",
    "cpuknl = lp.split_iname(cpuknl, \"j\", 8, inner_tag=\"l.0\", slabs=(0,1))\n",
    "cpuknl = lp.set_loop_priority(cpuknl, \"i_inner, j_outer\")\n",
    "\n",
    "evt, (result,) = cpuknl(queue, u=u, n=n)"
   ]
  },
  {
   "cell_type": "markdown",
   "metadata": {},
   "source": [
    "## Judgement day: Has it helped?"
   ]
  },
  {
   "cell_type": "markdown",
   "metadata": {},
   "source": [
    "Let's time the execution of our \"blur\" operation on an actually big image. (We'll make do with random data for this timing:"
   ]
  },
  {
   "cell_type": "code",
   "execution_count": 79,
   "metadata": {
    "collapsed": false
   },
   "outputs": [],
   "source": [
    "from time import time\n",
    "\n",
    "rounds = 4\n",
    "\n",
    "n = 5000\n",
    "u = cl.clrandom.rand(queue, (n+2, n+2), dtype=np.float32)\n",
    "\n",
    "uh = u.get()"
   ]
  },
  {
   "cell_type": "markdown",
   "metadata": {},
   "source": [
    "First, `numpy`:"
   ]
  },
  {
   "cell_type": "code",
   "execution_count": 80,
   "metadata": {
    "collapsed": false
   },
   "outputs": [
    {
     "name": "stdout",
     "output_type": "stream",
     "text": [
      "0.354830265045166\n"
     ]
    }
   ],
   "source": [
    "t_start = time()\n",
    "for i in range(rounds):\n",
    "    blurred_u = np.zeros_like(uh)\n",
    "    blurred_u[1:-1, 1:-1] = (\n",
    "        2*uh[1:-1, 1:-1]\n",
    "        + uh[2:, 1:-1]\n",
    "        + uh[:-2, 1:-1]\n",
    "        + uh[1:-1, 2:]\n",
    "        + uh[1:-1, 2:]\n",
    "        )/6\n",
    "\n",
    "print((time()-t_start)/rounds)"
   ]
  },
  {
   "cell_type": "markdown",
   "metadata": {},
   "source": [
    "Next, our generated code:"
   ]
  },
  {
   "cell_type": "code",
   "execution_count": 81,
   "metadata": {
    "collapsed": false
   },
   "outputs": [
    {
     "name": "stdout",
     "output_type": "stream",
     "text": [
      "0.06881153583526611\n"
     ]
    }
   ],
   "source": [
    "queue.finish()\n",
    "t_start = time()\n",
    "for i in range(rounds):\n",
    "    evt, (result,) = cpuknl(queue, u=u)\n",
    "    \n",
    "queue.finish()\n",
    "codegen_time = (time()-t_start)/rounds\n",
    "print(codegen_time)"
   ]
  },
  {
   "cell_type": "markdown",
   "metadata": {},
   "source": [
    "Now estimate performance:"
   ]
  },
  {
   "cell_type": "code",
   "execution_count": 83,
   "metadata": {
    "collapsed": false
   },
   "outputs": [
    {
     "name": "stdout",
     "output_type": "stream",
     "text": [
      "8.72644519136357\n"
     ]
    }
   ],
   "source": [
    "pixels_accessed = 6*(n+2)**2\n",
    "bytes_accessed = pixels_accessed * 4\n",
    "gbytes_per_second = bytes_accessed / codegen_time / 1e9\n",
    "print(gbytes_per_second)"
   ]
  },
  {
   "cell_type": "code",
   "execution_count": null,
   "metadata": {
    "collapsed": true
   },
   "outputs": [],
   "source": []
  }
 ],
 "metadata": {
  "kernelspec": {
   "display_name": "Python 3",
   "language": "python",
   "name": "python3"
  },
  "language_info": {
   "codemirror_mode": {
    "name": "ipython",
    "version": 3
   },
   "file_extension": ".py",
   "mimetype": "text/x-python",
   "name": "python",
   "nbconvert_exporter": "python",
   "pygments_lexer": "ipython3",
   "version": "3.5.0+"
  }
 },
 "nbformat": 4,
 "nbformat_minor": 0
}
