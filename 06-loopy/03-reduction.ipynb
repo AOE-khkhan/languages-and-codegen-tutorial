{
 "metadata": {
  "name": "",
  "signature": "sha256:f209e13de7bcadc014a12ba51ddc224c903b20b640f683f892c0ecbae0f72704"
 },
 "nbformat": 3,
 "nbformat_minor": 0,
 "worksheets": [
  {
   "cells": [
    {
     "cell_type": "code",
     "collapsed": false,
     "input": [
      "#keep\n",
      "import numpy as np\n",
      "import pyopencl as cl\n",
      "import pyopencl.array\n",
      "import pyopencl.clrandom\n",
      "import loopy as lp"
     ],
     "language": "python",
     "metadata": {},
     "outputs": [
      {
       "output_type": "stream",
       "stream": "stderr",
       "text": [
        "/usr/lib/python2.7/pkgutil.py:186: ImportWarning: Not importing directory '/usr/lib/python2.7/dist-packages/enthought': missing __init__.py\n",
        "  file, filename, etc = imp.find_module(subname, path)\n"
       ]
      }
     ],
     "prompt_number": 1
    },
    {
     "cell_type": "code",
     "collapsed": false,
     "input": [
      "#keep\n",
      "ctx = cl.create_some_context()\n",
      "queue = cl.CommandQueue(ctx)"
     ],
     "language": "python",
     "metadata": {},
     "outputs": [],
     "prompt_number": 2
    },
    {
     "cell_type": "code",
     "collapsed": false,
     "input": [
      "#keep\n",
      "n = 1024\n",
      "a = cl.clrandom.rand(queue, (n, n), dtype=np.float32)\n",
      "b = cl.clrandom.rand(queue, (n, n), dtype=np.float32)"
     ],
     "language": "python",
     "metadata": {},
     "outputs": [
      {
       "output_type": "stream",
       "stream": "stderr",
       "text": [
        "/home/andreas/src/pyopencl/pyopencl/__init__.py:61: CompilerWarning: Non-empty compiler output encountered. Set the environment variable PYOPENCL_COMPILER_OUTPUT=1 to see more.\n",
        "  \"to see more.\", CompilerWarning)\n"
       ]
      }
     ],
     "prompt_number": 3
    },
    {
     "cell_type": "code",
     "collapsed": false,
     "input": [
      "#keep\n",
      "knl = lp.make_kernel(\n",
      "    \"{[i,j,k]: 0<=i,j,k<n}\",\n",
      "    \"c[i, j] = sum(k, a[i, k]*b[k, j])\"\n",
      "    )"
     ],
     "language": "python",
     "metadata": {},
     "outputs": [],
     "prompt_number": 4
    },
    {
     "cell_type": "code",
     "collapsed": false,
     "input": [
      "#keep\n",
      "knl = lp.set_options(knl, write_cl=True)\n",
      "evt, _ = knl(queue, a=a, b=b)"
     ],
     "language": "python",
     "metadata": {},
     "outputs": [
      {
       "output_type": "stream",
       "stream": "stdout",
       "text": [
        "\n",
        "#define lid(N) ((int) get_local_id(N))\n",
        "#define gid(N) ((int) get_group_id(N))\n",
        "\n",
        "__kernel void __attribute__ ((reqd_work_group_size(1, 1, 1))) loopy_kernel(__global float const *restrict a, __global float const *restrict b, __global float *restrict c, int const n)\n",
        "{\n",
        "  float acc_k;\n",
        "\n",
        "  for (int i = 0; i <= (-1 + n); ++i)\n",
        "    for (int j = 0; j <= (-1 + n); ++j)\n",
        "    {\n",
        "      acc_k = 0.0f;\n",
        "      for (int k = 0; k <= (-1 + n); ++k)\n",
        "        acc_k = acc_k + a[n * i + k] * b[n * k + j];\n",
        "      c[n * i + j] = acc_k;\n",
        "    }\n",
        "}\n"
       ]
      },
      {
       "output_type": "stream",
       "stream": "stderr",
       "text": [
        "/home/andreas/src/loopy/loopy/compiled.py:685: LoopyWarning: kernel scheduling was ambiguous--more than one schedule found, ignoring\n",
        "  kernel = get_one_scheduled_kernel(kernel)\n"
       ]
      }
     ],
     "prompt_number": 6
    },
    {
     "cell_type": "code",
     "collapsed": false,
     "input": [],
     "language": "python",
     "metadata": {},
     "outputs": []
    }
   ],
   "metadata": {}
  }
 ]
}