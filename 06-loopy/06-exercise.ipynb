{
 "metadata": {
  "name": "",
  "signature": "sha256:f2bec352edcd8f0fe86b6db83ef90a581de64538f75256a98e0a0dbe44574ac1"
 },
 "nbformat": 3,
 "nbformat_minor": 0,
 "worksheets": [
  {
   "cells": [
    {
     "cell_type": "markdown",
     "metadata": {},
     "source": [
      "# Exercise: DSLs and Code generation with Loopy\n",
      "\n",
      "1. Define a small domain-specific language for image processing. Operations you could support include:\n",
      "    * `blur(n, img)`: To keep things simple, take an average of the neighboring $n\\times n$ pixels.\n",
      "    * `mask(x, y, width, height)`. (`loopy` supports `if(condition, then, else)`, which maps to an `If(cond, then, else)` node in pymbolic.)\n",
      "    * Blending and nonlinear filtering using arithmetic\n",
      "2. Using your language, implement a filter that blurs the top left quarter of an image\n",
      "3. Implement your language \"conventionally\", using functions and loopy kernels\n",
      "4. Implement your language by capturing an expression tree and executing that.\n",
      "5. Think of and try to implement (at least) one optimization you could apply to the expression tree. You may use [Halide](http://halide-lang.org/) as inspiration if you like."
     ]
    },
    {
     "cell_type": "code",
     "collapsed": false,
     "input": [],
     "language": "python",
     "metadata": {},
     "outputs": []
    }
   ],
   "metadata": {}
  }
 ]
}