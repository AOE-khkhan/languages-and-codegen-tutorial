{
 "cells": [
  {
   "cell_type": "markdown",
   "metadata": {},
   "source": [
    "# Loopy: Dealing with Intermediate Results"
   ]
  },
  {
   "cell_type": "markdown",
   "metadata": {},
   "source": [
    "## Setup code"
   ]
  },
  {
   "cell_type": "code",
   "execution_count": 1,
   "metadata": {
    "collapsed": false,
    "jupyter": {
     "outputs_hidden": false
    }
   },
   "outputs": [],
   "source": [
    "import numpy as np\n",
    "import pyopencl as cl\n",
    "import pyopencl.array\n",
    "import pyopencl.clmath\n",
    "import pyopencl.clrandom\n",
    "import loopy as lp\n",
    "\n",
    "from loopy.version import LOOPY_USE_LANGUAGE_VERSION_2018_2"
   ]
  },
  {
   "cell_type": "code",
   "execution_count": 2,
   "metadata": {
    "collapsed": false,
    "jupyter": {
     "outputs_hidden": false
    }
   },
   "outputs": [
    {
     "name": "stdout",
     "output_type": "stream",
     "text": [
      "Choose platform:\n",
      "[0] <pyopencl.Platform 'Portable Computing Language' at 0x7f79b0a7e6e8>\n",
      "[1] <pyopencl.Platform 'Intel(R) OpenCL' at 0x1af0e48>\n"
     ]
    },
    {
     "name": "stdin",
     "output_type": "stream",
     "text": [
      "Choice [0]: \n"
     ]
    },
    {
     "name": "stdout",
     "output_type": "stream",
     "text": [
      "Set the environment variable PYOPENCL_CTX='' to avoid being asked again.\n"
     ]
    }
   ],
   "source": [
    "ctx = cl.create_some_context(interactive=True)\n",
    "queue = cl.CommandQueue(ctx)"
   ]
  },
  {
   "cell_type": "code",
   "execution_count": 3,
   "metadata": {
    "collapsed": false,
    "jupyter": {
     "outputs_hidden": false
    }
   },
   "outputs": [],
   "source": [
    "grid = np.linspace(0, 2*np.pi, 2048, endpoint=False)\n",
    "h = grid[1] - grid[0]\n",
    "u = cl.clmath.sin(cl.array.to_device(queue, grid))"
   ]
  },
  {
   "cell_type": "markdown",
   "metadata": {},
   "source": [
    "## Two kernels: Finite Differences and a Flux"
   ]
  },
  {
   "cell_type": "markdown",
   "metadata": {},
   "source": [
    "We will implement computing the ODE right-hand side for Burgers' equation:\n",
    "$$\n",
    "\\frac{\\partial u}{\\partial t} + \\frac{\\partial }{\\partial x} \\left( \\frac{u^2}2 \\right) = 0,\n",
    "$$\n",
    "\n",
    "Now, it is likely that the code fore the derivative is initially separate from the code for the flux function $f(u):=u^2/2$.\n",
    "\n",
    "For simplicity, we will use central finite differences to build a kernel `fin_diff_knl` to take the derivative:"
   ]
  },
  {
   "cell_type": "code",
   "execution_count": 4,
   "metadata": {
    "collapsed": false,
    "jupyter": {
     "outputs_hidden": false
    }
   },
   "outputs": [
    {
     "name": "stdout",
     "output_type": "stream",
     "text": [
      "---------------------------------------------------------------------------\n",
      "KERNEL: loopy_kernel\n",
      "---------------------------------------------------------------------------\n",
      "ARGUMENTS:\n",
      "f: type: <auto/runtime>, shape: (2 + n), dim_tags: (N0:stride:1) aspace: global\n",
      "h: ValueArg, type: <auto/runtime>\n",
      "n: ValueArg, type: <auto/runtime>\n",
      "out: type: <auto/runtime>, shape: (2 + n), dim_tags: (N0:stride:1) aspace: global\n",
      "---------------------------------------------------------------------------\n",
      "DOMAINS:\n",
      "[n] -> { [i] : 0 < i <= n }\n",
      "---------------------------------------------------------------------------\n",
      "INAME IMPLEMENTATION TAGS:\n",
      "i: None\n",
      "---------------------------------------------------------------------------\n",
      "INSTRUCTIONS:\n",
      "for i\n",
      "  \u001b[36mout[i]\u001b[0m = \u001b[35m((-1)*(f[i + 1] + (-1)*f[i + -1])) / (2*h)\u001b[0m  {id=\u001b[32minsn\u001b[0m}\n",
      "end i\n",
      "---------------------------------------------------------------------------\n"
     ]
    }
   ],
   "source": [
    "fin_diff_knl = lp.make_kernel(\n",
    "    \"{[i]: 1<=i<=n}\",\n",
    "    \"out[i] = -(f[i+1] - f[i-1])/(2*h)\",\n",
    "    [lp.GlobalArg(\"out\", shape=\"2+n\"), ...])\n",
    "print(fin_diff_knl)"
   ]
  },
  {
   "cell_type": "markdown",
   "metadata": {},
   "source": [
    "------------\n",
    "Next, make the flux kernel as `flux_knl`.\n",
    "* Use `j` as the loop variable.\n",
    "* Make sure to declare `f` and `u` to be the right size."
   ]
  },
  {
   "cell_type": "code",
   "execution_count": 5,
   "metadata": {
    "collapsed": false,
    "jupyter": {
     "outputs_hidden": false
    }
   },
   "outputs": [
    {
     "name": "stdout",
     "output_type": "stream",
     "text": [
      "---------------------------------------------------------------------------\n",
      "KERNEL: loopy_kernel\n",
      "---------------------------------------------------------------------------\n",
      "ARGUMENTS:\n",
      "f: type: <auto/runtime>, shape: (2 + n), dim_tags: (N0:stride:1) aspace: global\n",
      "u: type: <auto/runtime>, shape: (2 + n), dim_tags: (N0:stride:1) aspace: global\n",
      "---------------------------------------------------------------------------\n",
      "DOMAINS:\n",
      "[n] -> { [j] : 0 < j <= n }\n",
      "---------------------------------------------------------------------------\n",
      "INAME IMPLEMENTATION TAGS:\n",
      "j: None\n",
      "---------------------------------------------------------------------------\n",
      "INSTRUCTIONS:\n",
      "for j\n",
      "  \u001b[36mf[j]\u001b[0m = \u001b[35mu[j]**2 / 2\u001b[0m  {id=\u001b[32minsn\u001b[0m}\n",
      "end j\n",
      "---------------------------------------------------------------------------\n"
     ]
    }
   ],
   "source": [
    "flux_knl = lp.make_kernel(\n",
    "    \"{[j]: 1<=j<=n}\",\n",
    "    \"f[j] = u[j]**2/2\",\n",
    "    [\n",
    "    lp.GlobalArg(\"f\", shape=\"2+n\"),\n",
    "    lp.GlobalArg(\"u\", shape=\"2+n\"),\n",
    "    ])\n",
    "print(flux_knl)"
   ]
  },
  {
   "cell_type": "markdown",
   "metadata": {},
   "source": [
    "## Fuse the Kernels\n",
    "\n",
    "Next, fuse the two kernels together as `fused_knl`, using `lp.fuse_kernels([knl_a, knl_b])`:"
   ]
  },
  {
   "cell_type": "code",
   "execution_count": 6,
   "metadata": {
    "collapsed": false,
    "jupyter": {
     "outputs_hidden": false
    }
   },
   "outputs": [
    {
     "name": "stdout",
     "output_type": "stream",
     "text": [
      "---------------------------------------------------------------------------\n",
      "KERNEL: loopy_kernel_and_loopy_kernel\n",
      "---------------------------------------------------------------------------\n",
      "ARGUMENTS:\n",
      "f: type: <auto/runtime>, shape: (2 + n), dim_tags: (N0:stride:1) aspace: global\n",
      "h: ValueArg, type: <auto/runtime>\n",
      "n: ValueArg, type: <auto/runtime>\n",
      "out: type: <auto/runtime>, shape: (2 + n), dim_tags: (N0:stride:1) aspace: global\n",
      "u: type: <auto/runtime>, shape: (2 + n), dim_tags: (N0:stride:1) aspace: global\n",
      "---------------------------------------------------------------------------\n",
      "DOMAINS:\n",
      "[n] -> { [i] : 0 < i <= n }\n",
      "[n] -> { [j] : 0 < j <= n }\n",
      "---------------------------------------------------------------------------\n",
      "INAME IMPLEMENTATION TAGS:\n",
      "i: None\n",
      "j: None\n",
      "---------------------------------------------------------------------------\n",
      "INSTRUCTIONS:\n",
      "for i\n",
      "  \u001b[36mout[i]\u001b[0m = \u001b[35m((-1)*(f[i + 1] + (-1)*f[i + -1])) / (2*h)\u001b[0m  {id=\u001b[32minsn\u001b[0m}\n",
      "end i\n",
      "for j\n",
      "  \u001b[36mf[j]\u001b[0m = \u001b[35mu[j]**2 / 2\u001b[0m  {id=\u001b[32minsn_0\u001b[0m}\n",
      "end j\n",
      "---------------------------------------------------------------------------\n"
     ]
    }
   ],
   "source": [
    "#clear\n",
    "fused_knl = lp.fuse_kernels([fin_diff_knl, flux_knl])\n",
    "\n",
    "print(fused_knl)"
   ]
  },
  {
   "cell_type": "markdown",
   "metadata": {},
   "source": [
    "Let's take a look at the generated code:"
   ]
  },
  {
   "cell_type": "code",
   "execution_count": 7,
   "metadata": {
    "collapsed": false,
    "jupyter": {
     "outputs_hidden": false
    }
   },
   "outputs": [
    {
     "name": "stderr",
     "output_type": "stream",
     "text": [
      "/home/andreas/src/loopy/loopy/kernel/creation.py:1803: LoopyWarning: in kernel loopy_kernel_and_loopy_kernel: The single-writer dependency heuristic added dependencies on instruction ID(s) 'insn_0' to instruction ID 'insn' after kernel creation is complete. This is deprecated and may stop working in the future. To fix this, ensure that instruction dependencies are added/resolved as soon as possible, ideally at kernel creation time. (add 'single_writer_after_creation' to silenced_warnings kernel attribute to disable)\n",
      "  warn_with_kernel(kernel, \"single_writer_after_creation\",\n"
     ]
    },
    {
     "name": "stdout",
     "output_type": "stream",
     "text": [
      "\u001b[36m#\u001b[39;49;00m\u001b[36mdefine lid(N) ((int) get_local_id(N))\u001b[39;49;00m\u001b[36m\u001b[39;49;00m\n",
      "\u001b[36m#\u001b[39;49;00m\u001b[36mdefine gid(N) ((int) get_group_id(N))\u001b[39;49;00m\u001b[36m\u001b[39;49;00m\n",
      "\u001b[36m#\u001b[39;49;00m\u001b[36mif __OPENCL_C_VERSION__ < 120\u001b[39;49;00m\u001b[36m\u001b[39;49;00m\n",
      "\u001b[36m#\u001b[39;49;00m\u001b[36mpragma OPENCL EXTENSION cl_khr_fp64: enable\u001b[39;49;00m\u001b[36m\u001b[39;49;00m\n",
      "\u001b[36m#\u001b[39;49;00m\u001b[36mendif\u001b[39;49;00m\u001b[36m\u001b[39;49;00m\n",
      "\n",
      "__kernel \u001b[36mvoid\u001b[39;49;00m \u001b[32m__attribute__\u001b[39;49;00m ((reqd_work_group_size(\u001b[34m1\u001b[39;49;00m, \u001b[34m1\u001b[39;49;00m, \u001b[34m1\u001b[39;49;00m))) loopy_kernel_and_loopy_kernel(__global \u001b[36mdouble\u001b[39;49;00m *__restrict__ out, __global \u001b[36mdouble\u001b[39;49;00m *__restrict__ f, \u001b[36mfloat\u001b[39;49;00m \u001b[34mconst\u001b[39;49;00m h, \u001b[36mint\u001b[39;49;00m \u001b[34mconst\u001b[39;49;00m n, __global \u001b[36mdouble\u001b[39;49;00m \u001b[34mconst\u001b[39;49;00m *__restrict__ u)\n",
      "{\n",
      "  \u001b[34mfor\u001b[39;49;00m (\u001b[36mint\u001b[39;49;00m j = \u001b[34m1\u001b[39;49;00m; j <= n; ++j)\n",
      "    f[j] = (u[j] * u[j]) / \u001b[34m2.0\u001b[39;49;00m;\n",
      "  \u001b[34mfor\u001b[39;49;00m (\u001b[36mint\u001b[39;49;00m i = \u001b[34m1\u001b[39;49;00m; i <= n; ++i)\n",
      "    out[i] = (-\u001b[34m1.0\u001b[39;49;00m * (f[\u001b[34m1\u001b[39;49;00m + i] + -\u001b[34m1.0\u001b[39;49;00m * f[-\u001b[34m1\u001b[39;49;00m + i])) / (\u001b[34m2.0\u001b[39;49;00m * h);\n",
      "}\n",
      "\n"
     ]
    }
   ],
   "source": [
    "fused_knl = lp.set_options(fused_knl, write_cl=True)\n",
    "evt, _ = fused_knl(queue, u=u, h=np.float32(1e-1))"
   ]
  },
  {
   "cell_type": "markdown",
   "metadata": {},
   "source": [
    "Next, eliminate the separate loop to compute `f`:"
   ]
  },
  {
   "cell_type": "code",
   "execution_count": 8,
   "metadata": {
    "collapsed": false,
    "jupyter": {
     "outputs_hidden": false
    }
   },
   "outputs": [
    {
     "name": "stdout",
     "output_type": "stream",
     "text": [
      "---------------------------------------------------------------------------\n",
      "KERNEL: loopy_kernel_and_loopy_kernel\n",
      "---------------------------------------------------------------------------\n",
      "ARGUMENTS:\n",
      "h: ValueArg, type: <auto/runtime>\n",
      "n: ValueArg, type: <auto/runtime>\n",
      "out: type: <auto/runtime>, shape: (2 + n), dim_tags: (N0:stride:1) aspace: global\n",
      "u: type: <auto/runtime>, shape: (2 + n), dim_tags: (N0:stride:1) aspace: global\n",
      "---------------------------------------------------------------------------\n",
      "DOMAINS:\n",
      "[n] -> { [i] : 0 < i <= n }\n",
      "[n] -> { [] : n > 0 }\n",
      "---------------------------------------------------------------------------\n",
      "INAME IMPLEMENTATION TAGS:\n",
      "i: None\n",
      "---------------------------------------------------------------------------\n",
      "SUBSTITUTION RULES:\n",
      "f_subst(j) := u[j]**2 / 2\n",
      "---------------------------------------------------------------------------\n",
      "INSTRUCTIONS:\n",
      "for i\n",
      "  \u001b[36mout[i]\u001b[0m = \u001b[35m((-1)*(f_subst(i + 1) + (-1)*f_subst(i + -1))) / (2*h)\u001b[0m  {id=\u001b[32minsn\u001b[0m}\n",
      "end i\n",
      "---------------------------------------------------------------------------\n"
     ]
    }
   ],
   "source": [
    "fused_knl = lp.assignment_to_subst(fused_knl, \"f\")\n",
    "print(fused_knl)"
   ]
  },
  {
   "cell_type": "markdown",
   "metadata": {},
   "source": [
    "Again, let's take a look at the generated code:"
   ]
  },
  {
   "cell_type": "code",
   "execution_count": 9,
   "metadata": {
    "collapsed": false,
    "jupyter": {
     "outputs_hidden": false
    }
   },
   "outputs": [
    {
     "name": "stdout",
     "output_type": "stream",
     "text": [
      "\u001b[36m#\u001b[39;49;00m\u001b[36mdefine lid(N) ((int) get_local_id(N))\u001b[39;49;00m\u001b[36m\u001b[39;49;00m\n",
      "\u001b[36m#\u001b[39;49;00m\u001b[36mdefine gid(N) ((int) get_group_id(N))\u001b[39;49;00m\u001b[36m\u001b[39;49;00m\n",
      "\u001b[36m#\u001b[39;49;00m\u001b[36mif __OPENCL_C_VERSION__ < 120\u001b[39;49;00m\u001b[36m\u001b[39;49;00m\n",
      "\u001b[36m#\u001b[39;49;00m\u001b[36mpragma OPENCL EXTENSION cl_khr_fp64: enable\u001b[39;49;00m\u001b[36m\u001b[39;49;00m\n",
      "\u001b[36m#\u001b[39;49;00m\u001b[36mendif\u001b[39;49;00m\u001b[36m\u001b[39;49;00m\n",
      "\n",
      "__kernel \u001b[36mvoid\u001b[39;49;00m \u001b[32m__attribute__\u001b[39;49;00m ((reqd_work_group_size(\u001b[34m1\u001b[39;49;00m, \u001b[34m1\u001b[39;49;00m, \u001b[34m1\u001b[39;49;00m))) loopy_kernel_and_loopy_kernel(__global \u001b[36mdouble\u001b[39;49;00m *__restrict__ out, \u001b[36mfloat\u001b[39;49;00m \u001b[34mconst\u001b[39;49;00m h, \u001b[36mint\u001b[39;49;00m \u001b[34mconst\u001b[39;49;00m n, __global \u001b[36mdouble\u001b[39;49;00m \u001b[34mconst\u001b[39;49;00m *__restrict__ u)\n",
      "{\n",
      "  \u001b[34mfor\u001b[39;49;00m (\u001b[36mint\u001b[39;49;00m i = \u001b[34m1\u001b[39;49;00m; i <= n; ++i)\n",
      "    out[i] = (-\u001b[34m1.0\u001b[39;49;00m * ((u[\u001b[34m1\u001b[39;49;00m + i] * u[\u001b[34m1\u001b[39;49;00m + i]) / \u001b[34m2.0\u001b[39;49;00m + -\u001b[34m1.0\u001b[39;49;00m * ((u[-\u001b[34m1\u001b[39;49;00m + i] * u[-\u001b[34m1\u001b[39;49;00m + i]) / \u001b[34m2.0\u001b[39;49;00m))) / (\u001b[34m2.0\u001b[39;49;00m * h);\n",
      "}\n",
      "\n"
     ]
    }
   ],
   "source": [
    "fused_knl = lp.set_options(fused_knl, write_cl=True)\n",
    "evt, _ = fused_knl(queue, u=u, h=np.float32(1e-1))"
   ]
  },
  {
   "cell_type": "markdown",
   "metadata": {},
   "source": [
    "## Transform the kernel for execution\n",
    "\n",
    "For easier transformation, renumber the loop to start at 0, using `affine_map_inames(kernel, old_inames, new_inames, equations)`:"
   ]
  },
  {
   "cell_type": "code",
   "execution_count": 10,
   "metadata": {
    "collapsed": false,
    "jupyter": {
     "outputs_hidden": false
    }
   },
   "outputs": [
    {
     "name": "stdout",
     "output_type": "stream",
     "text": [
      "---------------------------------------------------------------------------\n",
      "KERNEL: loopy_kernel_and_loopy_kernel\n",
      "---------------------------------------------------------------------------\n",
      "ARGUMENTS:\n",
      "h: ValueArg, type: <auto/runtime>\n",
      "n: ValueArg, type: <auto/runtime>\n",
      "out: type: <auto/runtime>, shape: (2 + n), dim_tags: (N0:stride:1) aspace: global\n",
      "u: type: <auto/runtime>, shape: (2 + n), dim_tags: (N0:stride:1) aspace: global\n",
      "---------------------------------------------------------------------------\n",
      "DOMAINS:\n",
      "[n] -> { [inew] : 0 <= inew < n }\n",
      "[n] -> { [] : n > 0 }\n",
      "---------------------------------------------------------------------------\n",
      "INAME IMPLEMENTATION TAGS:\n",
      "inew: None\n",
      "---------------------------------------------------------------------------\n",
      "SUBSTITUTION RULES:\n",
      "f_subst(j) := u[j]**2 / 2\n",
      "---------------------------------------------------------------------------\n",
      "INSTRUCTIONS:\n",
      "for inew\n",
      "  \u001b[36mout[1 + inew]\u001b[0m = \u001b[35m((-1)*(f_subst(1 + 1 + inew) + (-1)*f_subst(-1 + 1 + inew))) / (2*h)\u001b[0m  {id=\u001b[32minsn\u001b[0m}\n",
      "end inew\n",
      "---------------------------------------------------------------------------\n"
     ]
    }
   ],
   "source": [
    "fused0_knl = lp.affine_map_inames(fused_knl, \"i\", \"inew\", \"inew+1=i\")\n",
    "\n",
    "print(fused0_knl)"
   ]
  },
  {
   "cell_type": "markdown",
   "metadata": {},
   "source": [
    "Now, map the kernel to OpenCL axes:"
   ]
  },
  {
   "cell_type": "code",
   "execution_count": 11,
   "metadata": {
    "collapsed": false,
    "jupyter": {
     "outputs_hidden": false
    }
   },
   "outputs": [
    {
     "name": "stdout",
     "output_type": "stream",
     "text": [
      "---------------------------------------------------------------------------\n",
      "KERNEL: loopy_kernel_and_loopy_kernel\n",
      "---------------------------------------------------------------------------\n",
      "ARGUMENTS:\n",
      "h: ValueArg, type: <auto/runtime>\n",
      "n: ValueArg, type: <auto/runtime>\n",
      "out: type: <auto/runtime>, shape: (2 + n), dim_tags: (N0:stride:1) aspace: global\n",
      "u: type: <auto/runtime>, shape: (2 + n), dim_tags: (N0:stride:1) aspace: global\n",
      "---------------------------------------------------------------------------\n",
      "DOMAINS:\n",
      "[n] -> { [inew_outer, inew_inner] : inew_inner >= 0 and -128inew_outer <= inew_inner <= 127 and inew_inner < n - 128inew_outer }\n",
      "[n] -> { [] : n > 0 }\n",
      "---------------------------------------------------------------------------\n",
      "INAME IMPLEMENTATION TAGS:\n",
      "inew_inner: l.0\n",
      "inew_outer: g.0\n",
      "---------------------------------------------------------------------------\n",
      "SUBSTITUTION RULES:\n",
      "f_subst(j) := u[j]**2 / 2\n",
      "---------------------------------------------------------------------------\n",
      "INSTRUCTIONS:\n",
      "for inew_outer, inew_inner\n",
      "    \u001b[36mout[1 + inew_inner + inew_outer*128]\u001b[0m = \u001b[35m((-1)*(f_subst(1 + 1 + inew_inner + inew_outer*128) + (-1)*f_subst(-1 + 1 + inew_inner + inew_outer*128))) / (2*h)\u001b[0m  {id=\u001b[32minsn\u001b[0m}\n",
      "end inew_outer, inew_inner\n",
      "---------------------------------------------------------------------------\n"
     ]
    }
   ],
   "source": [
    "gpu_knl = lp.split_iname(fused0_knl, \"inew\", 128, outer_tag=\"g.0\", inner_tag=\"l.0\")\n",
    "print(gpu_knl)"
   ]
  },
  {
   "cell_type": "markdown",
   "metadata": {},
   "source": [
    "Finally, precompute the fluxes locally in each workgroup:"
   ]
  },
  {
   "cell_type": "code",
   "execution_count": 16,
   "metadata": {
    "collapsed": false,
    "jupyter": {
     "outputs_hidden": false
    }
   },
   "outputs": [
    {
     "name": "stdout",
     "output_type": "stream",
     "text": [
      "---------------------------------------------------------------------------\n",
      "KERNEL: loopy_kernel_and_loopy_kernel\n",
      "---------------------------------------------------------------------------\n",
      "ARGUMENTS:\n",
      "h: ValueArg, type: <auto/runtime>\n",
      "n: ValueArg, type: <auto/runtime>\n",
      "out: type: <auto/runtime>, shape: (2 + n), dim_tags: (N0:stride:1) aspace: global\n",
      "u: type: <auto/runtime>, shape: (2 + n), dim_tags: (N0:stride:1) aspace: global\n",
      "---------------------------------------------------------------------------\n",
      "DOMAINS:\n",
      "[n] -> { [inew_outer, inew_inner, j_outer, j_inner] : inew_outer >= 0 and 0 <= inew_inner <= 127 and inew_inner < n - 128inew_outer and j_inner >= 0 and -128j_outer <= j_inner <= 129 - 128j_outer and j_inner <= 127 and j_inner <= 1 + n - 128inew_outer - 128j_outer }\n",
      "[n] -> { [] : n > 0 }\n",
      "---------------------------------------------------------------------------\n",
      "INAME IMPLEMENTATION TAGS:\n",
      "inew_inner: l.0\n",
      "inew_outer: g.0\n",
      "j_inner: l.0\n",
      "j_outer: None\n",
      "---------------------------------------------------------------------------\n",
      "TEMPORARIES:\n",
      "f_subst_0: type: <auto/runtime>, shape: (j:130), dim_tags: (N0:stride:1) scope:auto\n",
      "---------------------------------------------------------------------------\n",
      "INSTRUCTIONS:\n",
      "  for inew_outer, j_outer, j_inner\n",
      "↱       \u001b[36mf_subst_0[j_inner + j_outer*128]\u001b[0m = \u001b[35mu[128*inew_outer + j_inner + j_outer*128]**2 / 2\u001b[0m  {id=\u001b[32mf_subst\u001b[0m}\n",
      "│   end j_outer, j_inner\n",
      "│   for inew_inner\n",
      "└     \u001b[36mout[1 + inew_inner + inew_outer*128]\u001b[0m = \u001b[35m((-1)*(f_subst_0[2 + inew_inner] + (-1)*f_subst_0[inew_inner])) / (2*h)\u001b[0m  {id=\u001b[32minsn\u001b[0m}\n",
      "  end inew_outer, inew_inner\n",
      "---------------------------------------------------------------------------\n",
      "\u001b[36m#\u001b[39;49;00m\u001b[36mdefine lid(N) ((int) get_local_id(N))\u001b[39;49;00m\u001b[36m\u001b[39;49;00m\n",
      "\u001b[36m#\u001b[39;49;00m\u001b[36mdefine gid(N) ((int) get_group_id(N))\u001b[39;49;00m\u001b[36m\u001b[39;49;00m\n",
      "\u001b[36m#\u001b[39;49;00m\u001b[36mif __OPENCL_C_VERSION__ < 120\u001b[39;49;00m\u001b[36m\u001b[39;49;00m\n",
      "\u001b[36m#\u001b[39;49;00m\u001b[36mpragma OPENCL EXTENSION cl_khr_fp64: enable\u001b[39;49;00m\u001b[36m\u001b[39;49;00m\n",
      "\u001b[36m#\u001b[39;49;00m\u001b[36mendif\u001b[39;49;00m\u001b[36m\u001b[39;49;00m\n",
      "\n",
      "__kernel \u001b[36mvoid\u001b[39;49;00m \u001b[32m__attribute__\u001b[39;49;00m ((reqd_work_group_size(\u001b[34m128\u001b[39;49;00m, \u001b[34m1\u001b[39;49;00m, \u001b[34m1\u001b[39;49;00m))) loopy_kernel_and_loopy_kernel(__global \u001b[36mdouble\u001b[39;49;00m *__restrict__ out, \u001b[36mdouble\u001b[39;49;00m \u001b[34mconst\u001b[39;49;00m h, \u001b[36mint\u001b[39;49;00m \u001b[34mconst\u001b[39;49;00m n, __global \u001b[36mdouble\u001b[39;49;00m \u001b[34mconst\u001b[39;49;00m *__restrict__ u)\n",
      "{\n",
      "  __local \u001b[36mdouble\u001b[39;49;00m f_subst_0[\u001b[34m130\u001b[39;49;00m];\n",
      "\n",
      "  \u001b[34mif\u001b[39;49;00m (\u001b[34m1\u001b[39;49;00m + -\u001b[34m128\u001b[39;49;00m * gid(\u001b[34m0\u001b[39;49;00m) + -\u001b[34m1\u001b[39;49;00m * lid(\u001b[34m0\u001b[39;49;00m) + n >= \u001b[34m0\u001b[39;49;00m)\n",
      "  {\n",
      "    f_subst_0[lid(\u001b[34m0\u001b[39;49;00m)] = (u[\u001b[34m128\u001b[39;49;00m * gid(\u001b[34m0\u001b[39;49;00m) + lid(\u001b[34m0\u001b[39;49;00m)] * u[\u001b[34m128\u001b[39;49;00m * gid(\u001b[34m0\u001b[39;49;00m) + lid(\u001b[34m0\u001b[39;49;00m)]) / \u001b[34m2.0\u001b[39;49;00m;\n",
      "    \u001b[34mif\u001b[39;49;00m (\u001b[34m1\u001b[39;49;00m + -\u001b[34m1\u001b[39;49;00m * lid(\u001b[34m0\u001b[39;49;00m) >= \u001b[34m0\u001b[39;49;00m && -\u001b[34m127\u001b[39;49;00m + -\u001b[34m128\u001b[39;49;00m * gid(\u001b[34m0\u001b[39;49;00m) + -\u001b[34m1\u001b[39;49;00m * lid(\u001b[34m0\u001b[39;49;00m) + n >= \u001b[34m0\u001b[39;49;00m)\n",
      "      f_subst_0[\u001b[34m128\u001b[39;49;00m + lid(\u001b[34m0\u001b[39;49;00m)] = (u[\u001b[34m128\u001b[39;49;00m * gid(\u001b[34m0\u001b[39;49;00m) + \u001b[34m128\u001b[39;49;00m + lid(\u001b[34m0\u001b[39;49;00m)] * u[\u001b[34m128\u001b[39;49;00m * gid(\u001b[34m0\u001b[39;49;00m) + \u001b[34m128\u001b[39;49;00m + lid(\u001b[34m0\u001b[39;49;00m)]) / \u001b[34m2.0\u001b[39;49;00m;\n",
      "  }\n",
      "  barrier(CLK_LOCAL_MEM_FENCE) \u001b[37m/* for f_subst_0 (insn depends on f_subst) */\u001b[39;49;00m;\n",
      "  \u001b[34mif\u001b[39;49;00m (-\u001b[34m1\u001b[39;49;00m + -\u001b[34m128\u001b[39;49;00m * gid(\u001b[34m0\u001b[39;49;00m) + -\u001b[34m1\u001b[39;49;00m * lid(\u001b[34m0\u001b[39;49;00m) + n >= \u001b[34m0\u001b[39;49;00m)\n",
      "    out[\u001b[34m1\u001b[39;49;00m + \u001b[34m128\u001b[39;49;00m * gid(\u001b[34m0\u001b[39;49;00m) + lid(\u001b[34m0\u001b[39;49;00m)] = (-\u001b[34m1.0\u001b[39;49;00m * (f_subst_0[\u001b[34m2\u001b[39;49;00m + lid(\u001b[34m0\u001b[39;49;00m)] + -\u001b[34m1.0\u001b[39;49;00m * f_subst_0[lid(\u001b[34m0\u001b[39;49;00m)])) / (\u001b[34m2.0\u001b[39;49;00m * h);\n",
      "}\n",
      "\n"
     ]
    }
   ],
   "source": [
    "precomp_knl = lp.precompute(gpu_knl, \"f_subst\", \"inew_inner\", fetch_bounding_box=True, default_tag=\"l.auto\")\n",
    "print(precomp_knl)\n",
    "precomp_knl = lp.tag_inames(precomp_knl, {\"j_outer\": \"unr\"})\n",
    "precomp_knl = lp.set_options(precomp_knl, return_dict=True)\n",
    "evt, _ = precomp_knl(queue, u=u, h=h)"
   ]
  },
  {
   "cell_type": "markdown",
   "metadata": {},
   "source": [
    "## Run the PDE"
   ]
  },
  {
   "cell_type": "code",
   "execution_count": 17,
   "metadata": {
    "collapsed": false,
    "jupyter": {
     "outputs_hidden": false
    }
   },
   "outputs": [
    {
     "data": {
      "image/png": "[encoded data removed]",
      "text/plain": [
       "<Figure size 432x288 with 1 Axes>"
      ]
     },
     "metadata": {
      "needs_background": "light"
     },
     "output_type": "display_data"
    }
   ],
   "source": [
    "import matplotlib.pyplot as pt\n",
    "\n",
    "# Forward Euler on a hyperbolic problem: terrible idea. Oh well.\n",
    "\n",
    "dt = 0.2*h\n",
    "u = cl.clmath.sin(cl.array.to_device(queue, grid))\n",
    "for i in range(1800):\n",
    "    _, result_dict = precomp_knl(queue, u=u, h=h)\n",
    "    out = result_dict[\"out\"]\n",
    "    out[0] = out[-1] = 0\n",
    "    u = u + dt*out\n",
    "    \n",
    "    if i % 300 == 0:\n",
    "        pt.plot(u.get())"
   ]
  },
  {
   "cell_type": "code",
   "execution_count": null,
   "metadata": {
    "collapsed": false,
    "jupyter": {
     "outputs_hidden": false
    }
   },
   "outputs": [],
   "source": []
  }
 ],
 "metadata": {
  "kernelspec": {
   "display_name": "Python 3",
   "language": "python",
   "name": "python3"
  },
  "language_info": {
   "codemirror_mode": {
    "name": "ipython",
    "version": 3
   },
   "file_extension": ".py",
   "mimetype": "text/x-python",
   "name": "python",
   "nbconvert_exporter": "python",
   "pygments_lexer": "ipython3",
   "version": "3.8.4"
  }
 },
 "nbformat": 4,
 "nbformat_minor": 4
}
