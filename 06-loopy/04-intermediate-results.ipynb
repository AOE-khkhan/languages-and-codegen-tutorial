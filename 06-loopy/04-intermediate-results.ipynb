{
 "cells": [
  {
   "cell_type": "markdown",
   "metadata": {},
   "source": [
    "# Loopy: Dealing with Intermediate Results"
   ]
  },
  {
   "cell_type": "markdown",
   "metadata": {},
   "source": [
    "## Setup code"
   ]
  },
  {
   "cell_type": "code",
   "execution_count": 1,
   "metadata": {
    "collapsed": false
   },
   "outputs": [],
   "source": [
    "import numpy as np\n",
    "import pyopencl as cl\n",
    "import pyopencl.array\n",
    "import pyopencl.clmath\n",
    "import pyopencl.clrandom\n",
    "import loopy as lp"
   ]
  },
  {
   "cell_type": "code",
   "execution_count": 2,
   "metadata": {
    "collapsed": false
   },
   "outputs": [],
   "source": [
    "ctx = cl.create_some_context()\n",
    "queue = cl.CommandQueue(ctx)"
   ]
  },
  {
   "cell_type": "code",
   "execution_count": 3,
   "metadata": {
    "collapsed": false
   },
   "outputs": [],
   "source": [
    "grid = np.linspace(0, 2*np.pi, 2048, endpoint=False)\n",
    "h = grid[1] - grid[0]\n",
    "u = cl.clmath.sin(cl.array.to_device(queue, grid))"
   ]
  },
  {
   "cell_type": "markdown",
   "metadata": {},
   "source": [
    "## Two kernels: Finite Differences and a Flux"
   ]
  },
  {
   "cell_type": "markdown",
   "metadata": {},
   "source": [
    "We will implement computing the ODE right-hand side for Burgers' equation:\n",
    "$$\n",
    "\\frac{\\partial u}{\\partial t} + \\frac{\\partial }{\\partial x} \\left( \\frac{u^2}2 \\right) = 0,\n",
    "$$\n",
    "\n",
    "Now, it is likely that the code fore the derivative is initially separate from the code for the flux function $f(u):=u^2/2$.\n",
    "\n",
    "For simplicity, we will use central finite differences to build a kernel `fin_diff_knl` to take the derivative:"
   ]
  },
  {
   "cell_type": "code",
   "execution_count": 4,
   "metadata": {
    "collapsed": false
   },
   "outputs": [
    {
     "name": "stdout",
     "output_type": "stream",
     "text": [
      "---------------------------------------------------------------------------\n",
      "KERNEL: loopy_kernel\n",
      "---------------------------------------------------------------------------\n",
      "ARGUMENTS:\n",
      "f: GlobalArg, type: <runtime>, shape: (2 + n), dim_tags: (N0:stride:1)\n",
      "h: ValueArg, type: <runtime>\n",
      "n: ValueArg, type: <runtime>\n",
      "out: GlobalArg, type: <runtime>, shape: (2 + n), dim_tags: (N0:stride:1)\n",
      "---------------------------------------------------------------------------\n",
      "DOMAINS:\n",
      "[n] -> { [i] : 0 < i <= n }\n",
      "---------------------------------------------------------------------------\n",
      "INAME IMPLEMENTATION TAGS:\n",
      "i: None\n",
      "---------------------------------------------------------------------------\n",
      "INSTRUCTIONS:\n",
      "[i]                                  \u001b[34mout[i]\u001b[0m <- \u001b[35m(-1)*(f[i + 1] + (-1)*f[i + -1]) / (2*h)\u001b[0m   # \u001b[32minsn\u001b[0m\n",
      "---------------------------------------------------------------------------\n"
     ]
    }
   ],
   "source": [
    "fin_diff_knl = lp.make_kernel(\n",
    "    \"{[i]: 1<=i<=n}\",\n",
    "    \"out[i] = -(f[i+1] - f[i-1])/(2*h)\",\n",
    "    [lp.GlobalArg(\"out\", shape=\"2+n\"), ...])\n",
    "print(fin_diff_knl)"
   ]
  },
  {
   "cell_type": "markdown",
   "metadata": {},
   "source": [
    "------------\n",
    "Next, make the flux kernel as `flux_knl`.\n",
    "* Use `j` as the loop variable.\n",
    "* Make sure to declare `f` and `u` to be the right size."
   ]
  },
  {
   "cell_type": "code",
   "execution_count": 5,
   "metadata": {
    "collapsed": false
   },
   "outputs": [
    {
     "name": "stdout",
     "output_type": "stream",
     "text": [
      "---------------------------------------------------------------------------\n",
      "KERNEL: loopy_kernel\n",
      "---------------------------------------------------------------------------\n",
      "ARGUMENTS:\n",
      "f: GlobalArg, type: <runtime>, shape: (2 + n), dim_tags: (N0:stride:1)\n",
      "u: GlobalArg, type: <runtime>, shape: (2 + n), dim_tags: (N0:stride:1)\n",
      "---------------------------------------------------------------------------\n",
      "DOMAINS:\n",
      "[n] -> { [j] : 0 < j <= n }\n",
      "---------------------------------------------------------------------------\n",
      "INAME IMPLEMENTATION TAGS:\n",
      "j: None\n",
      "---------------------------------------------------------------------------\n",
      "INSTRUCTIONS:\n",
      "[j]                                  \u001b[34mf[j]\u001b[0m <- \u001b[35mu[j]**2 / 2\u001b[0m   # \u001b[32minsn\u001b[0m\n",
      "---------------------------------------------------------------------------\n"
     ]
    }
   ],
   "source": [
    "flux_knl = lp.make_kernel(\n",
    "    \"{[j]: 1<=j<=n}\",\n",
    "    \"f[j] = u[j]**2/2\",\n",
    "    [\n",
    "    lp.GlobalArg(\"f\", shape=\"2+n\"),\n",
    "    lp.GlobalArg(\"u\", shape=\"2+n\"),\n",
    "    ])\n",
    "print(flux_knl)"
   ]
  },
  {
   "cell_type": "markdown",
   "metadata": {},
   "source": [
    "## Fuse the Kernels\n",
    "\n",
    "Next, fuse the two kernels together as `fused_knl`, using `lp.fuse_kernels([knl_a, knl_b])`:"
   ]
  },
  {
   "cell_type": "code",
   "execution_count": 6,
   "metadata": {
    "collapsed": false
   },
   "outputs": [
    {
     "name": "stdout",
     "output_type": "stream",
     "text": [
      "---------------------------------------------------------------------------\n",
      "KERNEL: loopy_kernel_and_loopy_kernel\n",
      "---------------------------------------------------------------------------\n",
      "ARGUMENTS:\n",
      "f: GlobalArg, type: <runtime>, shape: (2 + n), dim_tags: (N0:stride:1)\n",
      "h: ValueArg, type: <runtime>\n",
      "n: ValueArg, type: <runtime>\n",
      "out: GlobalArg, type: <runtime>, shape: (2 + n), dim_tags: (N0:stride:1)\n",
      "u: GlobalArg, type: <runtime>, shape: (2 + n), dim_tags: (N0:stride:1)\n",
      "---------------------------------------------------------------------------\n",
      "DOMAINS:\n",
      "[n] -> { [i] : 0 < i <= n }\n",
      "[n] -> { [j] : 0 < j <= n }\n",
      "---------------------------------------------------------------------------\n",
      "INAME IMPLEMENTATION TAGS:\n",
      "i: None\n",
      "j: None\n",
      "---------------------------------------------------------------------------\n",
      "INSTRUCTIONS:\n",
      "[j]                                  \u001b[34mf[j]\u001b[0m <- \u001b[35mu[j]**2 / 2\u001b[0m   # \u001b[32minsn_0\u001b[0m\n",
      "[i]                                  \u001b[34mout[i]\u001b[0m <- \u001b[35m(-1)*(f[i + 1] + (-1)*f[i + -1]) / (2*h)\u001b[0m   # \u001b[32minsn\u001b[0m\n",
      "---------------------------------------------------------------------------\n"
     ]
    }
   ],
   "source": [
    "#clear\n",
    "fused_knl = lp.fuse_kernels([fin_diff_knl, flux_knl])\n",
    "\n",
    "print(fused_knl)"
   ]
  },
  {
   "cell_type": "markdown",
   "metadata": {},
   "source": [
    "Let's take a look at the generated code:"
   ]
  },
  {
   "cell_type": "code",
   "execution_count": 7,
   "metadata": {
    "collapsed": false
   },
   "outputs": [
    {
     "name": "stdout",
     "output_type": "stream",
     "text": [
      "#define lid(N) ((int) get_local_id(N))\n",
      "#define gid(N) ((int) get_group_id(N))\n",
      "#if __OPENCL_C_VERSION__ < 120\n",
      "#pragma OPENCL EXTENSION cl_khr_fp64: enable\n",
      "#endif\n",
      "\n",
      "__kernel void __attribute__ ((reqd_work_group_size(1, 1, 1))) loopy_kernel_and_loopy_kernel(__global double *restrict out, __global double *restrict f, float const h, int const n, __global double const *restrict u)\n",
      "{\n",
      "  for (int j = 1; j <= n; ++j)\n",
      "    f[j] = u[j] * u[j] / 2.0;\n",
      "  for (int i = 1; i <= n; ++i)\n",
      "    out[i] = -1.0 * (f[i + 1] + -1.0 * f[i + -1]) / (2.0 * h);\n",
      "}\n"
     ]
    }
   ],
   "source": [
    "fused_knl = lp.set_options(fused_knl, write_cl=True)\n",
    "evt, _ = fused_knl(queue, u=u, h=np.float32(1e-1))"
   ]
  },
  {
   "cell_type": "markdown",
   "metadata": {},
   "source": [
    "Next, eliminate the separate loop to compute `f`:"
   ]
  },
  {
   "cell_type": "code",
   "execution_count": 8,
   "metadata": {
    "collapsed": false
   },
   "outputs": [
    {
     "name": "stdout",
     "output_type": "stream",
     "text": [
      "---------------------------------------------------------------------------\n",
      "KERNEL: loopy_kernel_and_loopy_kernel\n",
      "---------------------------------------------------------------------------\n",
      "ARGUMENTS:\n",
      "h: ValueArg, type: <runtime>\n",
      "n: ValueArg, type: <runtime>\n",
      "out: GlobalArg, type: <runtime>, shape: (2 + n), dim_tags: (N0:stride:1)\n",
      "u: GlobalArg, type: <runtime>, shape: (2 + n), dim_tags: (N0:stride:1)\n",
      "---------------------------------------------------------------------------\n",
      "DOMAINS:\n",
      "[n] -> { [i] : 0 < i <= n }\n",
      "[n] -> { [j] : 0 < j <= n }\n",
      "---------------------------------------------------------------------------\n",
      "INAME IMPLEMENTATION TAGS:\n",
      "i: None\n",
      "j: None\n",
      "---------------------------------------------------------------------------\n",
      "SUBSTIUTION RULES:\n",
      "f_subst(j) := u[j]**2 / 2\n",
      "---------------------------------------------------------------------------\n",
      "INSTRUCTIONS:\n",
      "[i]                                  \u001b[34mout[i]\u001b[0m <- \u001b[35m(-1)*(f_subst(i + 1) + (-1)*f_subst(i + -1)) / (2*h)\u001b[0m   # \u001b[32minsn\u001b[0m\n",
      "---------------------------------------------------------------------------\n"
     ]
    }
   ],
   "source": [
    "fused_knl = lp.assignment_to_subst(fused_knl, \"f\")\n",
    "print(fused_knl)"
   ]
  },
  {
   "cell_type": "markdown",
   "metadata": {},
   "source": [
    "Again, let's take a look at the generated code:"
   ]
  },
  {
   "cell_type": "code",
   "execution_count": 9,
   "metadata": {
    "collapsed": false
   },
   "outputs": [
    {
     "name": "stdout",
     "output_type": "stream",
     "text": [
      "#define lid(N) ((int) get_local_id(N))\n",
      "#define gid(N) ((int) get_group_id(N))\n",
      "#if __OPENCL_C_VERSION__ < 120\n",
      "#pragma OPENCL EXTENSION cl_khr_fp64: enable\n",
      "#endif\n",
      "\n",
      "__kernel void __attribute__ ((reqd_work_group_size(1, 1, 1))) loopy_kernel_and_loopy_kernel(__global double *restrict out, float const h, int const n, __global double const *restrict u)\n",
      "{\n",
      "  for (int i = 1; i <= n; ++i)\n",
      "    out[i] = -1.0 * (u[i + 1] * u[i + 1] / 2.0 + -1.0 * u[i + -1] * u[i + -1] / 2.0) / (2.0 * h);\n",
      "}\n"
     ]
    }
   ],
   "source": [
    "fused_knl = lp.set_options(fused_knl, write_cl=True)\n",
    "evt, _ = fused_knl(queue, u=u, h=np.float32(1e-1))"
   ]
  },
  {
   "cell_type": "markdown",
   "metadata": {},
   "source": [
    "## Transform the kernel for execution\n",
    "\n",
    "For easier transformation, renumber the loop to start at 0, using `affine_map_inames(kernel, old_inames, new_inames, equations)`:"
   ]
  },
  {
   "cell_type": "code",
   "execution_count": 10,
   "metadata": {
    "collapsed": false
   },
   "outputs": [
    {
     "name": "stdout",
     "output_type": "stream",
     "text": [
      "---------------------------------------------------------------------------\n",
      "KERNEL: loopy_kernel_and_loopy_kernel\n",
      "---------------------------------------------------------------------------\n",
      "ARGUMENTS:\n",
      "h: ValueArg, type: <runtime>\n",
      "n: ValueArg, type: <runtime>\n",
      "out: GlobalArg, type: <runtime>, shape: (2 + n), dim_tags: (N0:stride:1)\n",
      "u: GlobalArg, type: <runtime>, shape: (2 + n), dim_tags: (N0:stride:1)\n",
      "---------------------------------------------------------------------------\n",
      "DOMAINS:\n",
      "[n] -> { [inew] : 0 <= inew < n }\n",
      "[n] -> { [j] : 0 < j <= n }\n",
      "---------------------------------------------------------------------------\n",
      "INAME IMPLEMENTATION TAGS:\n",
      "inew: None\n",
      "j: None\n",
      "---------------------------------------------------------------------------\n",
      "SUBSTIUTION RULES:\n",
      "f_subst(j) := u[j]**2 / 2\n",
      "---------------------------------------------------------------------------\n",
      "INSTRUCTIONS:\n",
      "[inew]                               \u001b[34mout[1 + inew]\u001b[0m <- \u001b[35m(-1)*(f_subst(1 + 1 + inew) + (-1)*f_subst(-1 + 1 + inew)) / (2*h)\u001b[0m   # \u001b[32minsn\u001b[0m\n",
      "---------------------------------------------------------------------------\n"
     ]
    }
   ],
   "source": [
    "fused0_knl = lp.affine_map_inames(fused_knl, \"i\", \"inew\", \"inew+1=i\")\n",
    "\n",
    "print(fused0_knl)"
   ]
  },
  {
   "cell_type": "markdown",
   "metadata": {},
   "source": [
    "Now, map the kernel to OpenCL axes:"
   ]
  },
  {
   "cell_type": "code",
   "execution_count": 11,
   "metadata": {
    "collapsed": false
   },
   "outputs": [
    {
     "name": "stdout",
     "output_type": "stream",
     "text": [
      "---------------------------------------------------------------------------\n",
      "KERNEL: loopy_kernel_and_loopy_kernel\n",
      "---------------------------------------------------------------------------\n",
      "ARGUMENTS:\n",
      "h: ValueArg, type: <runtime>\n",
      "n: ValueArg, type: <runtime>\n",
      "out: GlobalArg, type: <runtime>, shape: (2 + n), dim_tags: (N0:stride:1)\n",
      "u: GlobalArg, type: <runtime>, shape: (2 + n), dim_tags: (N0:stride:1)\n",
      "---------------------------------------------------------------------------\n",
      "DOMAINS:\n",
      "[n] -> { [inew_outer, inew_inner] : inew_inner >= 0 and -128inew_outer <= inew_inner <= 127 and inew_inner < n - 128inew_outer }\n",
      "[n] -> { [j] : 0 < j <= n }\n",
      "---------------------------------------------------------------------------\n",
      "INAME IMPLEMENTATION TAGS:\n",
      "inew_inner: l.0\n",
      "inew_outer: g.0\n",
      "j: None\n",
      "---------------------------------------------------------------------------\n",
      "SUBSTIUTION RULES:\n",
      "f_subst(j) := u[j]**2 / 2\n",
      "---------------------------------------------------------------------------\n",
      "INSTRUCTIONS:\n",
      "[inew_inner,inew_outer]              \u001b[34mout[1 + inew_inner + inew_outer*128]\u001b[0m <- \u001b[35m(-1)*(f_subst(1 + 1 + inew_inner + inew_outer*128) + (-1)*f_subst(-1 + 1 + inew_inner + inew_outer*128)) / (2*h)\u001b[0m   # \u001b[32minsn\u001b[0m\n",
      "---------------------------------------------------------------------------\n"
     ]
    }
   ],
   "source": [
    "gpu_knl = lp.split_iname(fused0_knl, \"inew\", 128, outer_tag=\"g.0\", inner_tag=\"l.0\")\n",
    "print(gpu_knl)"
   ]
  },
  {
   "cell_type": "markdown",
   "metadata": {},
   "source": [
    "Finally, precompute the fluxes locally in each workgroup:"
   ]
  },
  {
   "cell_type": "code",
   "execution_count": 12,
   "metadata": {
    "collapsed": false
   },
   "outputs": [
    {
     "name": "stdout",
     "output_type": "stream",
     "text": [
      "#define lid(N) ((int) get_local_id(N))\n",
      "#define gid(N) ((int) get_group_id(N))\n",
      "#if __OPENCL_C_VERSION__ < 120\n",
      "#pragma OPENCL EXTENSION cl_khr_fp64: enable\n",
      "#endif\n",
      "\n",
      "__kernel void __attribute__ ((reqd_work_group_size(128, 1, 1))) loopy_kernel_and_loopy_kernel(__global double *restrict out, double const h, int const n, __global double const *restrict u)\n",
      "{\n",
      "  __local double f_subst_0[130];\n",
      "\n",
      "  if (1 + -128 * gid(0) + -1 * lid(0) + n >= 0)\n",
      "  {\n",
      "    f_subst_0[lid(0) + 0 * 128] = u[128 * gid(0) + lid(0) + 0 * 128] * u[128 * gid(0) + lid(0) + 0 * 128] / 2.0;\n",
      "    if (1 + -1 * lid(0) >= 0 && -127 + -128 * gid(0) + -1 * lid(0) + n >= 0)\n",
      "      f_subst_0[lid(0) + 1 * 128] = u[128 * gid(0) + lid(0) + 1 * 128] * u[128 * gid(0) + lid(0) + 1 * 128] / 2.0;\n",
      "  }\n",
      "  barrier(CLK_LOCAL_MEM_FENCE) /* for f_subst_0 (insn depends on f_subst) */;\n",
      "  if (-1 + -128 * gid(0) + -1 * lid(0) + n >= 0)\n",
      "    out[1 + lid(0) + gid(0) * 128] = -1.0 * (f_subst_0[2 + lid(0)] + -1.0 * f_subst_0[lid(0)]) / (2.0 * h);\n",
      "}\n"
     ]
    }
   ],
   "source": [
    "precomp_knl = lp.precompute(gpu_knl, \"f_subst\", \"inew_inner\", fetch_bounding_box=True)\n",
    "precomp_knl = lp.tag_inames(precomp_knl, {\"j_0_outer\": \"unr\"})\n",
    "precomp_knl = lp.set_options(precomp_knl, return_dict=True)\n",
    "evt, _ = precomp_knl(queue, u=u, h=h)"
   ]
  },
  {
   "cell_type": "markdown",
   "metadata": {},
   "source": [
    "## Run the PDE"
   ]
  },
  {
   "cell_type": "code",
   "execution_count": 13,
   "metadata": {
    "collapsed": false
   },
   "outputs": [
    {
     "data": {
      "image/png": "[encoded data removed]",
      "text/plain": [
       "<matplotlib.figure.Figure at 0x7f026cdb1cf8>"
      ]
     },
     "metadata": {},
     "output_type": "display_data"
    }
   ],
   "source": [
    "import matplotlib.pyplot as pt\n",
    "\n",
    "# Forward Euler on a hyperbolic problem: terrible idea. Oh well.\n",
    "\n",
    "dt = 0.2*h\n",
    "u = cl.clmath.sin(cl.array.to_device(queue, grid))\n",
    "for i in range(1800):\n",
    "    _, result_dict = precomp_knl(queue, u=u, h=h)\n",
    "    out = result_dict[\"out\"]\n",
    "    out[0] = out[-1] = 0\n",
    "    u = u + dt*out\n",
    "    \n",
    "    if i % 300 == 0:\n",
    "        pt.plot(u.get())"
   ]
  },
  {
   "cell_type": "code",
   "execution_count": null,
   "metadata": {
    "collapsed": false
   },
   "outputs": [],
   "source": []
  }
 ],
 "metadata": {
  "kernelspec": {
   "display_name": "Python 3",
   "language": "python",
   "name": "python3"
  },
  "language_info": {
   "codemirror_mode": {
    "name": "ipython",
    "version": 3
   },
   "file_extension": ".py",
   "mimetype": "text/x-python",
   "name": "python",
   "nbconvert_exporter": "python",
   "pygments_lexer": "ipython3",
   "version": "3.5.1+"
  }
 },
 "nbformat": 4,
 "nbformat_minor": 0
}
