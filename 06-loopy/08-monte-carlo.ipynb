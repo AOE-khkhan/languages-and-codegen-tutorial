{
 "cells": [
  {
   "cell_type": "markdown",
   "metadata": {},
   "source": [
    "# Monte Carlo Method\n",
    "\n",
    "As a simple example of a Monte Carlo method, we will approximate the value of $\\pi$:"
   ]
  },
  {
   "cell_type": "code",
   "execution_count": 1,
   "metadata": {
    "collapsed": false,
    "jupyter": {
     "outputs_hidden": false
    }
   },
   "outputs": [],
   "source": [
    "import numpy as np\n",
    "import pyopencl as cl\n",
    "import pyopencl.array\n",
    "import pyopencl.clrandom\n",
    "import loopy as lp\n",
    "\n",
    "from loopy.version import LOOPY_USE_LANGUAGE_VERSION_2018_2"
   ]
  },
  {
   "cell_type": "code",
   "execution_count": 3,
   "metadata": {
    "collapsed": false,
    "jupyter": {
     "outputs_hidden": false
    }
   },
   "outputs": [
    {
     "name": "stdout",
     "output_type": "stream",
     "text": [
      "Choose platform:\n",
      "[0] <pyopencl.Platform 'Portable Computing Language' at 0x7fa2c133d6e8>\n",
      "[1] <pyopencl.Platform 'Intel(R) OpenCL' at 0x2be2948>\n"
     ]
    },
    {
     "name": "stdin",
     "output_type": "stream",
     "text": [
      "Choice [0]: \n"
     ]
    },
    {
     "name": "stdout",
     "output_type": "stream",
     "text": [
      "Set the environment variable PYOPENCL_CTX='' to avoid being asked again.\n"
     ]
    }
   ],
   "source": [
    "ctx = cl.create_some_context(interactive=True)\n",
    "queue = cl.CommandQueue(ctx)"
   ]
  },
  {
   "cell_type": "markdown",
   "metadata": {},
   "source": [
    "## Sample generation"
   ]
  },
  {
   "cell_type": "code",
   "execution_count": 34,
   "metadata": {
    "collapsed": false,
    "jupyter": {
     "outputs_hidden": false
    }
   },
   "outputs": [],
   "source": [
    "knl = lp.make_kernel(\n",
    "        \"{ [i, j]: 0<=i<n and 0<=j < 2}\",\n",
    "        \"\"\"\n",
    "        <> ctr = make_uint4(0, 1, 2, 3)\n",
    "        for i\n",
    "            <> key2 = make_uint2(i, k1)\n",
    "            <> rng_res, <> dummy = philox4x32_f32(ctr, key2)\n",
    "\n",
    "            samples[i,0] = rng_res.s0 + 1j*rng_res.s1 {id=samp0}\n",
    "            samples[i,1] = rng_res.s2 + 1j*rng_res.s3 {id=samp1}\n",
    "\n",
    "            accepted[i,j] = real(samples[i,j] * conj(samples[i,j])) < 1 {dep=samp*,nosync=samp*}\n",
    "        end\n",
    "        \"\"\")                                                                     \n",
    "\n",
    "knl = lp.split_iname(knl, \"i\", 128, outer_tag=\"g.0\", inner_tag=\"l.0\")\n",
    "knl = lp.set_options(knl, return_dict=True)"
   ]
  },
  {
   "cell_type": "code",
   "execution_count": 35,
   "metadata": {},
   "outputs": [
    {
     "name": "stdout",
     "output_type": "stream",
     "text": [
      "---------------------------------------------------------------------------\n",
      "KERNEL: loopy_kernel\n",
      "---------------------------------------------------------------------------\n",
      "ARGUMENTS:\n",
      "accepted: type: <auto/runtime>, shape: (n, 2), dim_tags: (N1:stride:2, N0:stride:1) aspace: global\n",
      "k1: ValueArg, type: <auto/runtime>\n",
      "n: ValueArg, type: <auto/runtime>\n",
      "samples: type: <auto/runtime>, shape: (n, 2), dim_tags: (N1:stride:2, N0:stride:1) aspace: global\n",
      "---------------------------------------------------------------------------\n",
      "DOMAINS:\n",
      "[n] -> { [j, i_outer, i_inner] : 0 <= j <= 1 and i_inner >= 0 and -128i_outer <= i_inner <= 127 and i_inner < n - 128i_outer }\n",
      "---------------------------------------------------------------------------\n",
      "INAME IMPLEMENTATION TAGS:\n",
      "i_inner: l.0\n",
      "i_outer: g.0\n",
      "j: None\n",
      "---------------------------------------------------------------------------\n",
      "TEMPORARIES:\n",
      "ctr: type: <auto/runtime>, shape: () scope:auto\n",
      "dummy: type: <auto/runtime>, shape: () scope:auto\n",
      "key2: type: <auto/runtime>, shape: () scope:auto\n",
      "rng_res: type: <auto/runtime>, shape: () scope:auto\n",
      "---------------------------------------------------------------------------\n",
      "INSTRUCTIONS:\n",
      "↱   \u001b[36mctr\u001b[0m = \u001b[35mmake_uint4(0, 1, 2, 3)\u001b[0m  {id=\u001b[32minsn\u001b[0m}\n",
      "│   for i_inner, i_outer\n",
      "│↱      \u001b[36mkey2\u001b[0m = \u001b[35mmake_uint2(i_inner + i_outer*128, k1)\u001b[0m  {id=\u001b[32minsn_0\u001b[0m}\n",
      "└└↱     \u001b[36mrng_res, dummy\u001b[0m = \u001b[35mphilox4x32_f32(ctr, key2)\u001b[0m  {id=\u001b[32minsn_1\u001b[0m}\n",
      "↱ ├     \u001b[36msamples[i_inner + i_outer*128, 0]\u001b[0m = \u001b[35mrng_res.s0 + 1j*rng_res.s1\u001b[0m  {id=\u001b[32msamp0\u001b[0m}\n",
      "│↱└     \u001b[36msamples[i_inner + i_outer*128, 1]\u001b[0m = \u001b[35mrng_res.s2 + 1j*rng_res.s3\u001b[0m  {id=\u001b[32msamp1\u001b[0m}\n",
      "││      for j\n",
      "└└        \u001b[36maccepted[i_inner + i_outer*128, j]\u001b[0m = \u001b[35mreal(samples[i_inner + i_outer*128, j]*conj(samples[i_inner + i_outer*128, j])) < 1\u001b[0m  {id=\u001b[32minsn_2\u001b[0m, no_sync_with=samp0@any:samp1@any}\n",
      "    end i_inner, i_outer, j\n",
      "---------------------------------------------------------------------------\n"
     ]
    }
   ],
   "source": [
    "print(knl)"
   ]
  },
  {
   "cell_type": "code",
   "execution_count": 36,
   "metadata": {
    "collapsed": false,
    "jupyter": {
     "outputs_hidden": false
    }
   },
   "outputs": [],
   "source": [
    "knl = lp.set_options(knl, write_cl=True)"
   ]
  },
  {
   "cell_type": "code",
   "execution_count": 37,
   "metadata": {
    "collapsed": false,
    "jupyter": {
     "outputs_hidden": false
    }
   },
   "outputs": [
    {
     "name": "stdout",
     "output_type": "stream",
     "text": [
      "\u001b[36m#\u001b[39;49;00m\u001b[36mdefine lid(N) ((int) get_local_id(N))\u001b[39;49;00m\u001b[36m\u001b[39;49;00m\n",
      "\u001b[36m#\u001b[39;49;00m\u001b[36mdefine gid(N) ((int) get_group_id(N))\u001b[39;49;00m\u001b[36m\u001b[39;49;00m\n",
      "\u001b[36m#\u001b[39;49;00m\u001b[36mif __OPENCL_C_VERSION__ < 120\u001b[39;49;00m\u001b[36m\u001b[39;49;00m\n",
      "\u001b[36m#\u001b[39;49;00m\u001b[36mpragma OPENCL EXTENSION cl_khr_fp64: enable\u001b[39;49;00m\u001b[36m\u001b[39;49;00m\n",
      "\u001b[36m#\u001b[39;49;00m\u001b[36mendif\u001b[39;49;00m\u001b[36m\u001b[39;49;00m\n",
      "\u001b[36m#\u001b[39;49;00m\u001b[36mdefine PYOPENCL_DEFINE_CDOUBLE\u001b[39;49;00m\u001b[36m\u001b[39;49;00m\n",
      "\n",
      "\u001b[36m#\u001b[39;49;00m\u001b[36minclude\u001b[39;49;00m \u001b[37m<pyopencl-complex.h>\u001b[39;49;00m\u001b[36m\u001b[39;49;00m\n",
      "\u001b[36m#\u001b[39;49;00m\u001b[36minclude\u001b[39;49;00m \u001b[37m<pyopencl-random123/philox.cl>\u001b[39;49;00m\u001b[36m\u001b[39;49;00m\n",
      "\n",
      "\n",
      "\n",
      "\u001b[34mtypedef\u001b[39;49;00m \u001b[34munion\u001b[39;49;00m {\n",
      "    uint4 v;\n",
      "    philox4x32_ctr_t c;\n",
      "} philox4x32_ctr_vec_union;\n",
      "\n",
      "\n",
      "uint4 \u001b[32mphilox4x32_bump\u001b[39;49;00m(uint4 ctr)\n",
      "{\n",
      "    \u001b[34mif\u001b[39;49;00m (++ctr.x == \u001b[34m0\u001b[39;49;00m)\n",
      "        \u001b[34mif\u001b[39;49;00m (++ctr.y == \u001b[34m0\u001b[39;49;00m)\n",
      "            ++ctr.z;\n",
      "    \u001b[34mreturn\u001b[39;49;00m ctr;\n",
      "}\n",
      "\n",
      "uint4 \u001b[32mphilox4x32_gen\u001b[39;49;00m(\n",
      "        uint4 ctr,\n",
      "        uint2 key,\n",
      "        uint4 *new_ctr)\n",
      "{\n",
      "    philox4x32_ctr_vec_union result;\n",
      "    result.c = philox4x32(\n",
      "        *(philox4x32_ctr_t *) &ctr,\n",
      "        *(philox4x32_key_t *) &key);\n",
      "    *new_ctr = philox4x32_bump(ctr);\n",
      "    \u001b[34mreturn\u001b[39;49;00m result.v;\n",
      "}\n",
      "\n",
      "float4 \u001b[32mphilox4x32_f32\u001b[39;49;00m(\n",
      "        uint4 ctr,\n",
      "        uint2 key,\n",
      "        uint4 *new_ctr)\n",
      "{\n",
      "    *new_ctr = ctr;\n",
      "    \u001b[34mreturn\u001b[39;49;00m\n",
      "        convert_float4(philox4x32_gen(*new_ctr, key, new_ctr))\n",
      "        * \u001b[34m2.3283064365386963e-10\u001b[39;49;00mf;\n",
      "}\n",
      "\n",
      "double4 \u001b[32mphilox4x32_f64\u001b[39;49;00m(\n",
      "        uint4 ctr,\n",
      "        uint2 key,\n",
      "        uint4 *new_ctr)\n",
      "{\n",
      "    *new_ctr = ctr;\n",
      "        \u001b[34mreturn\u001b[39;49;00m\n",
      "            convert_double4(philox4x32_gen(*new_ctr, key, new_ctr))\n",
      "            * \u001b[34m2.3283064365386963e-10\u001b[39;49;00m\n",
      "            +\n",
      "            convert_double4(philox4x32_gen(*new_ctr, key, new_ctr))\n",
      "            * \u001b[34m5.421010862427522e-20\u001b[39;49;00m;\n",
      "\n",
      "}\n",
      "\n",
      "__kernel \u001b[36mvoid\u001b[39;49;00m \u001b[32m__attribute__\u001b[39;49;00m ((reqd_work_group_size(\u001b[34m128\u001b[39;49;00m, \u001b[34m1\u001b[39;49;00m, \u001b[34m1\u001b[39;49;00m))) loopy_kernel(__global \u001b[36mint\u001b[39;49;00m *__restrict__ accepted, \u001b[36mint\u001b[39;49;00m \u001b[34mconst\u001b[39;49;00m k1, \u001b[36mint\u001b[39;49;00m \u001b[34mconst\u001b[39;49;00m n, __global cdouble_t *__restrict__ samples)\n",
      "{\n",
      "  uint4 ctr;\n",
      "  uint4 dummy;\n",
      "  uint4 insn_1_retval_1;\n",
      "  uint2 key2;\n",
      "  float4 rng_res;\n",
      "\n",
      "  \u001b[34mif\u001b[39;49;00m (-\u001b[34m1\u001b[39;49;00m + -\u001b[34m128\u001b[39;49;00m * gid(\u001b[34m0\u001b[39;49;00m) + -\u001b[34m1\u001b[39;49;00m * lid(\u001b[34m0\u001b[39;49;00m) + n >= \u001b[34m0\u001b[39;49;00m)\n",
      "  {\n",
      "    key2 = (uint2) (lid(\u001b[34m0\u001b[39;49;00m) + gid(\u001b[34m0\u001b[39;49;00m) * \u001b[34m128\u001b[39;49;00m, k1);\n",
      "    ctr = (uint4) (\u001b[34m0\u001b[39;49;00m, \u001b[34m1\u001b[39;49;00m, \u001b[34m2\u001b[39;49;00m, \u001b[34m3\u001b[39;49;00m);\n",
      "    rng_res = philox4x32_f32(ctr, key2, &(insn_1_retval_1));\n",
      "    dummy = insn_1_retval_1;\n",
      "    samples[\u001b[34m2\u001b[39;49;00m * (\u001b[34m128\u001b[39;49;00m * gid(\u001b[34m0\u001b[39;49;00m) + lid(\u001b[34m0\u001b[39;49;00m)) + \u001b[34m1\u001b[39;49;00m] = cdouble_radd(rng_res.s2, cdouble_rmul(rng_res.s3, cdouble_new(\u001b[34m0.0\u001b[39;49;00m, \u001b[34m1.0\u001b[39;49;00m)));\n",
      "    samples[\u001b[34m2\u001b[39;49;00m * (\u001b[34m128\u001b[39;49;00m * gid(\u001b[34m0\u001b[39;49;00m) + lid(\u001b[34m0\u001b[39;49;00m))] = cdouble_radd(rng_res.s0, cdouble_rmul(rng_res.s1, cdouble_new(\u001b[34m0.0\u001b[39;49;00m, \u001b[34m1.0\u001b[39;49;00m)));\n",
      "    \u001b[34mfor\u001b[39;49;00m (\u001b[36mint\u001b[39;49;00m j = \u001b[34m0\u001b[39;49;00m; j <= \u001b[34m1\u001b[39;49;00m; ++j)\n",
      "      accepted[\u001b[34m2\u001b[39;49;00m * (\u001b[34m128\u001b[39;49;00m * gid(\u001b[34m0\u001b[39;49;00m) + lid(\u001b[34m0\u001b[39;49;00m)) + j] = cdouble_real(cdouble_rmul(\u001b[34m1\u001b[39;49;00m, cdouble_mul(samples[\u001b[34m2\u001b[39;49;00m * (\u001b[34m128\u001b[39;49;00m * gid(\u001b[34m0\u001b[39;49;00m) + lid(\u001b[34m0\u001b[39;49;00m)) + j], cdouble_conj(samples[\u001b[34m2\u001b[39;49;00m * (\u001b[34m128\u001b[39;49;00m * gid(\u001b[34m0\u001b[39;49;00m) + lid(\u001b[34m0\u001b[39;49;00m)) + j])))) < \u001b[34m1.0\u001b[39;49;00m;\n",
      "  }\n",
      "}\n",
      "\n"
     ]
    }
   ],
   "source": [
    "evt, result = knl(queue, n=100000, k1=np.int32(99123))\n",
    "\n",
    "samples = result[\"samples\"].reshape(-1)\n",
    "accepted = result[\"accepted\"].reshape(-1)"
   ]
  },
  {
   "cell_type": "code",
   "execution_count": 38,
   "metadata": {
    "collapsed": false,
    "jupyter": {
     "outputs_hidden": false
    }
   },
   "outputs": [
    {
     "data": {
      "text/plain": [
       "[<matplotlib.lines.Line2D at 0x7fa281a13640>]"
      ]
     },
     "execution_count": 38,
     "metadata": {},
     "output_type": "execute_result"
    },
    {
     "data": {
      "image/png": "[encoded data removed]",
      "text/plain": [
       "<Figure size 432x288 with 1 Axes>"
      ]
     },
     "metadata": {
      "needs_background": "light"
     },
     "output_type": "display_data"
    }
   ],
   "source": [
    "import matplotlib.pyplot as pt\n",
    "\n",
    "samples_host = samples.get()\n",
    "accepted_host = accepted.get() != 0\n",
    "\n",
    "pt.gca().set_aspect(\"equal\")\n",
    "pt.plot(\n",
    "    samples_host[accepted_host].real,\n",
    "    samples_host[accepted_host].imag, \"o\")"
   ]
  },
  {
   "cell_type": "markdown",
   "metadata": {},
   "source": [
    "Lastly, we compute the ratio of accepted to the total number of samples to get our approximate value of $\\pi$:"
   ]
  },
  {
   "cell_type": "code",
   "execution_count": 39,
   "metadata": {
    "collapsed": false,
    "jupyter": {
     "outputs_hidden": false
    }
   },
   "outputs": [
    {
     "data": {
      "text/plain": [
       "3.14292"
      ]
     },
     "execution_count": 39,
     "metadata": {},
     "output_type": "execute_result"
    }
   ],
   "source": [
    "4 * cl.array.sum(accepted).get() / len(samples)"
   ]
  },
  {
   "cell_type": "markdown",
   "metadata": {},
   "source": [
    "We (roughly) expect convergence as $1/\\sqrt N$, so this gives an idea of the relative error to expect:"
   ]
  },
  {
   "cell_type": "code",
   "execution_count": 40,
   "metadata": {
    "collapsed": false,
    "jupyter": {
     "outputs_hidden": false
    }
   },
   "outputs": [
    {
     "data": {
      "text/plain": [
       "0.00223606797749979"
      ]
     },
     "execution_count": 40,
     "metadata": {},
     "output_type": "execute_result"
    }
   ],
   "source": [
    "1/np.sqrt(len(samples))"
   ]
  },
  {
   "cell_type": "markdown",
   "metadata": {},
   "source": [
    "## Direct Reduction"
   ]
  },
  {
   "cell_type": "code",
   "execution_count": 56,
   "metadata": {
    "collapsed": false,
    "jupyter": {
     "outputs_hidden": false
    }
   },
   "outputs": [
    {
     "name": "stdout",
     "output_type": "stream",
     "text": [
      "\u001b[36m#\u001b[39;49;00m\u001b[36mdefine lid(N) ((int) get_local_id(N))\u001b[39;49;00m\u001b[36m\u001b[39;49;00m\n",
      "\u001b[36m#\u001b[39;49;00m\u001b[36mdefine gid(N) ((int) get_group_id(N))\u001b[39;49;00m\u001b[36m\u001b[39;49;00m\n",
      "\u001b[36m#\u001b[39;49;00m\u001b[36mif __OPENCL_C_VERSION__ < 120\u001b[39;49;00m\u001b[36m\u001b[39;49;00m\n",
      "\u001b[36m#\u001b[39;49;00m\u001b[36mpragma OPENCL EXTENSION cl_khr_fp64: enable\u001b[39;49;00m\u001b[36m\u001b[39;49;00m\n",
      "\u001b[36m#\u001b[39;49;00m\u001b[36mendif\u001b[39;49;00m\u001b[36m\u001b[39;49;00m\n",
      "\u001b[36m#\u001b[39;49;00m\u001b[36mdefine PYOPENCL_DEFINE_CDOUBLE\u001b[39;49;00m\u001b[36m\u001b[39;49;00m\n",
      "\n",
      "\u001b[36m#\u001b[39;49;00m\u001b[36minclude\u001b[39;49;00m \u001b[37m<pyopencl-complex.h>\u001b[39;49;00m\u001b[36m\u001b[39;49;00m\n",
      "\u001b[36m#\u001b[39;49;00m\u001b[36minclude\u001b[39;49;00m \u001b[37m<pyopencl-random123/philox.cl>\u001b[39;49;00m\u001b[36m\u001b[39;49;00m\n",
      "\n",
      "\n",
      "\n",
      "\u001b[34mtypedef\u001b[39;49;00m \u001b[34munion\u001b[39;49;00m {\n",
      "    uint4 v;\n",
      "    philox4x32_ctr_t c;\n",
      "} philox4x32_ctr_vec_union;\n",
      "\n",
      "\n",
      "uint4 \u001b[32mphilox4x32_bump\u001b[39;49;00m(uint4 ctr)\n",
      "{\n",
      "    \u001b[34mif\u001b[39;49;00m (++ctr.x == \u001b[34m0\u001b[39;49;00m)\n",
      "        \u001b[34mif\u001b[39;49;00m (++ctr.y == \u001b[34m0\u001b[39;49;00m)\n",
      "            ++ctr.z;\n",
      "    \u001b[34mreturn\u001b[39;49;00m ctr;\n",
      "}\n",
      "\n",
      "uint4 \u001b[32mphilox4x32_gen\u001b[39;49;00m(\n",
      "        uint4 ctr,\n",
      "        uint2 key,\n",
      "        uint4 *new_ctr)\n",
      "{\n",
      "    philox4x32_ctr_vec_union result;\n",
      "    result.c = philox4x32(\n",
      "        *(philox4x32_ctr_t *) &ctr,\n",
      "        *(philox4x32_key_t *) &key);\n",
      "    *new_ctr = philox4x32_bump(ctr);\n",
      "    \u001b[34mreturn\u001b[39;49;00m result.v;\n",
      "}\n",
      "\n",
      "float4 \u001b[32mphilox4x32_f32\u001b[39;49;00m(\n",
      "        uint4 ctr,\n",
      "        uint2 key,\n",
      "        uint4 *new_ctr)\n",
      "{\n",
      "    *new_ctr = ctr;\n",
      "    \u001b[34mreturn\u001b[39;49;00m\n",
      "        convert_float4(philox4x32_gen(*new_ctr, key, new_ctr))\n",
      "        * \u001b[34m2.3283064365386963e-10\u001b[39;49;00mf;\n",
      "}\n",
      "\n",
      "double4 \u001b[32mphilox4x32_f64\u001b[39;49;00m(\n",
      "        uint4 ctr,\n",
      "        uint2 key,\n",
      "        uint4 *new_ctr)\n",
      "{\n",
      "    *new_ctr = ctr;\n",
      "        \u001b[34mreturn\u001b[39;49;00m\n",
      "            convert_double4(philox4x32_gen(*new_ctr, key, new_ctr))\n",
      "            * \u001b[34m2.3283064365386963e-10\u001b[39;49;00m\n",
      "            +\n",
      "            convert_double4(philox4x32_gen(*new_ctr, key, new_ctr))\n",
      "            * \u001b[34m5.421010862427522e-20\u001b[39;49;00m;\n",
      "\n",
      "}\n",
      "\n",
      "__kernel \u001b[36mvoid\u001b[39;49;00m \u001b[32m__attribute__\u001b[39;49;00m ((reqd_work_group_size(\u001b[34m128\u001b[39;49;00m, \u001b[34m1\u001b[39;49;00m, \u001b[34m1\u001b[39;49;00m))) loopy_kernel(\u001b[36mint\u001b[39;49;00m \u001b[34mconst\u001b[39;49;00m nl, __global \u001b[36mint\u001b[39;49;00m *__restrict__ result, __global \u001b[36mint\u001b[39;49;00m *__restrict__ tmp)\n",
      "{\n",
      "  __local \u001b[36mint\u001b[39;49;00m acc_l_inner[\u001b[34m128\u001b[39;49;00m];\n",
      "  \u001b[36mint\u001b[39;49;00m acc_l_outer;\n",
      "  \u001b[36mint\u001b[39;49;00m accepted[\u001b[34m2\u001b[39;49;00m];\n",
      "  uint4 ctr;\n",
      "  uint4 dummy;\n",
      "  uint4 insn_1_retval_1;\n",
      "  uint2 key2;\n",
      "  \u001b[36mint\u001b[39;49;00m neutral_l_inner;\n",
      "  float4 rng_res;\n",
      "  cdouble_t samples[\u001b[34m2\u001b[39;49;00m];\n",
      "\n",
      "  \u001b[34mif\u001b[39;49;00m (-\u001b[34m1\u001b[39;49;00m + nl >= \u001b[34m0\u001b[39;49;00m)\n",
      "  {\n",
      "    \u001b[34mif\u001b[39;49;00m (-\u001b[34m1\u001b[39;49;00m + -\u001b[34m1\u001b[39;49;00m * lid(\u001b[34m0\u001b[39;49;00m) + nl >= \u001b[34m0\u001b[39;49;00m)\n",
      "      acc_l_outer = \u001b[34m0\u001b[39;49;00m;\n",
      "    neutral_l_inner = \u001b[34m0\u001b[39;49;00m;\n",
      "    acc_l_inner[lid(\u001b[34m0\u001b[39;49;00m)] = \u001b[34m0\u001b[39;49;00m;\n",
      "    ctr = (uint4) (\u001b[34m0\u001b[39;49;00m, \u001b[34m1\u001b[39;49;00m, \u001b[34m2\u001b[39;49;00m, \u001b[34m3\u001b[39;49;00m);\n",
      "    \u001b[34mif\u001b[39;49;00m (-\u001b[34m1\u001b[39;49;00m + -\u001b[34m1\u001b[39;49;00m * lid(\u001b[34m0\u001b[39;49;00m) + nl >= \u001b[34m0\u001b[39;49;00m)\n",
      "    {\n",
      "      \u001b[34mfor\u001b[39;49;00m (\u001b[36mint\u001b[39;49;00m l_outer = \u001b[34m0\u001b[39;49;00m; l_outer <= -\u001b[34m1\u001b[39;49;00m + -\u001b[34m1\u001b[39;49;00m * lid(\u001b[34m0\u001b[39;49;00m) + (\u001b[34m127\u001b[39;49;00m + nl + \u001b[34m127\u001b[39;49;00m * lid(\u001b[34m0\u001b[39;49;00m)) / \u001b[34m128\u001b[39;49;00m; ++l_outer)\n",
      "      {\n",
      "        key2 = (uint2) (nl * gid(\u001b[34m0\u001b[39;49;00m) + lid(\u001b[34m0\u001b[39;49;00m) + l_outer * \u001b[34m128\u001b[39;49;00m, \u001b[34m1234\u001b[39;49;00m);\n",
      "        rng_res = philox4x32_f32(ctr, key2, &(insn_1_retval_1));\n",
      "        dummy = insn_1_retval_1;\n",
      "        samples[\u001b[34m1\u001b[39;49;00m] = cdouble_radd(rng_res.s2, cdouble_rmul(rng_res.s3, cdouble_new(\u001b[34m0.0\u001b[39;49;00m, \u001b[34m1.0\u001b[39;49;00m)));\n",
      "        samples[\u001b[34m0\u001b[39;49;00m] = cdouble_radd(rng_res.s0, cdouble_rmul(rng_res.s1, cdouble_new(\u001b[34m0.0\u001b[39;49;00m, \u001b[34m1.0\u001b[39;49;00m)));\n",
      "        \u001b[34mfor\u001b[39;49;00m (\u001b[36mint\u001b[39;49;00m isamp = \u001b[34m0\u001b[39;49;00m; isamp <= \u001b[34m1\u001b[39;49;00m; ++isamp)\n",
      "          accepted[isamp] = cdouble_real(cdouble_rmul(\u001b[34m1\u001b[39;49;00m, cdouble_mul(samples[isamp], cdouble_conj(samples[isamp])))) < \u001b[34m1.0\u001b[39;49;00m;\n",
      "        acc_l_outer = acc_l_outer + accepted[\u001b[34m0\u001b[39;49;00m] + accepted[\u001b[34m1\u001b[39;49;00m];\n",
      "      }\n",
      "      acc_l_inner[lid(\u001b[34m0\u001b[39;49;00m)] = neutral_l_inner + acc_l_outer;\n",
      "    }\n",
      "    barrier(CLK_LOCAL_MEM_FENCE) \u001b[37m/* for acc_l_inner (red_l_inner_stage_0 depends on insn_3_l_inner_init) */\u001b[39;49;00m;\n",
      "    \u001b[34mif\u001b[39;49;00m (\u001b[34m63\u001b[39;49;00m + -\u001b[34m1\u001b[39;49;00m * lid(\u001b[34m0\u001b[39;49;00m) >= \u001b[34m0\u001b[39;49;00m)\n",
      "      acc_l_inner[lid(\u001b[34m0\u001b[39;49;00m)] = acc_l_inner[lid(\u001b[34m0\u001b[39;49;00m)] + acc_l_inner[\u001b[34m64\u001b[39;49;00m + lid(\u001b[34m0\u001b[39;49;00m)];\n",
      "    barrier(CLK_LOCAL_MEM_FENCE) \u001b[37m/* for acc_l_inner (red_l_inner_stage_1 depends on red_l_inner_stage_0) */\u001b[39;49;00m;\n",
      "    \u001b[34mif\u001b[39;49;00m (\u001b[34m31\u001b[39;49;00m + -\u001b[34m1\u001b[39;49;00m * lid(\u001b[34m0\u001b[39;49;00m) >= \u001b[34m0\u001b[39;49;00m)\n",
      "      acc_l_inner[lid(\u001b[34m0\u001b[39;49;00m)] = acc_l_inner[lid(\u001b[34m0\u001b[39;49;00m)] + acc_l_inner[\u001b[34m32\u001b[39;49;00m + lid(\u001b[34m0\u001b[39;49;00m)];\n",
      "    barrier(CLK_LOCAL_MEM_FENCE) \u001b[37m/* for acc_l_inner (red_l_inner_stage_2 depends on red_l_inner_stage_1) */\u001b[39;49;00m;\n",
      "    \u001b[34mif\u001b[39;49;00m (\u001b[34m15\u001b[39;49;00m + -\u001b[34m1\u001b[39;49;00m * lid(\u001b[34m0\u001b[39;49;00m) >= \u001b[34m0\u001b[39;49;00m)\n",
      "      acc_l_inner[lid(\u001b[34m0\u001b[39;49;00m)] = acc_l_inner[lid(\u001b[34m0\u001b[39;49;00m)] + acc_l_inner[\u001b[34m16\u001b[39;49;00m + lid(\u001b[34m0\u001b[39;49;00m)];\n",
      "    barrier(CLK_LOCAL_MEM_FENCE) \u001b[37m/* for acc_l_inner (red_l_inner_stage_3 depends on red_l_inner_stage_2) */\u001b[39;49;00m;\n",
      "    \u001b[34mif\u001b[39;49;00m (\u001b[34m7\u001b[39;49;00m + -\u001b[34m1\u001b[39;49;00m * lid(\u001b[34m0\u001b[39;49;00m) >= \u001b[34m0\u001b[39;49;00m)\n",
      "      acc_l_inner[lid(\u001b[34m0\u001b[39;49;00m)] = acc_l_inner[lid(\u001b[34m0\u001b[39;49;00m)] + acc_l_inner[\u001b[34m8\u001b[39;49;00m + lid(\u001b[34m0\u001b[39;49;00m)];\n",
      "    barrier(CLK_LOCAL_MEM_FENCE) \u001b[37m/* for acc_l_inner (red_l_inner_stage_4 depends on red_l_inner_stage_3) */\u001b[39;49;00m;\n",
      "    \u001b[34mif\u001b[39;49;00m (\u001b[34m3\u001b[39;49;00m + -\u001b[34m1\u001b[39;49;00m * lid(\u001b[34m0\u001b[39;49;00m) >= \u001b[34m0\u001b[39;49;00m)\n",
      "      acc_l_inner[lid(\u001b[34m0\u001b[39;49;00m)] = acc_l_inner[lid(\u001b[34m0\u001b[39;49;00m)] + acc_l_inner[\u001b[34m4\u001b[39;49;00m + lid(\u001b[34m0\u001b[39;49;00m)];\n",
      "    barrier(CLK_LOCAL_MEM_FENCE) \u001b[37m/* for acc_l_inner (red_l_inner_stage_5 depends on red_l_inner_stage_4) */\u001b[39;49;00m;\n",
      "    \u001b[34mif\u001b[39;49;00m (\u001b[34m1\u001b[39;49;00m + -\u001b[34m1\u001b[39;49;00m * lid(\u001b[34m0\u001b[39;49;00m) >= \u001b[34m0\u001b[39;49;00m)\n",
      "      acc_l_inner[lid(\u001b[34m0\u001b[39;49;00m)] = acc_l_inner[lid(\u001b[34m0\u001b[39;49;00m)] + acc_l_inner[\u001b[34m2\u001b[39;49;00m + lid(\u001b[34m0\u001b[39;49;00m)];\n",
      "    barrier(CLK_LOCAL_MEM_FENCE) \u001b[37m/* for acc_l_inner (red_l_inner_stage_6 depends on red_l_inner_stage_5) */\u001b[39;49;00m;\n",
      "    \u001b[34mif\u001b[39;49;00m (lid(\u001b[34m0\u001b[39;49;00m) == \u001b[34m0\u001b[39;49;00m)\n",
      "      acc_l_inner[\u001b[34m0\u001b[39;49;00m] = acc_l_inner[\u001b[34m0\u001b[39;49;00m] + acc_l_inner[\u001b[34m1\u001b[39;49;00m];\n",
      "    tmp[gid(\u001b[34m0\u001b[39;49;00m)] = acc_l_inner[\u001b[34m0\u001b[39;49;00m];\n",
      "  }\n",
      "}\n",
      "\n",
      "__kernel \u001b[36mvoid\u001b[39;49;00m \u001b[32m__attribute__\u001b[39;49;00m ((reqd_work_group_size(\u001b[34m50\u001b[39;49;00m, \u001b[34m1\u001b[39;49;00m, \u001b[34m1\u001b[39;49;00m))) loopy_kernel_0(\u001b[36mint\u001b[39;49;00m \u001b[34mconst\u001b[39;49;00m nl, __global \u001b[36mint\u001b[39;49;00m *__restrict__ result, __global \u001b[36mint\u001b[39;49;00m *__restrict__ tmp)\n",
      "{\n",
      "  __local \u001b[36mint\u001b[39;49;00m acc_j[\u001b[34m50\u001b[39;49;00m];\n",
      "  \u001b[36mint\u001b[39;49;00m neutral_j;\n",
      "\n",
      "  neutral_j = \u001b[34m0\u001b[39;49;00m;\n",
      "  acc_j[lid(\u001b[34m0\u001b[39;49;00m)] = \u001b[34m0\u001b[39;49;00m;\n",
      "  \u001b[34mif\u001b[39;49;00m (-\u001b[34m1\u001b[39;49;00m + nl >= \u001b[34m0\u001b[39;49;00m)\n",
      "    acc_j[lid(\u001b[34m0\u001b[39;49;00m)] = neutral_j + tmp[lid(\u001b[34m0\u001b[39;49;00m)];\n",
      "  barrier(CLK_LOCAL_MEM_FENCE) \u001b[37m/* for acc_j (red_j_stage_0 depends on finalred_j_init) */\u001b[39;49;00m;\n",
      "  \u001b[34mif\u001b[39;49;00m (\u001b[34m17\u001b[39;49;00m + -\u001b[34m1\u001b[39;49;00m * lid(\u001b[34m0\u001b[39;49;00m) >= \u001b[34m0\u001b[39;49;00m)\n",
      "    acc_j[lid(\u001b[34m0\u001b[39;49;00m)] = acc_j[lid(\u001b[34m0\u001b[39;49;00m)] + acc_j[\u001b[34m32\u001b[39;49;00m + lid(\u001b[34m0\u001b[39;49;00m)];\n",
      "  barrier(CLK_LOCAL_MEM_FENCE) \u001b[37m/* for acc_j (red_j_stage_1 depends on red_j_stage_0) */\u001b[39;49;00m;\n",
      "  \u001b[34mif\u001b[39;49;00m (\u001b[34m15\u001b[39;49;00m + -\u001b[34m1\u001b[39;49;00m * lid(\u001b[34m0\u001b[39;49;00m) >= \u001b[34m0\u001b[39;49;00m)\n",
      "    acc_j[lid(\u001b[34m0\u001b[39;49;00m)] = acc_j[lid(\u001b[34m0\u001b[39;49;00m)] + acc_j[\u001b[34m16\u001b[39;49;00m + lid(\u001b[34m0\u001b[39;49;00m)];\n",
      "  barrier(CLK_LOCAL_MEM_FENCE) \u001b[37m/* for acc_j (red_j_stage_2 depends on red_j_stage_1) */\u001b[39;49;00m;\n",
      "  \u001b[34mif\u001b[39;49;00m (\u001b[34m7\u001b[39;49;00m + -\u001b[34m1\u001b[39;49;00m * lid(\u001b[34m0\u001b[39;49;00m) >= \u001b[34m0\u001b[39;49;00m)\n",
      "    acc_j[lid(\u001b[34m0\u001b[39;49;00m)] = acc_j[lid(\u001b[34m0\u001b[39;49;00m)] + acc_j[\u001b[34m8\u001b[39;49;00m + lid(\u001b[34m0\u001b[39;49;00m)];\n",
      "  barrier(CLK_LOCAL_MEM_FENCE) \u001b[37m/* for acc_j (red_j_stage_3 depends on red_j_stage_2) */\u001b[39;49;00m;\n",
      "  \u001b[34mif\u001b[39;49;00m (\u001b[34m3\u001b[39;49;00m + -\u001b[34m1\u001b[39;49;00m * lid(\u001b[34m0\u001b[39;49;00m) >= \u001b[34m0\u001b[39;49;00m)\n",
      "    acc_j[lid(\u001b[34m0\u001b[39;49;00m)] = acc_j[lid(\u001b[34m0\u001b[39;49;00m)] + acc_j[\u001b[34m4\u001b[39;49;00m + lid(\u001b[34m0\u001b[39;49;00m)];\n",
      "  barrier(CLK_LOCAL_MEM_FENCE) \u001b[37m/* for acc_j (red_j_stage_4 depends on red_j_stage_3) */\u001b[39;49;00m;\n",
      "  \u001b[34mif\u001b[39;49;00m (\u001b[34m1\u001b[39;49;00m + -\u001b[34m1\u001b[39;49;00m * lid(\u001b[34m0\u001b[39;49;00m) >= \u001b[34m0\u001b[39;49;00m)\n",
      "    acc_j[lid(\u001b[34m0\u001b[39;49;00m)] = acc_j[lid(\u001b[34m0\u001b[39;49;00m)] + acc_j[\u001b[34m2\u001b[39;49;00m + lid(\u001b[34m0\u001b[39;49;00m)];\n",
      "  barrier(CLK_LOCAL_MEM_FENCE) \u001b[37m/* for acc_j (red_j_stage_5 depends on red_j_stage_4) */\u001b[39;49;00m;\n",
      "  \u001b[34mif\u001b[39;49;00m (lid(\u001b[34m0\u001b[39;49;00m) == \u001b[34m0\u001b[39;49;00m)\n",
      "    acc_j[\u001b[34m0\u001b[39;49;00m] = acc_j[\u001b[34m0\u001b[39;49;00m] + acc_j[\u001b[34m1\u001b[39;49;00m];\n",
      "  result[\u001b[34m0\u001b[39;49;00m] = acc_j[\u001b[34m0\u001b[39;49;00m];\n",
      "}\n",
      "\n",
      "3.1417216 0.1 billion samples\n"
     ]
    }
   ],
   "source": [
    "knl = lp.make_kernel(\n",
    "        \"{ [l, g, j, isamp]: 0<=l<nl and 0<=g,j<ng and 0<=isamp< 2}\",\n",
    "        \"\"\"\n",
    "        <> ctr = make_uint4(0, 1, 2, 3)\n",
    "        for g\n",
    "            for l\n",
    "                <> key2 = make_uint2(l + nl*g, 1234)\n",
    "                <> rng_res, <> dummy = philox4x32_f32(ctr, key2)\n",
    "\n",
    "                <> samples[0] = rng_res.s0 + 1j*rng_res.s1     {id=samp1}\n",
    "                   samples[1] = rng_res.s2 + 1j*rng_res.s3     {id=samp2}\n",
    "\n",
    "                <> accepted[isamp] = real(samples[isamp] * conj(samples[isamp])) < 1 \\\n",
    "                                                                {dep=samp1:samp2} \n",
    "            end\n",
    "        \n",
    "            <> tmp[g] = sum(l, accepted[0] + accepted[1]) \n",
    "        end\n",
    "        ... gbarrier {id=barr,dep_query=writes:tmp}\n",
    "        result = sum(j, tmp[j]) {id=finalred,dep=barr}\n",
    "        \"\"\")                                                                     \n",
    "\n",
    "size = 1000000\n",
    "ng = 50\n",
    "\n",
    "knl = lp.fix_parameters(knl, ng=ng)                                               \n",
    "\n",
    "knl = lp.set_options(knl, write_cl=True, highlight_cl=True)                                          \n",
    "\n",
    "ref_knl = knl                                                                     \n",
    "\n",
    "knl = lp.split_iname(knl, \"l\", 128, inner_tag=\"l.0\")\n",
    "knl = lp.split_reduction_outward(knl, \"l_inner\")\n",
    "knl = lp.tag_inames(knl, \"g:g.0,j:l.0\")\n",
    "knl = lp.preprocess_kernel(knl)\n",
    "knl = lp.add_dependency(knl, \"id:finalred_j_init\", \"id:barr\")\n",
    "knl = lp.add_dependency(knl, \"id:finalred_j_init_neutral\", \"id:barr\")\n",
    "\n",
    "evt, (result,) = knl(queue, nl=size) \n",
    "\n",
    "nsamples = size*2*ng\n",
    "print(4*result.get()/nsamples, nsamples/1e9, \"billion samples\")"
   ]
  }
 ],
 "metadata": {
  "kernelspec": {
   "display_name": "Python 3",
   "language": "python",
   "name": "python3"
  },
  "language_info": {
   "codemirror_mode": {
    "name": "ipython",
    "version": 3
   },
   "file_extension": ".py",
   "mimetype": "text/x-python",
   "name": "python",
   "nbconvert_exporter": "python",
   "pygments_lexer": "ipython3",
   "version": "3.8.4"
  }
 },
 "nbformat": 4,
 "nbformat_minor": 4
}
